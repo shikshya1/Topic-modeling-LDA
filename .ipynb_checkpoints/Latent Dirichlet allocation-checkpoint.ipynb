{
 "cells": [
  {
   "cell_type": "code",
   "execution_count": 0,
   "metadata": {
    "colab": {
     "base_uri": "https://localhost:8080/",
     "height": 121
    },
    "colab_type": "code",
    "executionInfo": {
     "elapsed": 23106,
     "status": "ok",
     "timestamp": 1585459895627,
     "user": {
      "displayName": "Shikshya Dahal",
      "photoUrl": "",
      "userId": "13672899809593533424"
     },
     "user_tz": -420
    },
    "id": "N2uWc97C380U",
    "outputId": "0db47f15-9516-43b3-fe5a-1b02881408f2"
   },
   "outputs": [
    {
     "name": "stdout",
     "output_type": "stream",
     "text": [
      "Go to this URL in a browser: https://accounts.google.com/o/oauth2/auth?client_id=947318989803-6bn6qk8qdgf4n4g3pfee6491hc0brc4i.apps.googleusercontent.com&redirect_uri=urn%3aietf%3awg%3aoauth%3a2.0%3aoob&response_type=code&scope=email%20https%3a%2f%2fwww.googleapis.com%2fauth%2fdocs.test%20https%3a%2f%2fwww.googleapis.com%2fauth%2fdrive%20https%3a%2f%2fwww.googleapis.com%2fauth%2fdrive.photos.readonly%20https%3a%2f%2fwww.googleapis.com%2fauth%2fpeopleapi.readonly\n",
      "\n",
      "Enter your authorization code:\n",
      "··········\n",
      "Mounted at /content/drive\n"
     ]
    }
   ],
   "source": [
    "\n",
    "from google.colab import drive\n",
    "drive.mount('/content/drive', force_remount=True)\n",
    "\n",
    "import sys\n",
    "sys.path.append('/content/drive/My Drive/')"
   ]
  },
  {
   "cell_type": "code",
   "execution_count": 0,
   "metadata": {
    "colab": {
     "base_uri": "https://localhost:8080/",
     "height": 353
    },
    "colab_type": "code",
    "executionInfo": {
     "elapsed": 5201,
     "status": "ok",
     "timestamp": 1585459975156,
     "user": {
      "displayName": "Shikshya Dahal",
      "photoUrl": "",
      "userId": "13672899809593533424"
     },
     "user_tz": -420
    },
    "id": "SxnWwfKp4Avn",
    "outputId": "6f689de8-4855-4a80-a7fe-62c94f684bc9"
   },
   "outputs": [
    {
     "name": "stdout",
     "output_type": "stream",
     "text": [
      "Requirement already satisfied: spacy in /usr/local/lib/python3.6/dist-packages (2.2.4)\n",
      "Requirement already satisfied: preshed<3.1.0,>=3.0.2 in /usr/local/lib/python3.6/dist-packages (from spacy) (3.0.2)\n",
      "Requirement already satisfied: srsly<1.1.0,>=1.0.2 in /usr/local/lib/python3.6/dist-packages (from spacy) (1.0.2)\n",
      "Requirement already satisfied: catalogue<1.1.0,>=0.0.7 in /usr/local/lib/python3.6/dist-packages (from spacy) (1.0.0)\n",
      "Requirement already satisfied: murmurhash<1.1.0,>=0.28.0 in /usr/local/lib/python3.6/dist-packages (from spacy) (1.0.2)\n",
      "Requirement already satisfied: thinc==7.4.0 in /usr/local/lib/python3.6/dist-packages (from spacy) (7.4.0)\n",
      "Requirement already satisfied: requests<3.0.0,>=2.13.0 in /usr/local/lib/python3.6/dist-packages (from spacy) (2.21.0)\n",
      "Requirement already satisfied: numpy>=1.15.0 in /usr/local/lib/python3.6/dist-packages (from spacy) (1.18.2)\n",
      "Requirement already satisfied: cymem<2.1.0,>=2.0.2 in /usr/local/lib/python3.6/dist-packages (from spacy) (2.0.3)\n",
      "Requirement already satisfied: plac<1.2.0,>=0.9.6 in /usr/local/lib/python3.6/dist-packages (from spacy) (1.1.3)\n",
      "Requirement already satisfied: blis<0.5.0,>=0.4.0 in /usr/local/lib/python3.6/dist-packages (from spacy) (0.4.1)\n",
      "Requirement already satisfied: wasabi<1.1.0,>=0.4.0 in /usr/local/lib/python3.6/dist-packages (from spacy) (0.6.0)\n",
      "Requirement already satisfied: tqdm<5.0.0,>=4.38.0 in /usr/local/lib/python3.6/dist-packages (from spacy) (4.38.0)\n",
      "Requirement already satisfied: setuptools in /usr/local/lib/python3.6/dist-packages (from spacy) (46.0.0)\n",
      "Requirement already satisfied: importlib-metadata>=0.20; python_version < \"3.8\" in /usr/local/lib/python3.6/dist-packages (from catalogue<1.1.0,>=0.0.7->spacy) (1.5.0)\n",
      "Requirement already satisfied: certifi>=2017.4.17 in /usr/local/lib/python3.6/dist-packages (from requests<3.0.0,>=2.13.0->spacy) (2019.11.28)\n",
      "Requirement already satisfied: urllib3<1.25,>=1.21.1 in /usr/local/lib/python3.6/dist-packages (from requests<3.0.0,>=2.13.0->spacy) (1.24.3)\n",
      "Requirement already satisfied: idna<2.9,>=2.5 in /usr/local/lib/python3.6/dist-packages (from requests<3.0.0,>=2.13.0->spacy) (2.8)\n",
      "Requirement already satisfied: chardet<3.1.0,>=3.0.2 in /usr/local/lib/python3.6/dist-packages (from requests<3.0.0,>=2.13.0->spacy) (3.0.4)\n",
      "Requirement already satisfied: zipp>=0.5 in /usr/local/lib/python3.6/dist-packages (from importlib-metadata>=0.20; python_version < \"3.8\"->catalogue<1.1.0,>=0.0.7->spacy) (3.1.0)\n"
     ]
    }
   ],
   "source": [
    "!pip install spacy"
   ]
  },
  {
   "cell_type": "code",
   "execution_count": 0,
   "metadata": {
    "colab": {
     "base_uri": "https://localhost:8080/",
     "height": 605
    },
    "colab_type": "code",
    "executionInfo": {
     "elapsed": 11535,
     "status": "ok",
     "timestamp": 1585459981906,
     "user": {
      "displayName": "Shikshya Dahal",
      "photoUrl": "",
      "userId": "13672899809593533424"
     },
     "user_tz": -420
    },
    "id": "iU0nF2bw4WN4",
    "outputId": "a0ff349f-ccc1-4863-c926-d8b7e03fd40c"
   },
   "outputs": [
    {
     "name": "stdout",
     "output_type": "stream",
     "text": [
      "Collecting pyLDAvis\n",
      "\u001b[?25l  Downloading https://files.pythonhosted.org/packages/a5/3a/af82e070a8a96e13217c8f362f9a73e82d61ac8fff3a2561946a97f96266/pyLDAvis-2.1.2.tar.gz (1.6MB)\n",
      "\u001b[K     |████████████████████████████████| 1.6MB 2.9MB/s \n",
      "\u001b[?25hRequirement already satisfied: wheel>=0.23.0 in /usr/local/lib/python3.6/dist-packages (from pyLDAvis) (0.34.2)\n",
      "Requirement already satisfied: numpy>=1.9.2 in /usr/local/lib/python3.6/dist-packages (from pyLDAvis) (1.18.2)\n",
      "Requirement already satisfied: scipy>=0.18.0 in /usr/local/lib/python3.6/dist-packages (from pyLDAvis) (1.4.1)\n",
      "Requirement already satisfied: pandas>=0.17.0 in /usr/local/lib/python3.6/dist-packages (from pyLDAvis) (0.25.3)\n",
      "Requirement already satisfied: joblib>=0.8.4 in /usr/local/lib/python3.6/dist-packages (from pyLDAvis) (0.14.1)\n",
      "Requirement already satisfied: jinja2>=2.7.2 in /usr/local/lib/python3.6/dist-packages (from pyLDAvis) (2.11.1)\n",
      "Requirement already satisfied: numexpr in /usr/local/lib/python3.6/dist-packages (from pyLDAvis) (2.7.1)\n",
      "Requirement already satisfied: pytest in /usr/local/lib/python3.6/dist-packages (from pyLDAvis) (3.6.4)\n",
      "Requirement already satisfied: future in /usr/local/lib/python3.6/dist-packages (from pyLDAvis) (0.16.0)\n",
      "Collecting funcy\n",
      "\u001b[?25l  Downloading https://files.pythonhosted.org/packages/ce/4b/6ffa76544e46614123de31574ad95758c421aae391a1764921b8a81e1eae/funcy-1.14.tar.gz (548kB)\n",
      "\u001b[K     |████████████████████████████████| 552kB 21.9MB/s \n",
      "\u001b[?25hRequirement already satisfied: pytz>=2017.2 in /usr/local/lib/python3.6/dist-packages (from pandas>=0.17.0->pyLDAvis) (2018.9)\n",
      "Requirement already satisfied: python-dateutil>=2.6.1 in /usr/local/lib/python3.6/dist-packages (from pandas>=0.17.0->pyLDAvis) (2.8.1)\n",
      "Requirement already satisfied: MarkupSafe>=0.23 in /usr/local/lib/python3.6/dist-packages (from jinja2>=2.7.2->pyLDAvis) (1.1.1)\n",
      "Requirement already satisfied: attrs>=17.4.0 in /usr/local/lib/python3.6/dist-packages (from pytest->pyLDAvis) (19.3.0)\n",
      "Requirement already satisfied: more-itertools>=4.0.0 in /usr/local/lib/python3.6/dist-packages (from pytest->pyLDAvis) (8.2.0)\n",
      "Requirement already satisfied: pluggy<0.8,>=0.5 in /usr/local/lib/python3.6/dist-packages (from pytest->pyLDAvis) (0.7.1)\n",
      "Requirement already satisfied: six>=1.10.0 in /usr/local/lib/python3.6/dist-packages (from pytest->pyLDAvis) (1.12.0)\n",
      "Requirement already satisfied: atomicwrites>=1.0 in /usr/local/lib/python3.6/dist-packages (from pytest->pyLDAvis) (1.3.0)\n",
      "Requirement already satisfied: py>=1.5.0 in /usr/local/lib/python3.6/dist-packages (from pytest->pyLDAvis) (1.8.1)\n",
      "Requirement already satisfied: setuptools in /usr/local/lib/python3.6/dist-packages (from pytest->pyLDAvis) (46.0.0)\n",
      "Building wheels for collected packages: pyLDAvis, funcy\n",
      "  Building wheel for pyLDAvis (setup.py) ... \u001b[?25l\u001b[?25hdone\n",
      "  Created wheel for pyLDAvis: filename=pyLDAvis-2.1.2-py2.py3-none-any.whl size=97711 sha256=4396071be2bba26ad9c597ca5af1abb6cf9386599564c05f88067766e56ae8cf\n",
      "  Stored in directory: /root/.cache/pip/wheels/98/71/24/513a99e58bb6b8465bae4d2d5e9dba8f0bef8179e3051ac414\n",
      "  Building wheel for funcy (setup.py) ... \u001b[?25l\u001b[?25hdone\n",
      "  Created wheel for funcy: filename=funcy-1.14-py2.py3-none-any.whl size=32042 sha256=1548e429ea4c642244b382d3303786f4a934fa180c4d410752c6b724079410f2\n",
      "  Stored in directory: /root/.cache/pip/wheels/20/5a/d8/1d875df03deae6f178dfdf70238cca33f948ef8a6f5209f2eb\n",
      "Successfully built pyLDAvis funcy\n",
      "Installing collected packages: funcy, pyLDAvis\n",
      "Successfully installed funcy-1.14 pyLDAvis-2.1.2\n"
     ]
    }
   ],
   "source": [
    "!pip install pyLDAvis"
   ]
  },
  {
   "cell_type": "code",
   "execution_count": 0,
   "metadata": {
    "colab": {},
    "colab_type": "code",
    "id": "G2bfVeT_4QRZ"
   },
   "outputs": [],
   "source": [
    "import re\n",
    "import numpy as np\n",
    "import pandas as pd\n",
    "from pprint import pprint\n",
    "\n",
    "# Gensim\n",
    "import gensim\n",
    "import gensim.corpora as corpora\n",
    "from gensim.utils import simple_preprocess\n",
    "from gensim.models import CoherenceModel\n",
    "\n",
    "# spacy for lemmatization\n",
    "import spacy\n",
    "\n",
    "# Plotting tools\n",
    "import pyLDAvis\n",
    "import pyLDAvis.gensim  \n",
    "import matplotlib.pyplot as plt\n",
    "%matplotlib inline"
   ]
  },
  {
   "cell_type": "code",
   "execution_count": 0,
   "metadata": {
    "colab": {
     "base_uri": "https://localhost:8080/",
     "height": 34
    },
    "colab_type": "code",
    "executionInfo": {
     "elapsed": 1055,
     "status": "ok",
     "timestamp": 1585460053979,
     "user": {
      "displayName": "Shikshya Dahal",
      "photoUrl": "",
      "userId": "13672899809593533424"
     },
     "user_tz": -420
    },
    "id": "PZfBBH5e3_F3",
    "outputId": "ff0ba11c-0cba-43a7-a55c-763dc10f0857"
   },
   "outputs": [
    {
     "name": "stdout",
     "output_type": "stream",
     "text": [
      "(11489, 13)\n"
     ]
    }
   ],
   "source": [
    "import pandas as pd\n",
    "data = pd.read_csv('/content/drive/My Drive/Thesis/python code/nature&parks/nature&parks.csv', error_bad_lines=False);\n",
    "data.head(5)\n",
    "print(data.shape)"
   ]
  },
  {
   "cell_type": "code",
   "execution_count": 0,
   "metadata": {
    "colab": {},
    "colab_type": "code",
    "id": "4bVP1I4JSr9_"
   },
   "outputs": [],
   "source": [
    "\n",
    "from nltk import FreqDist\n",
    "import seaborn as sns\n",
    "\n",
    "def freq_words(x, terms = 30):\n",
    "  print(x)\n",
    "  all_words = ' '.join([text for text in x])\n",
    "  all_words = all_words.split()\n",
    "\n",
    "  fdist = FreqDist(all_words)\n",
    "  words_df = pd.DataFrame({'word':list(fdist.keys()), 'count':list(fdist.values())})\n",
    "\n",
    "  # selecting top 20 most frequent words\n",
    "  d = words_df.nlargest(columns=\"count\", n = terms) \n",
    "  print(d)\n",
    "  plt.figure(figsize=(20,5))\n",
    "  ax = sns.barplot(data=d, x= \"word\", y = \"count\")\n",
    "  ax.set(ylabel = 'Count')\n",
    "  plt.show()"
   ]
  },
  {
   "cell_type": "code",
   "execution_count": 0,
   "metadata": {
    "colab": {
     "base_uri": "https://localhost:8080/",
     "height": 67
    },
    "colab_type": "code",
    "executionInfo": {
     "elapsed": 516,
     "status": "ok",
     "timestamp": 1585460055447,
     "user": {
      "displayName": "Shikshya Dahal",
      "photoUrl": "",
      "userId": "13672899809593533424"
     },
     "user_tz": -420
    },
    "id": "QBapYA0X4MPj",
    "outputId": "ee638ccb-8095-4a3c-e132-b4b8943a84fc"
   },
   "outputs": [
    {
     "name": "stdout",
     "output_type": "stream",
     "text": [
      "[nltk_data] Downloading package stopwords to /root/nltk_data...\n",
      "[nltk_data]   Package stopwords is already up-to-date!\n"
     ]
    },
    {
     "data": {
      "text/plain": [
       "True"
      ]
     },
     "execution_count": 32,
     "metadata": {
      "tags": []
     },
     "output_type": "execute_result"
    }
   ],
   "source": [
    "import nltk\n",
    "nltk.download('stopwords')"
   ]
  },
  {
   "cell_type": "code",
   "execution_count": 0,
   "metadata": {
    "colab": {},
    "colab_type": "code",
    "id": "t8rwqMO64S0u"
   },
   "outputs": [],
   "source": [
    "\n",
    "\n",
    "from nltk.corpus import stopwords\n",
    "stop_words = stopwords.words('english')\n",
    "stop_words.extend(['phewa', 'kathmandu', 'pokhara','sarangkot','nepal','place','lake'])"
   ]
  },
  {
   "cell_type": "code",
   "execution_count": 0,
   "metadata": {
    "colab": {},
    "colab_type": "code",
    "id": "lX0Nn8mS4dsm"
   },
   "outputs": [],
   "source": [
    "\n",
    "df=data"
   ]
  },
  {
   "cell_type": "code",
   "execution_count": 0,
   "metadata": {
    "colab": {
     "base_uri": "https://localhost:8080/",
     "height": 296
    },
    "colab_type": "code",
    "executionInfo": {
     "elapsed": 577,
     "status": "ok",
     "timestamp": 1585460059010,
     "user": {
      "displayName": "Shikshya Dahal",
      "photoUrl": "",
      "userId": "13672899809593533424"
     },
     "user_tz": -420
    },
    "id": "a02jVe0H4mHv",
    "outputId": "53369bbb-0d55-42d0-da11-e0385f91079a"
   },
   "outputs": [
    {
     "data": {
      "text/html": [
       "<div>\n",
       "<style scoped>\n",
       "    .dataframe tbody tr th:only-of-type {\n",
       "        vertical-align: middle;\n",
       "    }\n",
       "\n",
       "    .dataframe tbody tr th {\n",
       "        vertical-align: top;\n",
       "    }\n",
       "\n",
       "    .dataframe thead th {\n",
       "        text-align: right;\n",
       "    }\n",
       "</style>\n",
       "<table border=\"1\" class=\"dataframe\">\n",
       "  <thead>\n",
       "    <tr style=\"text-align: right;\">\n",
       "      <th></th>\n",
       "      <th>Name</th>\n",
       "      <th>Reviewer</th>\n",
       "      <th>Review Title</th>\n",
       "      <th>Review</th>\n",
       "      <th>Rating</th>\n",
       "      <th>Helpful Vote</th>\n",
       "      <th>RatingMonth</th>\n",
       "      <th>RatingYear</th>\n",
       "      <th>ExpMonth</th>\n",
       "      <th>ExpYear</th>\n",
       "      <th>City</th>\n",
       "      <th>Country</th>\n",
       "      <th>Attraction_Location</th>\n",
       "    </tr>\n",
       "  </thead>\n",
       "  <tbody>\n",
       "    <tr>\n",
       "      <th>0</th>\n",
       "      <td>Bat Cave</td>\n",
       "      <td>nepaltrekhub</td>\n",
       "      <td>Good but not impressive</td>\n",
       "      <td>I have been here many times here while i was i...</td>\n",
       "      <td>5</td>\n",
       "      <td>0</td>\n",
       "      <td>January</td>\n",
       "      <td>2020</td>\n",
       "      <td>June</td>\n",
       "      <td>2019.0</td>\n",
       "      <td>Kathmandu</td>\n",
       "      <td>Nepal</td>\n",
       "      <td>Pokhara</td>\n",
       "    </tr>\n",
       "    <tr>\n",
       "      <th>1</th>\n",
       "      <td>Bat Cave</td>\n",
       "      <td>enigmatic1989</td>\n",
       "      <td>One of a kind man v/s wild experience!!</td>\n",
       "      <td>These caves located at a 30 minute drive from ...</td>\n",
       "      <td>4</td>\n",
       "      <td>0</td>\n",
       "      <td>January</td>\n",
       "      <td>2020</td>\n",
       "      <td>January</td>\n",
       "      <td>2020.0</td>\n",
       "      <td>National Capital Territory of Delhi</td>\n",
       "      <td>India</td>\n",
       "      <td>Pokhara</td>\n",
       "    </tr>\n",
       "    <tr>\n",
       "      <th>2</th>\n",
       "      <td>Bat Cave</td>\n",
       "      <td>Emilie0410</td>\n",
       "      <td>Amazing bats - awful tourists..</td>\n",
       "      <td>The cave in itself is a short trip worth to do...</td>\n",
       "      <td>2</td>\n",
       "      <td>0</td>\n",
       "      <td>November</td>\n",
       "      <td>2019</td>\n",
       "      <td>November</td>\n",
       "      <td>2019.0</td>\n",
       "      <td>Brussels</td>\n",
       "      <td>Belgium</td>\n",
       "      <td>Pokhara</td>\n",
       "    </tr>\n",
       "    <tr>\n",
       "      <th>3</th>\n",
       "      <td>Bat Cave</td>\n",
       "      <td>AndyDavies73</td>\n",
       "      <td>DO NOT GO HERE</td>\n",
       "      <td>DO NOT GO HERE.  It is ab absolute waste of ti...</td>\n",
       "      <td>1</td>\n",
       "      <td>0</td>\n",
       "      <td>November</td>\n",
       "      <td>2019</td>\n",
       "      <td>November</td>\n",
       "      <td>2019.0</td>\n",
       "      <td>Leongatha</td>\n",
       "      <td>Australia</td>\n",
       "      <td>Pokhara</td>\n",
       "    </tr>\n",
       "    <tr>\n",
       "      <th>4</th>\n",
       "      <td>Bat Cave</td>\n",
       "      <td>819nicoh</td>\n",
       "      <td>Not worth the trip</td>\n",
       "      <td>Cave is rather small with 2 entrances on both ...</td>\n",
       "      <td>2</td>\n",
       "      <td>0</td>\n",
       "      <td>November</td>\n",
       "      <td>2019</td>\n",
       "      <td>November</td>\n",
       "      <td>2019.0</td>\n",
       "      <td>Montabaur</td>\n",
       "      <td>Germany</td>\n",
       "      <td>Pokhara</td>\n",
       "    </tr>\n",
       "  </tbody>\n",
       "</table>\n",
       "</div>"
      ],
      "text/plain": [
       "       Name       Reviewer  ...    Country Attraction_Location\n",
       "0  Bat Cave   nepaltrekhub  ...      Nepal             Pokhara\n",
       "1  Bat Cave  enigmatic1989  ...      India             Pokhara\n",
       "2  Bat Cave     Emilie0410  ...    Belgium             Pokhara\n",
       "3  Bat Cave   AndyDavies73  ...  Australia             Pokhara\n",
       "4  Bat Cave       819nicoh  ...    Germany             Pokhara\n",
       "\n",
       "[5 rows x 13 columns]"
      ]
     },
     "execution_count": 35,
     "metadata": {
      "tags": []
     },
     "output_type": "execute_result"
    }
   ],
   "source": [
    "df.head()"
   ]
  },
  {
   "cell_type": "code",
   "execution_count": 0,
   "metadata": {
    "colab": {
     "base_uri": "https://localhost:8080/",
     "height": 1000
    },
    "colab_type": "code",
    "executionInfo": {
     "elapsed": 3329,
     "status": "ok",
     "timestamp": 1585460062972,
     "user": {
      "displayName": "Shikshya Dahal",
      "photoUrl": "",
      "userId": "13672899809593533424"
     },
     "user_tz": -420
    },
    "id": "wVx_kVU5jSKt",
    "outputId": "b0bee781-d872-4c2b-cb3f-831ff488f863"
   },
   "outputs": [
    {
     "name": "stdout",
     "output_type": "stream",
     "text": [
      "0        many times quite interesting see quite smelly ...\n",
      "1        located drive main unique experience. charge n...\n",
      "2        short trip worth around see hundreds truly uni...\n",
      "3        here. absolute waste money need guide. heaps t...\n",
      "4        rather small entrances sides. visitors quite l...\n",
      "                               ...                        \n",
      "11484    shova linga superb maintained well. must watch...\n",
      "11485         underground many reach devi's falls visible.\n",
      "11486    small enough worth pokhara. pay extra rupees g...\n",
      "11487    brilliant underground wells ignore religious m...\n",
      "11488    starts interest. moment would feel great espec...\n",
      "Name: Review, Length: 11489, dtype: object\n",
      "            word  count\n",
      "4            see   2687\n",
      "234         nice   2303\n",
      "996    beautiful   2276\n",
      "61           one   2139\n",
      "9           good   1971\n",
      "137          get   1970\n",
      "79         worth   1765\n",
      "241        great   1745\n",
      "80        around   1614\n",
      "57          take   1513\n",
      "73          also   1437\n",
      "18999       boat   1415\n",
      "87        really   1299\n",
      "141        small   1203\n",
      "40          well   1165\n",
      "1691        hill   1103\n",
      "2026   annapurna   1087\n",
      "6           like   1077\n",
      "0           many   1061\n",
      "64         would   1051\n",
      "414        enjoy   1040\n",
      "71           way    972\n",
      "252         best    961\n",
      "261         much    951\n",
      "6973       lake.    920\n",
      "2143    mountain    891\n",
      "44          must    881\n",
      "165         went    872\n",
      "2003   mountains    869\n",
      "987         trek    849\n"
     ]
    },
    {
     "data": {
      "image/png": "[encoded data removed]",
      "text/plain": [
       "<Figure size 1440x360 with 1 Axes>"
      ]
     },
     "metadata": {
      "tags": []
     },
     "output_type": "display_data"
    }
   ],
   "source": [
    "def remove_stopwords(rev):\n",
    "    rev_new = \" \".join([i for i in rev if i not in stop_words])\n",
    "    \n",
    "    return rev_new\n",
    "\n",
    "# remove short words \n",
    "df['Review'] = df['Review'].apply(lambda x: ' '.join([w for w in x.split() if len(w)>2]))\n",
    "\n",
    "df['Review'] = [r.lower() for r in df['Review']]\n",
    "df['Review'] = [remove_stopwords(r.split()) for r in df['Review']]\n",
    "\n",
    "freq_words(data['Review'])"
   ]
  },
  {
   "cell_type": "code",
   "execution_count": 0,
   "metadata": {
    "colab": {
     "base_uri": "https://localhost:8080/",
     "height": 857
    },
    "colab_type": "code",
    "executionInfo": {
     "elapsed": 830,
     "status": "ok",
     "timestamp": 1585460087453,
     "user": {
      "displayName": "Shikshya Dahal",
      "photoUrl": "",
      "userId": "13672899809593533424"
     },
     "user_tz": -420
    },
    "id": "XzbhOR9V4nb3",
    "outputId": "8e9ab796-429b-4fa0-9149-4108bf0441b3"
   },
   "outputs": [
    {
     "name": "stderr",
     "output_type": "stream",
     "text": [
      "<input>:8: DeprecationWarning: invalid escape sequence \\S\n",
      "<input>:8: DeprecationWarning: invalid escape sequence \\S\n",
      "<input>:8: DeprecationWarning: invalid escape sequence \\S\n",
      "<input>:8: DeprecationWarning: invalid escape sequence \\S\n",
      "<input>:8: DeprecationWarning: invalid escape sequence \\S\n",
      "<input>:8: DeprecationWarning: invalid escape sequence \\S\n",
      "<input>:8: DeprecationWarning: invalid escape sequence \\S\n",
      "<input>:8: DeprecationWarning: invalid escape sequence \\S\n",
      "<input>:8: DeprecationWarning: invalid escape sequence \\S\n",
      "<input>:8: DeprecationWarning: invalid escape sequence \\S\n",
      "<input>:11: DeprecationWarning: invalid escape sequence \\s\n",
      "<input>:8: DeprecationWarning: invalid escape sequence \\S\n",
      "<input>:11: DeprecationWarning: invalid escape sequence \\s\n",
      "<input>:8: DeprecationWarning: invalid escape sequence \\S\n",
      "<input>:11: DeprecationWarning: invalid escape sequence \\s\n",
      "<input>:8: DeprecationWarning: invalid escape sequence \\S\n",
      "<input>:11: DeprecationWarning: invalid escape sequence \\s\n",
      "<input>:8: DeprecationWarning: invalid escape sequence \\S\n",
      "<input>:11: DeprecationWarning: invalid escape sequence \\s\n",
      "<input>:8: DeprecationWarning: invalid escape sequence \\S\n",
      "<input>:11: DeprecationWarning: invalid escape sequence \\s\n",
      "<input>:8: DeprecationWarning: invalid escape sequence \\S\n",
      "<input>:11: DeprecationWarning: invalid escape sequence \\s\n",
      "<input>:8: DeprecationWarning: invalid escape sequence \\S\n",
      "<input>:11: DeprecationWarning: invalid escape sequence \\s\n",
      "<input>:8: DeprecationWarning: invalid escape sequence \\S\n",
      "<input>:11: DeprecationWarning: invalid escape sequence \\s\n",
      "<input>:8: DeprecationWarning: invalid escape sequence \\S\n",
      "<input>:11: DeprecationWarning: invalid escape sequence \\s\n",
      "<input>:8: DeprecationWarning: invalid escape sequence \\S\n",
      "<input>:11: DeprecationWarning: invalid escape sequence \\s\n",
      "<input>:8: DeprecationWarning: invalid escape sequence \\S\n",
      "<input>:11: DeprecationWarning: invalid escape sequence \\s\n",
      "<input>:8: DeprecationWarning: invalid escape sequence \\S\n",
      "<input>:11: DeprecationWarning: invalid escape sequence \\s\n",
      "<input>:8: DeprecationWarning: invalid escape sequence \\S\n",
      "<input>:11: DeprecationWarning: invalid escape sequence \\s\n",
      "<input>:8: DeprecationWarning: invalid escape sequence \\S\n",
      "<input>:11: DeprecationWarning: invalid escape sequence \\s\n",
      "<input>:8: DeprecationWarning: invalid escape sequence \\S\n",
      "<input>:11: DeprecationWarning: invalid escape sequence \\s\n",
      "<input>:8: DeprecationWarning: invalid escape sequence \\S\n",
      "<input>:11: DeprecationWarning: invalid escape sequence \\s\n",
      "<input>:8: DeprecationWarning: invalid escape sequence \\S\n",
      "<input>:11: DeprecationWarning: invalid escape sequence \\s\n",
      "<ipython-input-37-7a8e15049583>:8: DeprecationWarning: invalid escape sequence \\S\n",
      "  data = [re.sub('\\S*@\\S*\\s?', '', sent) for sent in data]\n",
      "<ipython-input-37-7a8e15049583>:11: DeprecationWarning: invalid escape sequence \\s\n",
      "  data = [re.sub('\\s+', ' ', sent) for sent in data]\n"
     ]
    },
    {
     "name": "stdout",
     "output_type": "stream",
     "text": [
      "ERROR! Session/line number was not unique in database. History logging moved to new session 61\n"
     ]
    }
   ],
   "source": [
    "# Convert to list\n",
    "\n",
    "df[\"concatenated_review\"] = df['Review Title'] +\" \" + df['Review']\n",
    "data = df.Review.values.tolist()\n",
    "\n",
    "\n",
    "data = [re.sub('\\S*@\\S*\\s?', '', sent) for sent in data]\n",
    "data = [re.sub('\\s+', ' ', sent) for sent in data]\n",
    "data = [re.sub(\"\\'\", \"\", sent) for sent in data]\n",
    "\n"
   ]
  },
  {
   "cell_type": "code",
   "execution_count": 0,
   "metadata": {
    "colab": {
     "base_uri": "https://localhost:8080/",
     "height": 34
    },
    "colab_type": "code",
    "executionInfo": {
     "elapsed": 1552,
     "status": "ok",
     "timestamp": 1585460090010,
     "user": {
      "displayName": "Shikshya Dahal",
      "photoUrl": "",
      "userId": "13672899809593533424"
     },
     "user_tz": -420
    },
    "id": "_-HAcncA4xS0",
    "outputId": "869ad24b-2873-44d2-e700-2f0660afb3b2"
   },
   "outputs": [
    {
     "name": "stdout",
     "output_type": "stream",
     "text": [
      "[['many', 'times', 'quite', 'interesting', 'see', 'quite', 'smelly', 'like', 'location', 'spent', 'quite', 'good', 'here']]\n"
     ]
    }
   ],
   "source": [
    "def sent_to_words(sentences):\n",
    "    for sentence in sentences:\n",
    "        yield(gensim.utils.simple_preprocess(str(sentence), deacc=True, min_len=3))  # deacc=True removes punctuations\n",
    "\n",
    "data_words = list(sent_to_words(data))\n",
    "\n",
    "print(data_words[:1])"
   ]
  },
  {
   "cell_type": "code",
   "execution_count": 0,
   "metadata": {
    "colab": {
     "base_uri": "https://localhost:8080/",
     "height": 67
    },
    "colab_type": "code",
    "executionInfo": {
     "elapsed": 7123,
     "status": "ok",
     "timestamp": 1585460096187,
     "user": {
      "displayName": "Shikshya Dahal",
      "photoUrl": "",
      "userId": "13672899809593533424"
     },
     "user_tz": -420
    },
    "id": "if501HNF41c-",
    "outputId": "5e106bf9-50e9-446d-fbc5-34f69363eabd"
   },
   "outputs": [
    {
     "name": "stderr",
     "output_type": "stream",
     "text": [
      "/usr/local/lib/python3.6/dist-packages/gensim/models/phrases.py:598: UserWarning: For a faster implementation, use the gensim.models.phrases.Phraser class\n",
      "  warnings.warn(\"For a faster implementation, use the gensim.models.phrases.Phraser class\")\n"
     ]
    },
    {
     "name": "stdout",
     "output_type": "stream",
     "text": [
      "['many', 'times', 'quite', 'interesting', 'see', 'quite', 'smelly', 'like', 'location', 'spent', 'quite', 'good', 'here']\n"
     ]
    }
   ],
   "source": [
    "bigram = gensim.models.Phrases(data_words, min_count=5, threshold=50) # higher threshold fewer phrases.\n",
    "trigram = gensim.models.Phrases(bigram[data_words], threshold=50)  \n",
    "\n",
    "bigram_mod = gensim.models.phrases.Phraser(bigram)\n",
    "trigram_mod = gensim.models.phrases.Phraser(trigram)\n",
    "\n",
    "print(trigram_mod[bigram_mod[data_words[0]]])"
   ]
  },
  {
   "cell_type": "code",
   "execution_count": 0,
   "metadata": {
    "colab": {},
    "colab_type": "code",
    "id": "kAy0IKLE45Jn"
   },
   "outputs": [],
   "source": [
    "def remove_stopwords(texts):\n",
    "    return [[word for word in simple_preprocess(str(doc)) if word not in stop_words] for doc in texts]\n",
    "\n",
    "def make_bigrams(texts):\n",
    "    return [bigram_mod[doc] for doc in texts]\n",
    "\n",
    "\n",
    "def make_trigrams(texts):\n",
    "    return [trigram_mod[bigram_mod[doc]] for doc in texts]\n",
    "\n",
    "def lemmatization(texts, allowed_postags=['NOUN']):\n",
    "\n",
    "    \"\"\"https://spacy.io/api/annotation\"\"\"\n",
    "    texts_out = []\n",
    "    for sent in texts:\n",
    "        doc = nlp(\" \".join(sent)) \n",
    "        texts_out.append([token.lemma_ for token in doc if token.pos_ in allowed_postags])\n",
    "    return texts_out"
   ]
  },
  {
   "cell_type": "code",
   "execution_count": 0,
   "metadata": {
    "colab": {
     "base_uri": "https://localhost:8080/",
     "height": 34
    },
    "colab_type": "code",
    "executionInfo": {
     "elapsed": 45158,
     "status": "ok",
     "timestamp": 1585460135903,
     "user": {
      "displayName": "Shikshya Dahal",
      "photoUrl": "",
      "userId": "13672899809593533424"
     },
     "user_tz": -420
    },
    "id": "qr_kp5JP48-l",
    "outputId": "ff862f63-7313-46ab-f8fc-7e62ad59b0a0"
   },
   "outputs": [
    {
     "name": "stdout",
     "output_type": "stream",
     "text": [
      "[['time', 'location']]\n"
     ]
    }
   ],
   "source": [
    "data_words_nostops = remove_stopwords(data_words)\n",
    "data_words_bigrams = make_bigrams(data_words_nostops)\n",
    "\n",
    "\n",
    "nlp = spacy.load('en', disable=['parser', 'ner'])\n",
    "\n",
    "data_lemmatized = lemmatization(data_words_bigrams, allowed_postags=['NOUN'])\n",
    "\n",
    "print(data_lemmatized[:1])"
   ]
  },
  {
   "cell_type": "code",
   "execution_count": 0,
   "metadata": {
    "colab": {
     "base_uri": "https://localhost:8080/",
     "height": 34
    },
    "colab_type": "code",
    "executionInfo": {
     "elapsed": 43737,
     "status": "ok",
     "timestamp": 1585460135904,
     "user": {
      "displayName": "Shikshya Dahal",
      "photoUrl": "",
      "userId": "13672899809593533424"
     },
     "user_tz": -420
    },
    "id": "g2yssTKi4_mh",
    "outputId": "63dd3d86-31b8-435b-97c8-b6bdfa3ed857"
   },
   "outputs": [
    {
     "name": "stdout",
     "output_type": "stream",
     "text": [
      "[[(0, 1), (1, 1)]]\n"
     ]
    }
   ],
   "source": [
    "id2word = corpora.Dictionary(data_lemmatized)\n",
    "id2word.filter_extremes(no_below=5, no_above=0.9)\n",
    "texts = data_lemmatized\n",
    "\n",
    "# Term Document Frequency\n",
    "corpus = [id2word.doc2bow(text) for text in texts]\n",
    "\n",
    "# View\n",
    "print(corpus[:1])"
   ]
  },
  {
   "cell_type": "code",
   "execution_count": 0,
   "metadata": {
    "colab": {
     "base_uri": "https://localhost:8080/",
     "height": 34
    },
    "colab_type": "code",
    "executionInfo": {
     "elapsed": 42756,
     "status": "ok",
     "timestamp": 1585460135904,
     "user": {
      "displayName": "Shikshya Dahal",
      "photoUrl": "",
      "userId": "13672899809593533424"
     },
     "user_tz": -420
    },
    "id": "urzlq3Pc5DE3",
    "outputId": "ec5551ee-dd06-4b43-8a69-df6a9d633da3"
   },
   "outputs": [
    {
     "data": {
      "text/plain": [
       "'location'"
      ]
     },
     "execution_count": 43,
     "metadata": {
      "tags": []
     },
     "output_type": "execute_result"
    }
   ],
   "source": [
    "id2word[0]"
   ]
  },
  {
   "cell_type": "code",
   "execution_count": 0,
   "metadata": {
    "colab": {
     "base_uri": "https://localhost:8080/",
     "height": 34
    },
    "colab_type": "code",
    "executionInfo": {
     "elapsed": 41288,
     "status": "ok",
     "timestamp": 1585460135905,
     "user": {
      "displayName": "Shikshya Dahal",
      "photoUrl": "",
      "userId": "13672899809593533424"
     },
     "user_tz": -420
    },
    "id": "CP7i2WDX5GVa",
    "outputId": "c4f7520b-b7b3-4120-faf0-f848758fea1f"
   },
   "outputs": [
    {
     "data": {
      "text/plain": [
       "[[('location', 1), ('time', 1)]]"
      ]
     },
     "execution_count": 44,
     "metadata": {
      "tags": []
     },
     "output_type": "execute_result"
    }
   ],
   "source": [
    "[[(id2word[id], freq) for id, freq in cp] for cp in corpus[:1]]"
   ]
  },
  {
   "cell_type": "code",
   "execution_count": 0,
   "metadata": {
    "colab": {},
    "colab_type": "code",
    "id": "hV9SKU-jkI-P"
   },
   "outputs": [],
   "source": [
    "# !wget http://mallet.cs.umass.edu/dist/mallet-2.0.8.zip\n",
    "# !unzip mallet-2.0.8.zip\n",
    "\n",
    "import os.path\n",
    "os.environ['MALLET_HOME'] = '/content/mallet-2.0.8'\n",
    "mallet_path = '/content/mallet-2.0.8/bin/mallet' # you should NOT need to change this o"
   ]
  },
  {
   "cell_type": "code",
   "execution_count": 0,
   "metadata": {
    "colab": {},
    "colab_type": "code",
    "id": "0VvyQsyDQJgZ"
   },
   "outputs": [],
   "source": [
    "def compute_coherence_values(dictionary, corpus, texts, limit, start=2, step=3):\n",
    "    \"\"\"\n",
    "    Compute c_v coherence for various number of topics\n",
    "\n",
    "    Parameters:\n",
    "    ----------\n",
    "    dictionary : Gensim dictionary\n",
    "    corpus : Gensim corpus\n",
    "    texts : List of input texts\n",
    "    limit : Max num of topics\n",
    "\n",
    "    Returns:\n",
    "    -------\n",
    "    model_list : List of LDA topic models\n",
    "    coherence_values : Coherence values corresponding to the LDA model with respective number of topics\n",
    "    \"\"\"\n",
    "    coherence_values = []\n",
    "    model_list = []\n",
    "    for num_topics in range(start, limit, step):\n",
    "        model = gensim.models.wrappers.LdaMallet(mallet_path, corpus=corpus,iterations=500, num_topics=num_topics, id2word=id2word)\n",
    "\n",
    "\n",
    "        model_list.append(model)\n",
    "        coherencemodel = CoherenceModel(model=model, texts=texts, dictionary=dictionary, coherence='c_v')\n",
    "        coherence_values.append(coherencemodel.get_coherence())\n",
    "\n",
    "    return model_list, coherence_values\n"
   ]
  },
  {
   "cell_type": "code",
   "execution_count": 73,
   "metadata": {
    "colab": {
     "base_uri": "https://localhost:8080/",
     "height": 70
    },
    "colab_type": "code",
    "executionInfo": {
     "elapsed": 388913,
     "status": "ok",
     "timestamp": 1585479095458,
     "user": {
      "displayName": "Shikshya Dahal",
      "photoUrl": "",
      "userId": "13672899809593533424"
     },
     "user_tz": -420
    },
    "id": "5Kmqr4Ldepou",
    "outputId": "f96b885b-1a60-4754-bdbc-bbefde006d11"
   },
   "outputs": [
    {
     "name": "stderr",
     "output_type": "stream",
     "text": [
      "/usr/local/lib/python3.6/dist-packages/smart_open/smart_open_lib.py:410: UserWarning: This function is deprecated, use smart_open.open instead. See the migration notes for details: https://github.com/RaRe-Technologies/smart_open/blob/master/README.rst#migrating-to-the-new-open-function\n",
      "  'See the migration notes for details: %s' % _MIGRATION_NOTES_URL\n"
     ]
    }
   ],
   "source": [
    "model_list, coherence_values = compute_coherence_values(dictionary=id2word, corpus=corpus, texts=data_lemmatized, start=2, limit=20, step=1)"
   ]
  },
  {
   "cell_type": "code",
   "execution_count": 0,
   "metadata": {
    "colab": {
     "base_uri": "https://localhost:8080/",
     "height": 279
    },
    "colab_type": "code",
    "executionInfo": {
     "elapsed": 389362,
     "status": "ok",
     "timestamp": 1585464982285,
     "user": {
      "displayName": "Shikshya Dahal",
      "photoUrl": "",
      "userId": "13672899809593533424"
     },
     "user_tz": -420
    },
    "id": "bmOroVM8eIvx",
    "outputId": "8f7c5d88-c499-4ba0-f484-b74591d4dc7b"
   },
   "outputs": [
    {
     "data": {
      "image/png": "[encoded data removed]",
      "text/plain": [
       "<Figure size 432x288 with 1 Axes>"
      ]
     },
     "metadata": {
      "tags": []
     },
     "output_type": "display_data"
    }
   ],
   "source": [
    "limit=20; start=2; step=1;\n",
    "x = range(start, limit, step)\n",
    "plt.plot(x, coherence_values)\n",
    "plt.xlabel(\"Num Topics\")\n",
    "\n",
    "plt.ylabel(\"Coherence score\")\n",
    "plt.legend((\"coherence_values\"), loc='best')\n",
    "plt.show()"
   ]
  },
  {
   "cell_type": "code",
   "execution_count": 0,
   "metadata": {
    "colab": {
     "base_uri": "https://localhost:8080/",
     "height": 279
    },
    "colab_type": "code",
    "executionInfo": {
     "elapsed": 1089,
     "status": "ok",
     "timestamp": 1585465049002,
     "user": {
      "displayName": "Shikshya Dahal",
      "photoUrl": "",
      "userId": "13672899809593533424"
     },
     "user_tz": -420
    },
    "id": "VJ2q8S--nNOG",
    "outputId": "7b5a5e63-daba-4aed-8ee7-bab44cd98b19"
   },
   "outputs": [
    {
     "data": {
      "image/png": "[encoded data removed]",
      "text/plain": [
       "<Figure size 432x288 with 1 Axes>"
      ]
     },
     "metadata": {
      "tags": []
     },
     "output_type": "display_data"
    }
   ],
   "source": [
    "limit=20; start=2; step=1;\n",
    "x = range(start, limit, step)\n",
    "plt.plot(x, coherence_values)\n",
    "plt.xlabel(\"Number of Topics\")\n",
    "plt.ylabel(\"Coherence score(Nature & Parks)\")\n",
    "plt.legend((\"coherence_values\"), loc='best')\n",
    "plt.show()"
   ]
  },
  {
   "cell_type": "code",
   "execution_count": 0,
   "metadata": {
    "colab": {
     "base_uri": "https://localhost:8080/",
     "height": 319
    },
    "colab_type": "code",
    "executionInfo": {
     "elapsed": 979,
     "status": "ok",
     "timestamp": 1585465051360,
     "user": {
      "displayName": "Shikshya Dahal",
      "photoUrl": "",
      "userId": "13672899809593533424"
     },
     "user_tz": -420
    },
    "id": "LCT0QSqToWXM",
    "outputId": "ffed43f1-6d17-4b3d-c693-6ffa0f136372"
   },
   "outputs": [
    {
     "name": "stdout",
     "output_type": "stream",
     "text": [
      "Num Topics = 2  has Coherence Value of 0.3205\n",
      "Num Topics = 3  has Coherence Value of 0.3954\n",
      "Num Topics = 4  has Coherence Value of 0.3575\n",
      "Num Topics = 5  has Coherence Value of 0.3751\n",
      "Num Topics = 6  has Coherence Value of 0.3369\n",
      "Num Topics = 7  has Coherence Value of 0.4135\n",
      "Num Topics = 8  has Coherence Value of 0.3793\n",
      "Num Topics = 9  has Coherence Value of 0.389\n",
      "Num Topics = 10  has Coherence Value of 0.4008\n",
      "Num Topics = 11  has Coherence Value of 0.3813\n",
      "Num Topics = 12  has Coherence Value of 0.3611\n",
      "Num Topics = 13  has Coherence Value of 0.3769\n",
      "Num Topics = 14  has Coherence Value of 0.3624\n",
      "Num Topics = 15  has Coherence Value of 0.3635\n",
      "Num Topics = 16  has Coherence Value of 0.3986\n",
      "Num Topics = 17  has Coherence Value of 0.3443\n",
      "Num Topics = 18  has Coherence Value of 0.3426\n",
      "Num Topics = 19  has Coherence Value of 0.3529\n"
     ]
    }
   ],
   "source": [
    "# Print the coherence scores\n",
    "for m, cv in zip(x, coherence_values):\n",
    "    print(\"Num Topics =\", m, \" has Coherence Value of\", round(cv, 4))"
   ]
  },
  {
   "cell_type": "code",
   "execution_count": 0,
   "metadata": {
    "colab": {
     "base_uri": "https://localhost:8080/",
     "height": 353
    },
    "colab_type": "code",
    "executionInfo": {
     "elapsed": 877,
     "status": "ok",
     "timestamp": 1585461809941,
     "user": {
      "displayName": "Shikshya Dahal",
      "photoUrl": "",
      "userId": "13672899809593533424"
     },
     "user_tz": -420
    },
    "id": "0-hJbzIhoclQ",
    "outputId": "e086bb4a-9a84-41c3-98fe-f48a1c5dcb56"
   },
   "outputs": [
    {
     "name": "stdout",
     "output_type": "stream",
     "text": [
      "[(0,\n",
      "  '0.038*\"couple\" + 0.033*\"dream\" + 0.030*\"street\" + 0.030*\"peace\" + '\n",
      "  '0.022*\"flower\" + 0.020*\"drink\" + 0.018*\"traffic\" + 0.017*\"noise\" + '\n",
      "  '0.016*\"rest\" + 0.015*\"entry\"'),\n",
      " (1,\n",
      "  '0.142*\"mountain\" + 0.053*\"trip\" + 0.027*\"enjoy\" + 0.025*\"beauty\" + '\n",
      "  '0.022*\"town\" + 0.021*\"world\" + 0.017*\"cable\" + 0.017*\"activity\" + '\n",
      "  '0.017*\"scenery\" + 0.017*\"weather\"'),\n",
      " (2,\n",
      "  '0.033*\"guide\" + 0.023*\"nature\" + 0.022*\"climb\" + 0.021*\"family\" + '\n",
      "  '0.020*\"stair\" + 0.019*\"picture\" + 0.018*\"path\" + 0.017*\"hike\" + '\n",
      "  '0.015*\"season\" + 0.014*\"tour\"'),\n",
      " (3,\n",
      "  '0.031*\"rupee\" + 0.030*\"price\" + 0.027*\"entrance\" + 0.027*\"shop\" + '\n",
      "  '0.026*\"garden\" + 0.024*\"local\" + 0.022*\"watch\" + 0.022*\"bar\" + 0.020*\"pay\" '\n",
      "  '+ 0.019*\"ticket\"'),\n",
      " (4,\n",
      "  '0.132*\"boat\" + 0.040*\"ride\" + 0.033*\"taxi\" + 0.026*\"hill\" + 0.025*\"road\" + '\n",
      "  '0.024*\"cloud\" + 0.020*\"peak\" + 0.017*\"driver\" + 0.015*\"paragliding\" + '\n",
      "  '0.015*\"range\"')]\n"
     ]
    }
   ],
   "source": [
    "optimal_model = model_list[3]\n",
    "model_topics = optimal_model.show_topics(formatted=False)\n",
    "pprint(optimal_model.print_topics(num_words=10))"
   ]
  },
  {
   "cell_type": "code",
   "execution_count": 71,
   "metadata": {
    "colab": {
     "base_uri": "https://localhost:8080/",
     "height": 642
    },
    "colab_type": "code",
    "executionInfo": {
     "elapsed": 1548161,
     "status": "ok",
     "timestamp": 1585473342913,
     "user": {
      "displayName": "Shikshya Dahal",
      "photoUrl": "",
      "userId": "13672899809593533424"
     },
     "user_tz": -420
    },
    "id": "1Gh7WHgUmfyF",
    "outputId": "43b72b80-dd42-4a64-f265-389ab6de572b"
   },
   "outputs": [
    {
     "name": "stderr",
     "output_type": "stream",
     "text": [
      "\n",
      "\n",
      "\n",
      "  0%|          | 0/540 [00:00<?, ?it/s]\u001b[A\u001b[A\u001b[A/usr/local/lib/python3.6/dist-packages/smart_open/smart_open_lib.py:410: UserWarning: This function is deprecated, use smart_open.open instead. See the migration notes for details: https://github.com/RaRe-Technologies/smart_open/blob/master/README.rst#migrating-to-the-new-open-function\n",
      "  'See the migration notes for details: %s' % _MIGRATION_NOTES_URL\n",
      "\n",
      "\n",
      "\n",
      "  0%|          | 1/540 [05:16<47:26:38, 316.88s/it]\u001b[A\u001b[A\u001b[A\n",
      "\n",
      "\n",
      "  0%|          | 2/540 [10:34<47:23:57, 317.17s/it]\u001b[A\u001b[A\u001b[A\n",
      "\n",
      "\n",
      "  1%|          | 3/540 [15:52<47:18:56, 317.20s/it]\u001b[A\u001b[A\u001b[A\n",
      "\n",
      "\n",
      "  1%|          | 4/540 [21:09<47:15:20, 317.39s/it]\u001b[A\u001b[A\u001b[A\n",
      "\n",
      "\n",
      "  1%|          | 5/540 [26:27<47:09:39, 317.35s/it]\u001b[A\u001b[A\u001b[A\n",
      "\n",
      "\n",
      "  1%|          | 6/540 [31:45<47:06:38, 317.60s/it]\u001b[A\u001b[A\u001b[A\n",
      "\n",
      "\n",
      "  1%|▏         | 7/540 [37:03<47:02:49, 317.77s/it]\u001b[A\u001b[A\u001b[A\n",
      "\n",
      "\n",
      "  1%|▏         | 8/540 [42:20<46:55:19, 317.52s/it]\u001b[A\u001b[A\u001b[A\n",
      "\n",
      "\n",
      "  2%|▏         | 9/540 [47:38<46:52:01, 317.74s/it]\u001b[A\u001b[A\u001b[A\n",
      "\n",
      "\n",
      "  2%|▏         | 10/540 [52:56<46:46:02, 317.66s/it]\n"
     ]
    }
   ],
   "source": [
    "def compute_coherence_values(corpus, dictionary, a):\n",
    "    \n",
    "    # lda_model = gensim.models.LdaMulticore(corpus=corpus,\n",
    "    #                                        id2word=id2word,\n",
    "    #                                        num_topics=4=, \n",
    "    #                                        random_state=100,\n",
    "    #                                        chunksize=100,\n",
    "    #                                        passes=100,\n",
    "    #                                        alpha=a,\n",
    "    #                                        eta=b,\n",
    "    #                                        per_word_topics=True)\n",
    "\n",
    "    model = gensim.models.wrappers.LdaMallet(mallet_path, corpus=corpus,iterations=10000,optimize_interval=10,alpha=a, num_topics=4, id2word=id2word)\n",
    "    \n",
    "    coherence_model_lda = CoherenceModel(model=model, texts=data_lemmatized, dictionary=id2word, coherence='c_v')\n",
    "    \n",
    "    return coherence_model_lda.get_coherence()\n",
    "    \n",
    "\n",
    "import numpy as np\n",
    "import tqdm\n",
    "grid = {}\n",
    "grid['Validation_Set'] = {}\n",
    "\n",
    "step_size = 1\n",
    "alpha = list(np.arange(0.01, 1, 0.1))\n",
    "\n",
    "beta = list(np.arange(0.01, 1, 0.3))\n",
    "beta.append('symmetric')\n",
    "num_of_docs = len(corpus)\n",
    "corpus_sets = [corpus]\n",
    "corpus_title = ['100% Corpus']\n",
    "model_results = {'Alpha': [],\n",
    "                 'Coherence': []\n",
    "                }\n",
    "if 1 == 1:\n",
    "    pbar = tqdm.tqdm(total=540)\n",
    "    \n",
    "    for i in range(len(corpus_sets)):\n",
    "        \n",
    "            for a in alpha:\n",
    "                \n",
    "                    cv = compute_coherence_values(corpus=corpus_sets[i], dictionary=id2word, \n",
    "                                                   a=a)\n",
    "                    model_results['Alpha'].append(a)\n",
    "                    \n",
    "                    model_results['Coherence'].append(cv)\n",
    "                    \n",
    "                    pbar.update(1)\n",
    "    pd.DataFrame(model_results).to_csv('lda_tuning_results.csv', index=False)\n",
    "\n",
    "    pbar.close()"
   ]
  },
  {
   "cell_type": "code",
   "execution_count": 0,
   "metadata": {
    "colab": {
     "base_uri": "https://localhost:8080/",
     "height": 54
    },
    "colab_type": "code",
    "executionInfo": {
     "elapsed": 1107,
     "status": "ok",
     "timestamp": 1585467769638,
     "user": {
      "displayName": "Shikshya Dahal",
      "photoUrl": "",
      "userId": "13672899809593533424"
     },
     "user_tz": -420
    },
    "id": "7LBuu8IN3JcP",
    "outputId": "ccc1bb53-4c10-4e26-9c3e-03da37940f84"
   },
   "outputs": [
    {
     "name": "stdout",
     "output_type": "stream",
     "text": [
      "{'Alpha': [0.01, 0.11, 0.21000000000000002, 0.31000000000000005, 0.41000000000000003, 0.51, 0.6100000000000001, 0.7100000000000001, 0.81, 0.91], 'Coherence': [0.3944091649130629, 0.39562838864100314, 0.40196538108742796, 0.3899447409707227, 0.3873291243275487, 0.3878881606857186, 0.4070555802352857, 0.3999017632326318, 0.39498217545923325, 0.39767162959706837]}\n"
     ]
    }
   ],
   "source": [
    "print(model_results)\n",
    "result=pd.DataFrame(model_results)"
   ]
  },
  {
   "cell_type": "code",
   "execution_count": 0,
   "metadata": {
    "colab": {
     "base_uri": "https://localhost:8080/",
     "height": 343
    },
    "colab_type": "code",
    "executionInfo": {
     "elapsed": 916,
     "status": "ok",
     "timestamp": 1585470139432,
     "user": {
      "displayName": "Shikshya Dahal",
      "photoUrl": "",
      "userId": "13672899809593533424"
     },
     "user_tz": -420
    },
    "id": "zoyp2Pyt3aDt",
    "outputId": "cef088e0-e9ec-4de1-a1dc-9141f2a17472"
   },
   "outputs": [
    {
     "data": {
      "text/html": [
       "<div>\n",
       "<style scoped>\n",
       "    .dataframe tbody tr th:only-of-type {\n",
       "        vertical-align: middle;\n",
       "    }\n",
       "\n",
       "    .dataframe tbody tr th {\n",
       "        vertical-align: top;\n",
       "    }\n",
       "\n",
       "    .dataframe thead th {\n",
       "        text-align: right;\n",
       "    }\n",
       "</style>\n",
       "<table border=\"1\" class=\"dataframe\">\n",
       "  <thead>\n",
       "    <tr style=\"text-align: right;\">\n",
       "      <th></th>\n",
       "      <th>Alpha</th>\n",
       "      <th>Coherence</th>\n",
       "    </tr>\n",
       "  </thead>\n",
       "  <tbody>\n",
       "    <tr>\n",
       "      <th>0</th>\n",
       "      <td>0.01</td>\n",
       "      <td>0.394409</td>\n",
       "    </tr>\n",
       "    <tr>\n",
       "      <th>1</th>\n",
       "      <td>0.11</td>\n",
       "      <td>0.395628</td>\n",
       "    </tr>\n",
       "    <tr>\n",
       "      <th>2</th>\n",
       "      <td>0.21</td>\n",
       "      <td>0.401965</td>\n",
       "    </tr>\n",
       "    <tr>\n",
       "      <th>3</th>\n",
       "      <td>0.31</td>\n",
       "      <td>0.389945</td>\n",
       "    </tr>\n",
       "    <tr>\n",
       "      <th>4</th>\n",
       "      <td>0.41</td>\n",
       "      <td>0.387329</td>\n",
       "    </tr>\n",
       "    <tr>\n",
       "      <th>5</th>\n",
       "      <td>0.51</td>\n",
       "      <td>0.387888</td>\n",
       "    </tr>\n",
       "    <tr>\n",
       "      <th>6</th>\n",
       "      <td>0.61</td>\n",
       "      <td>0.407056</td>\n",
       "    </tr>\n",
       "    <tr>\n",
       "      <th>7</th>\n",
       "      <td>0.71</td>\n",
       "      <td>0.399902</td>\n",
       "    </tr>\n",
       "    <tr>\n",
       "      <th>8</th>\n",
       "      <td>0.81</td>\n",
       "      <td>0.394982</td>\n",
       "    </tr>\n",
       "    <tr>\n",
       "      <th>9</th>\n",
       "      <td>0.91</td>\n",
       "      <td>0.397672</td>\n",
       "    </tr>\n",
       "  </tbody>\n",
       "</table>\n",
       "</div>"
      ],
      "text/plain": [
       "   Alpha  Coherence\n",
       "0   0.01   0.394409\n",
       "1   0.11   0.395628\n",
       "2   0.21   0.401965\n",
       "3   0.31   0.389945\n",
       "4   0.41   0.387329\n",
       "5   0.51   0.387888\n",
       "6   0.61   0.407056\n",
       "7   0.71   0.399902\n",
       "8   0.81   0.394982\n",
       "9   0.91   0.397672"
      ]
     },
     "execution_count": 69,
     "metadata": {
      "tags": []
     },
     "output_type": "execute_result"
    }
   ],
   "source": [
    "result"
   ]
  },
  {
   "cell_type": "code",
   "execution_count": 0,
   "metadata": {
    "colab": {},
    "colab_type": "code",
    "id": "hfmroeyza_83"
   },
   "outputs": [],
   "source": [
    "from google.colab import files\n",
    "\n",
    "result.to_csv('hyperparameterNature.csv')\n",
    "files.download('hyperparameterNature.csv')"
   ]
  },
  {
   "cell_type": "code",
   "execution_count": 0,
   "metadata": {
    "colab": {},
    "colab_type": "code",
    "id": "ck2HzjIAV2B0"
   },
   "outputs": [],
   "source": [
    "model = gensim.models.wrappers.LdaMallet(mallet_path, corpus=corpus,iterations=2000,optimize_interval=10,alpha=0.31, num_topics=4, id2word=id2word)"
   ]
  },
  {
   "cell_type": "code",
   "execution_count": 0,
   "metadata": {
    "colab": {},
    "colab_type": "code",
    "id": "ayy4ZMglV83j"
   },
   "outputs": [],
   "source": [
    "lda_model = gensim.models.LdaMulticore(corpus=corpus,\n",
    "                                           id2word=id2word,\n",
    "                                           num_topics=4, \n",
    "                                           random_state=100,\n",
    "                                           chunksize=1000,\n",
    "                                           passes=1000,\n",
    "                                           alpha=0.91,\n",
    "                                           eta=0.91,\n",
    "                                           per_word_topics=True)"
   ]
  },
  {
   "cell_type": "code",
   "execution_count": 0,
   "metadata": {
    "colab": {},
    "colab_type": "code",
    "id": "n7Vye-k5cYjV"
   },
   "outputs": [],
   "source": [
    "pprint(model.print_topics())\n"
   ]
  },
  {
   "cell_type": "code",
   "execution_count": 0,
   "metadata": {
    "colab": {},
    "colab_type": "code",
    "id": "YmwlONfrsU0X"
   },
   "outputs": [],
   "source": [
    "coherence_model_lda = CoherenceModel(model=lda_model, texts=data_lemmatized, dictionary=id2word, coherence='c_v')\n",
    "coherence_lda = coherence_model_lda.get_coherence()\n",
    "print('\\nCoherence Score: ', coherence_lda)"
   ]
  },
  {
   "cell_type": "code",
   "execution_count": 0,
   "metadata": {
    "colab": {},
    "colab_type": "code",
    "id": "jmijRP0K3fhX"
   },
   "outputs": [],
   "source": [
    "from google.colab import files\n",
    "\n",
    "result.to_csv('hyperparameter.csv')\n",
    "files.download('hyperparameter.csv')"
   ]
  },
  {
   "cell_type": "code",
   "execution_count": 0,
   "metadata": {
    "colab": {},
    "colab_type": "code",
    "id": "0Ev3AyQwDqnw"
   },
   "outputs": [],
   "source": [
    "df_dominant_topic.to_csv(r'/content/drive/My Drive/Thesis/Data/Result.csv')\n"
   ]
  },
  {
   "cell_type": "code",
   "execution_count": 0,
   "metadata": {
    "colab": {},
    "colab_type": "code",
    "id": "KWyzSr0zEVep"
   },
   "outputs": [],
   "source": [
    "from google.colab import files\n",
    "\n",
    "df_dominant_topic.to_csv('df.csv')\n",
    "files.download('df.csv')"
   ]
  },
  {
   "cell_type": "code",
   "execution_count": 0,
   "metadata": {
    "colab": {},
    "colab_type": "code",
    "id": "EoZpQjmxE96y"
   },
   "outputs": [],
   "source": []
  }
 ],
 "metadata": {
  "colab": {
   "authorship_tag": "ABX9TyOY4M4ID7HNQo2NqOxurGnA",
   "collapsed_sections": [],
   "name": "LDA_FINAL(nature).ipynb",
   "provenance": []
  },
  "kernelspec": {
   "display_name": "Python 3",
   "language": "python",
   "name": "python3"
  },
  "language_info": {
   "codemirror_mode": {
    "name": "ipython",
    "version": 3
   },
   "file_extension": ".py",
   "mimetype": "text/x-python",
   "name": "python",
   "nbconvert_exporter": "python",
   "pygments_lexer": "ipython3",
   "version": "3.6.8"
  }
 },
 "nbformat": 4,
 "nbformat_minor": 1
}
