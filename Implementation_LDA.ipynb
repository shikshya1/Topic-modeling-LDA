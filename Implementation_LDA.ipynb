{
 "cells": [
  {
   "cell_type": "code",
   "execution_count": 1,
   "metadata": {
    "colab": {
     "base_uri": "https://localhost:8080/",
     "height": 121
    },
    "colab_type": "code",
    "executionInfo": {
     "elapsed": 54576,
     "status": "ok",
     "timestamp": 1590205011137,
     "user": {
      "displayName": "Shikshya Dahal",
      "photoUrl": "",
      "userId": "13672899809593533424"
     },
     "user_tz": -420
    },
    "id": "N2uWc97C380U",
    "outputId": "5a2d2f0f-6922-4ae2-f80c-dce5e63de086"
   },
   "outputs": [
    {
     "name": "stdout",
     "output_type": "stream",
     "text": [
      "Go to this URL in a browser: https://accounts.google.com/o/oauth2/auth?client_id=947318989803-6bn6qk8qdgf4n4g3pfee6491hc0brc4i.apps.googleusercontent.com&redirect_uri=urn%3aietf%3awg%3aoauth%3a2.0%3aoob&response_type=code&scope=email%20https%3a%2f%2fwww.googleapis.com%2fauth%2fdocs.test%20https%3a%2f%2fwww.googleapis.com%2fauth%2fdrive%20https%3a%2f%2fwww.googleapis.com%2fauth%2fdrive.photos.readonly%20https%3a%2f%2fwww.googleapis.com%2fauth%2fpeopleapi.readonly\n",
      "\n",
      "Enter your authorization code:\n",
      "··········\n",
      "Mounted at /content/drive\n"
     ]
    }
   ],
   "source": [
    "\n",
    "from google.colab import drive\n",
    "drive.mount('/content/drive')\n",
    "\n",
    "import sys\n",
    "sys.path.append('/content/drive/My Drive/')"
   ]
  },
  {
   "cell_type": "code",
   "execution_count": 2,
   "metadata": {
    "colab": {
     "base_uri": "https://localhost:8080/",
     "height": 941
    },
    "colab_type": "code",
    "executionInfo": {
     "elapsed": 66235,
     "status": "ok",
     "timestamp": 1590205022804,
     "user": {
      "displayName": "Shikshya Dahal",
      "photoUrl": "",
      "userId": "13672899809593533424"
     },
     "user_tz": -420
    },
    "id": "SxnWwfKp4Avn",
    "outputId": "ad4c0cc2-56b6-4ef1-dab4-3b44ff5663ad"
   },
   "outputs": [
    {
     "name": "stdout",
     "output_type": "stream",
     "text": [
      "Requirement already satisfied: spacy in /usr/local/lib/python3.6/dist-packages (2.2.4)\n",
      "Requirement already satisfied: srsly<1.1.0,>=1.0.2 in /usr/local/lib/python3.6/dist-packages (from spacy) (1.0.2)\n",
      "Requirement already satisfied: thinc==7.4.0 in /usr/local/lib/python3.6/dist-packages (from spacy) (7.4.0)\n",
      "Requirement already satisfied: tqdm<5.0.0,>=4.38.0 in /usr/local/lib/python3.6/dist-packages (from spacy) (4.41.1)\n",
      "Requirement already satisfied: setuptools in /usr/local/lib/python3.6/dist-packages (from spacy) (46.3.0)\n",
      "Requirement already satisfied: wasabi<1.1.0,>=0.4.0 in /usr/local/lib/python3.6/dist-packages (from spacy) (0.6.0)\n",
      "Requirement already satisfied: numpy>=1.15.0 in /usr/local/lib/python3.6/dist-packages (from spacy) (1.18.4)\n",
      "Requirement already satisfied: preshed<3.1.0,>=3.0.2 in /usr/local/lib/python3.6/dist-packages (from spacy) (3.0.2)\n",
      "Requirement already satisfied: plac<1.2.0,>=0.9.6 in /usr/local/lib/python3.6/dist-packages (from spacy) (1.1.3)\n",
      "Requirement already satisfied: cymem<2.1.0,>=2.0.2 in /usr/local/lib/python3.6/dist-packages (from spacy) (2.0.3)\n",
      "Requirement already satisfied: catalogue<1.1.0,>=0.0.7 in /usr/local/lib/python3.6/dist-packages (from spacy) (1.0.0)\n",
      "Requirement already satisfied: murmurhash<1.1.0,>=0.28.0 in /usr/local/lib/python3.6/dist-packages (from spacy) (1.0.2)\n",
      "Requirement already satisfied: requests<3.0.0,>=2.13.0 in /usr/local/lib/python3.6/dist-packages (from spacy) (2.23.0)\n",
      "Requirement already satisfied: blis<0.5.0,>=0.4.0 in /usr/local/lib/python3.6/dist-packages (from spacy) (0.4.1)\n",
      "Requirement already satisfied: importlib-metadata>=0.20; python_version < \"3.8\" in /usr/local/lib/python3.6/dist-packages (from catalogue<1.1.0,>=0.0.7->spacy) (1.6.0)\n",
      "Requirement already satisfied: urllib3!=1.25.0,!=1.25.1,<1.26,>=1.21.1 in /usr/local/lib/python3.6/dist-packages (from requests<3.0.0,>=2.13.0->spacy) (1.24.3)\n",
      "Requirement already satisfied: chardet<4,>=3.0.2 in /usr/local/lib/python3.6/dist-packages (from requests<3.0.0,>=2.13.0->spacy) (3.0.4)\n",
      "Requirement already satisfied: idna<3,>=2.5 in /usr/local/lib/python3.6/dist-packages (from requests<3.0.0,>=2.13.0->spacy) (2.9)\n",
      "Requirement already satisfied: certifi>=2017.4.17 in /usr/local/lib/python3.6/dist-packages (from requests<3.0.0,>=2.13.0->spacy) (2020.4.5.1)\n",
      "Requirement already satisfied: zipp>=0.5 in /usr/local/lib/python3.6/dist-packages (from importlib-metadata>=0.20; python_version < \"3.8\"->catalogue<1.1.0,>=0.0.7->spacy) (3.1.0)\n",
      "Collecting pyLDAvis\n",
      "\u001b[?25l  Downloading https://files.pythonhosted.org/packages/a5/3a/af82e070a8a96e13217c8f362f9a73e82d61ac8fff3a2561946a97f96266/pyLDAvis-2.1.2.tar.gz (1.6MB)\n",
      "\u001b[K     |████████████████████████████████| 1.6MB 3.5MB/s \n",
      "\u001b[?25hRequirement already satisfied: wheel>=0.23.0 in /usr/local/lib/python3.6/dist-packages (from pyLDAvis) (0.34.2)\n",
      "Requirement already satisfied: numpy>=1.9.2 in /usr/local/lib/python3.6/dist-packages (from pyLDAvis) (1.18.4)\n",
      "Requirement already satisfied: scipy>=0.18.0 in /usr/local/lib/python3.6/dist-packages (from pyLDAvis) (1.4.1)\n",
      "Requirement already satisfied: pandas>=0.17.0 in /usr/local/lib/python3.6/dist-packages (from pyLDAvis) (1.0.3)\n",
      "Requirement already satisfied: joblib>=0.8.4 in /usr/local/lib/python3.6/dist-packages (from pyLDAvis) (0.15.1)\n",
      "Requirement already satisfied: jinja2>=2.7.2 in /usr/local/lib/python3.6/dist-packages (from pyLDAvis) (2.11.2)\n",
      "Requirement already satisfied: numexpr in /usr/local/lib/python3.6/dist-packages (from pyLDAvis) (2.7.1)\n",
      "Requirement already satisfied: pytest in /usr/local/lib/python3.6/dist-packages (from pyLDAvis) (3.6.4)\n",
      "Requirement already satisfied: future in /usr/local/lib/python3.6/dist-packages (from pyLDAvis) (0.16.0)\n",
      "Collecting funcy\n",
      "\u001b[?25l  Downloading https://files.pythonhosted.org/packages/ce/4b/6ffa76544e46614123de31574ad95758c421aae391a1764921b8a81e1eae/funcy-1.14.tar.gz (548kB)\n",
      "\u001b[K     |████████████████████████████████| 552kB 40.8MB/s \n",
      "\u001b[?25hRequirement already satisfied: python-dateutil>=2.6.1 in /usr/local/lib/python3.6/dist-packages (from pandas>=0.17.0->pyLDAvis) (2.8.1)\n",
      "Requirement already satisfied: pytz>=2017.2 in /usr/local/lib/python3.6/dist-packages (from pandas>=0.17.0->pyLDAvis) (2018.9)\n",
      "Requirement already satisfied: MarkupSafe>=0.23 in /usr/local/lib/python3.6/dist-packages (from jinja2>=2.7.2->pyLDAvis) (1.1.1)\n",
      "Requirement already satisfied: setuptools in /usr/local/lib/python3.6/dist-packages (from pytest->pyLDAvis) (46.3.0)\n",
      "Requirement already satisfied: six>=1.10.0 in /usr/local/lib/python3.6/dist-packages (from pytest->pyLDAvis) (1.12.0)\n",
      "Requirement already satisfied: py>=1.5.0 in /usr/local/lib/python3.6/dist-packages (from pytest->pyLDAvis) (1.8.1)\n",
      "Requirement already satisfied: pluggy<0.8,>=0.5 in /usr/local/lib/python3.6/dist-packages (from pytest->pyLDAvis) (0.7.1)\n",
      "Requirement already satisfied: atomicwrites>=1.0 in /usr/local/lib/python3.6/dist-packages (from pytest->pyLDAvis) (1.4.0)\n",
      "Requirement already satisfied: more-itertools>=4.0.0 in /usr/local/lib/python3.6/dist-packages (from pytest->pyLDAvis) (8.3.0)\n",
      "Requirement already satisfied: attrs>=17.4.0 in /usr/local/lib/python3.6/dist-packages (from pytest->pyLDAvis) (19.3.0)\n",
      "Building wheels for collected packages: pyLDAvis, funcy\n",
      "  Building wheel for pyLDAvis (setup.py) ... \u001b[?25l\u001b[?25hdone\n",
      "  Created wheel for pyLDAvis: filename=pyLDAvis-2.1.2-py2.py3-none-any.whl size=97711 sha256=b51e99c99ae62e833ba2dcbf9e2d6d232edb3d24bd55c3baf690e529e44c54bb\n",
      "  Stored in directory: /root/.cache/pip/wheels/98/71/24/513a99e58bb6b8465bae4d2d5e9dba8f0bef8179e3051ac414\n",
      "  Building wheel for funcy (setup.py) ... \u001b[?25l\u001b[?25hdone\n",
      "  Created wheel for funcy: filename=funcy-1.14-py2.py3-none-any.whl size=32042 sha256=62bfe44ce39ee2321030549069c88f2f0ba61252afde65c8a04af1ec99446866\n",
      "  Stored in directory: /root/.cache/pip/wheels/20/5a/d8/1d875df03deae6f178dfdf70238cca33f948ef8a6f5209f2eb\n",
      "Successfully built pyLDAvis funcy\n",
      "Installing collected packages: funcy, pyLDAvis\n",
      "Successfully installed funcy-1.14 pyLDAvis-2.1.2\n"
     ]
    }
   ],
   "source": [
    "!pip install spacy\n",
    "!pip install pyLDAvis"
   ]
  },
  {
   "cell_type": "code",
   "execution_count": 0,
   "metadata": {
    "colab": {},
    "colab_type": "code",
    "id": "G2bfVeT_4QRZ"
   },
   "outputs": [],
   "source": [
    "import re\n",
    "import numpy as np\n",
    "import pandas as pd\n",
    "from pprint import pprint\n",
    "\n",
    "# Gensim\n",
    "import gensim\n",
    "import gensim.corpora as corpora\n",
    "from gensim.utils import simple_preprocess\n",
    "from gensim.models import CoherenceModel\n",
    "\n",
    "# spacy for lemmatization\n",
    "import spacy\n",
    "\n",
    "# Plotting tools\n",
    "import pyLDAvis\n",
    "import pyLDAvis.gensim  # don't skip this\n",
    "import matplotlib.pyplot as plt\n",
    "%matplotlib inline"
   ]
  },
  {
   "cell_type": "code",
   "execution_count": 4,
   "metadata": {
    "colab": {
     "base_uri": "https://localhost:8080/",
     "height": 34
    },
    "colab_type": "code",
    "executionInfo": {
     "elapsed": 3937,
     "status": "ok",
     "timestamp": 1590205028372,
     "user": {
      "displayName": "Shikshya Dahal",
      "photoUrl": "",
      "userId": "13672899809593533424"
     },
     "user_tz": -420
    },
    "id": "PZfBBH5e3_F3",
    "outputId": "2d3b1cfd-7c08-4749-ee0e-8ae260612d35"
   },
   "outputs": [
    {
     "name": "stdout",
     "output_type": "stream",
     "text": [
      "(11489, 13)\n"
     ]
    }
   ],
   "source": [
    "import pandas as pd\n",
    "data = pd.read_csv('/content/drive/My Drive/Thesis/python code/nature&parks/nature&parks.csv', error_bad_lines=False);\n",
    "data.head(5)\n",
    "print(data.shape)"
   ]
  },
  {
   "cell_type": "code",
   "execution_count": 5,
   "metadata": {
    "colab": {
     "base_uri": "https://localhost:8080/",
     "height": 70
    },
    "colab_type": "code",
    "executionInfo": {
     "elapsed": 3861,
     "status": "ok",
     "timestamp": 1590205028877,
     "user": {
      "displayName": "Shikshya Dahal",
      "photoUrl": "",
      "userId": "13672899809593533424"
     },
     "user_tz": -420
    },
    "id": "4bVP1I4JSr9_",
    "outputId": "bbd74f80-b181-46b9-fcaf-ada5b1162bf4"
   },
   "outputs": [
    {
     "name": "stderr",
     "output_type": "stream",
     "text": [
      "/usr/local/lib/python3.6/dist-packages/statsmodels/tools/_testing.py:19: FutureWarning: pandas.util.testing is deprecated. Use the functions in the public API at pandas.testing instead.\n",
      "  import pandas.util.testing as tm\n"
     ]
    }
   ],
   "source": [
    "\n",
    "from nltk import FreqDist\n",
    "import seaborn as sns\n",
    "\n",
    "def freq_words(x, terms = 30):\n",
    "  \n",
    "  all_words = ' '.join([text for text in x])\n",
    "  all_words = all_words.split()\n",
    "\n",
    "  fdist = FreqDist(all_words)\n",
    "  words_df = pd.DataFrame({'word':list(fdist.keys()), 'count':list(fdist.values())})\n",
    "\n",
    "  # selecting top 20 most frequent words\n",
    "  d = words_df.nlargest(columns=\"count\", n = terms) \n",
    "  \n",
    "  plt.figure(figsize=(20,5))\n",
    "  ax = sns.barplot(data=d, x= \"word\", y = \"count\")\n",
    "  ax.set(ylabel = 'Count')\n",
    "  plt.show()"
   ]
  },
  {
   "cell_type": "code",
   "execution_count": 6,
   "metadata": {
    "colab": {
     "base_uri": "https://localhost:8080/",
     "height": 334
    },
    "colab_type": "code",
    "executionInfo": {
     "elapsed": 4803,
     "status": "ok",
     "timestamp": 1590205030272,
     "user": {
      "displayName": "Shikshya Dahal",
      "photoUrl": "",
      "userId": "13672899809593533424"
     },
     "user_tz": -420
    },
    "id": "5OjyyX2htz6U",
    "outputId": "c2ff0b0d-dd33-4459-a0ba-f58c34ad9973"
   },
   "outputs": [
    {
     "data": {
      "image/png": "[encoded data removed]",
      "text/plain": [
       "<Figure size 1440x360 with 1 Axes>"
      ]
     },
     "metadata": {
      "needs_background": "light",
      "tags": []
     },
     "output_type": "display_data"
    }
   ],
   "source": [
    "freq_words(data['Review'])"
   ]
  },
  {
   "cell_type": "code",
   "execution_count": 7,
   "metadata": {
    "colab": {
     "base_uri": "https://localhost:8080/",
     "height": 67
    },
    "colab_type": "code",
    "executionInfo": {
     "elapsed": 4426,
     "status": "ok",
     "timestamp": 1590205030273,
     "user": {
      "displayName": "Shikshya Dahal",
      "photoUrl": "",
      "userId": "13672899809593533424"
     },
     "user_tz": -420
    },
    "id": "QBapYA0X4MPj",
    "outputId": "88455280-3bf5-46a6-e1f0-be93f20c2a44"
   },
   "outputs": [
    {
     "name": "stdout",
     "output_type": "stream",
     "text": [
      "[nltk_data] Downloading package stopwords to /root/nltk_data...\n",
      "[nltk_data]   Unzipping corpora/stopwords.zip.\n"
     ]
    },
    {
     "data": {
      "text/plain": [
       "True"
      ]
     },
     "execution_count": 7,
     "metadata": {
      "tags": []
     },
     "output_type": "execute_result"
    }
   ],
   "source": [
    "import nltk\n",
    "nltk.download('stopwords')"
   ]
  },
  {
   "cell_type": "code",
   "execution_count": 0,
   "metadata": {
    "colab": {},
    "colab_type": "code",
    "id": "t8rwqMO64S0u"
   },
   "outputs": [],
   "source": [
    "# NLTK Stop words\n",
    "# from nltk.corpus import stopwords\n",
    "# stop_words = stopwords.words('english')\n",
    "# stop_words.extend(['phewa', 'kathmandu', 'pokhara','sarangkot','nepal','place','lake', 'bit','sit','etc.','go','be','able','little','lot','garden','phewa','fewa',\n",
    "#                    'thamel','restaurant','cave','day','river','time','water','fall','city','peaceful','city','busy','cafe','car','hotel','ktm','earth',\n",
    "#                    'lakeside','waterfall','tal','island','inside','look','minute','minutes','coffee','read','definitely','lots','lot','side','sides','point','devis','thing'\n",
    "#                    ,'view','visit','people','day','days','hour','hours','end','things','bat','bats','cave','caves','life',\n",
    "#                    'area','areas','friends','spot','sopts','view','day','night','nights','walk'\n",
    "#                    ,'part','parts','step','steps','top','view','lunch','evening','morning',\n",
    "#                    'attraction','view','exit','devi','views','dream'\n",
    "#                    ,'photo','waterfall','boating','food','row'])\n",
    "\n",
    "\n",
    "\n",
    "from nltk.corpus import stopwords\n",
    "stop_words = stopwords.words('english')\n",
    "stop_words.extend(['phewa', 'kathmandu', 'pokhara','sarangkot','nepal','place','lake', 'bit','sit','etc.','go','be','able','little','lot','garden','phewa','fewa',\n",
    "                   'thamel','restaurant','restaurants','cave','day','river','time','water','fall','city','peaceful','city','busy','cafe','car','hotel','ktm','earth',\n",
    "                   'lakeside','waterfall','tal','island','inside','look','minute','minutes','coffee','read','definitely','lots','lot','side','sides','point','devis','thing'\n",
    "                   ,'view','visit','people','day','days','hour','hours','end','things','bat','bats','cave','caves','life',\n",
    "                   'area','areas','friends','spot','spots','view','day','night','nights','walk'\n",
    "                   ,'part','parts','step','steps','top','view','lunch','evening','morning',\n",
    "                   'attraction','view','exit','devi','views','dream'\n",
    "                   ,'photo','photos','waterfall','boating','food','row',\n",
    "                   'book','books','village','experience','tea','site','sites','tunnel','tourist',\n",
    "                   'waterfall','waterfalls','love','tourist','grass',\n",
    "                   'temple','place','places','afternoon','sunset','sunrise','group','groups'\n",
    "                   ,'years','tourists','bus',\n",
    "                   'road','taxi','fish','nature',\n",
    "                   'dream','couple','couples','monsoon','flower','relax',\n",
    "                   'driver','flowers','flower','local','locals'\n",
    "                   ,'light','lights','season','enjoy','bar','bars','family','garden','fall'\n",
    "                   ,'shop','beauty','weather','garden','rock','rocks','shops','shop',\n",
    "                   'life','section','sections','style','styles'\n",
    "                   ,'trekker','town','boat','boating','cloud','mountain','mountains'\n",
    "                  #  ,'option','options','house','person','persons','drink'\n",
    "                   ])\n",
    "\n",
    "\n",
    "# stop_words.extend(['phewa', 'kathmandu', 'pokhara','sarangkot','nepal','place','lake', 'bit','sit','etc.','go','be','able','little','lot','garden','phewa','fewa',\n",
    "#                    'thamel','restaurant','restaurants','cave','day','river','time','water','fall','city','peaceful','city','busy','cafe','car','hotel','ktm','earth',\n",
    "#                    'lakeside','waterfall','tal','island','inside','look','minute','minutes','coffee','read','definitely','lots','lot','side','sides','point','devis','thing'\n",
    "#                    ,'view','visit','people','day','days','hour','hours','end','things','bat','bats','cave','caves','life',\n",
    "#                    'area','areas','friends','spot','spots','view','day','night','nights','walk'\n",
    "#                    ,'part','parts','step','steps','top','view','lunch','evening','morning',\n",
    "#                    'attraction','view','exit','devi','views','dream'\n",
    "#                    ])"
   ]
  },
  {
   "cell_type": "code",
   "execution_count": 0,
   "metadata": {
    "colab": {},
    "colab_type": "code",
    "id": "lX0Nn8mS4dsm"
   },
   "outputs": [],
   "source": [
    "df=data"
   ]
  },
  {
   "cell_type": "code",
   "execution_count": 10,
   "metadata": {
    "colab": {
     "base_uri": "https://localhost:8080/",
     "height": 719
    },
    "colab_type": "code",
    "executionInfo": {
     "elapsed": 3378,
     "status": "ok",
     "timestamp": 1590205030275,
     "user": {
      "displayName": "Shikshya Dahal",
      "photoUrl": "",
      "userId": "13672899809593533424"
     },
     "user_tz": -420
    },
    "id": "a02jVe0H4mHv",
    "outputId": "805ca8a2-a4e2-492e-c969-8e3af6812e36"
   },
   "outputs": [
    {
     "data": {
      "text/html": [
       "<div>\n",
       "<style scoped>\n",
       "    .dataframe tbody tr th:only-of-type {\n",
       "        vertical-align: middle;\n",
       "    }\n",
       "\n",
       "    .dataframe tbody tr th {\n",
       "        vertical-align: top;\n",
       "    }\n",
       "\n",
       "    .dataframe thead th {\n",
       "        text-align: right;\n",
       "    }\n",
       "</style>\n",
       "<table border=\"1\" class=\"dataframe\">\n",
       "  <thead>\n",
       "    <tr style=\"text-align: right;\">\n",
       "      <th></th>\n",
       "      <th>Name</th>\n",
       "      <th>Reviewer</th>\n",
       "      <th>Review Title</th>\n",
       "      <th>Review</th>\n",
       "      <th>Rating</th>\n",
       "      <th>Helpful Vote</th>\n",
       "      <th>RatingMonth</th>\n",
       "      <th>RatingYear</th>\n",
       "      <th>ExpMonth</th>\n",
       "      <th>ExpYear</th>\n",
       "      <th>City</th>\n",
       "      <th>Country</th>\n",
       "      <th>Attraction_Location</th>\n",
       "    </tr>\n",
       "  </thead>\n",
       "  <tbody>\n",
       "    <tr>\n",
       "      <th>0</th>\n",
       "      <td>Bat Cave</td>\n",
       "      <td>nepaltrekhub</td>\n",
       "      <td>Good but not impressive</td>\n",
       "      <td>I have been here many times here while i was i...</td>\n",
       "      <td>5</td>\n",
       "      <td>0</td>\n",
       "      <td>January</td>\n",
       "      <td>2020</td>\n",
       "      <td>June</td>\n",
       "      <td>2019.0</td>\n",
       "      <td>Kathmandu</td>\n",
       "      <td>Nepal</td>\n",
       "      <td>Pokhara</td>\n",
       "    </tr>\n",
       "    <tr>\n",
       "      <th>1</th>\n",
       "      <td>Bat Cave</td>\n",
       "      <td>enigmatic1989</td>\n",
       "      <td>One of a kind man v/s wild experience!!</td>\n",
       "      <td>These caves located at a 30 minute drive from ...</td>\n",
       "      <td>4</td>\n",
       "      <td>0</td>\n",
       "      <td>January</td>\n",
       "      <td>2020</td>\n",
       "      <td>January</td>\n",
       "      <td>2020.0</td>\n",
       "      <td>National Capital Territory of Delhi</td>\n",
       "      <td>India</td>\n",
       "      <td>Pokhara</td>\n",
       "    </tr>\n",
       "    <tr>\n",
       "      <th>2</th>\n",
       "      <td>Bat Cave</td>\n",
       "      <td>Emilie0410</td>\n",
       "      <td>Amazing bats - awful tourists..</td>\n",
       "      <td>The cave in itself is a short trip worth to do...</td>\n",
       "      <td>2</td>\n",
       "      <td>0</td>\n",
       "      <td>November</td>\n",
       "      <td>2019</td>\n",
       "      <td>November</td>\n",
       "      <td>2019.0</td>\n",
       "      <td>Brussels</td>\n",
       "      <td>Belgium</td>\n",
       "      <td>Pokhara</td>\n",
       "    </tr>\n",
       "    <tr>\n",
       "      <th>3</th>\n",
       "      <td>Bat Cave</td>\n",
       "      <td>AndyDavies73</td>\n",
       "      <td>DO NOT GO HERE</td>\n",
       "      <td>DO NOT GO HERE.  It is ab absolute waste of ti...</td>\n",
       "      <td>1</td>\n",
       "      <td>0</td>\n",
       "      <td>November</td>\n",
       "      <td>2019</td>\n",
       "      <td>November</td>\n",
       "      <td>2019.0</td>\n",
       "      <td>Leongatha</td>\n",
       "      <td>Australia</td>\n",
       "      <td>Pokhara</td>\n",
       "    </tr>\n",
       "    <tr>\n",
       "      <th>4</th>\n",
       "      <td>Bat Cave</td>\n",
       "      <td>819nicoh</td>\n",
       "      <td>Not worth the trip</td>\n",
       "      <td>Cave is rather small with 2 entrances on both ...</td>\n",
       "      <td>2</td>\n",
       "      <td>0</td>\n",
       "      <td>November</td>\n",
       "      <td>2019</td>\n",
       "      <td>November</td>\n",
       "      <td>2019.0</td>\n",
       "      <td>Montabaur</td>\n",
       "      <td>Germany</td>\n",
       "      <td>Pokhara</td>\n",
       "    </tr>\n",
       "  </tbody>\n",
       "</table>\n",
       "</div>"
      ],
      "text/plain": [
       "       Name       Reviewer  ...    Country Attraction_Location\n",
       "0  Bat Cave   nepaltrekhub  ...      Nepal             Pokhara\n",
       "1  Bat Cave  enigmatic1989  ...      India             Pokhara\n",
       "2  Bat Cave     Emilie0410  ...    Belgium             Pokhara\n",
       "3  Bat Cave   AndyDavies73  ...  Australia             Pokhara\n",
       "4  Bat Cave       819nicoh  ...    Germany             Pokhara\n",
       "\n",
       "[5 rows x 13 columns]"
      ]
     },
     "execution_count": 10,
     "metadata": {
      "tags": []
     },
     "output_type": "execute_result"
    }
   ],
   "source": [
    "df.head()"
   ]
  },
  {
   "cell_type": "code",
   "execution_count": 11,
   "metadata": {
    "colab": {
     "base_uri": "https://localhost:8080/",
     "height": 191
    },
    "colab_type": "code",
    "executionInfo": {
     "elapsed": 6788,
     "status": "ok",
     "timestamp": 1590205034108,
     "user": {
      "displayName": "Shikshya Dahal",
      "photoUrl": "",
      "userId": "13672899809593533424"
     },
     "user_tz": -420
    },
    "id": "QkrD05m5ETk7",
    "outputId": "084ef04a-301b-4330-caba-14d0cc63b2b2"
   },
   "outputs": [
    {
     "data": {
      "image/png": "[encoded data removed]",
      "text/plain": [
       "<Figure size 1440x360 with 1 Axes>"
      ]
     },
     "metadata": {
      "needs_background": "light",
      "tags": []
     },
     "output_type": "display_data"
    }
   ],
   "source": [
    "# function to remove stopwords\n",
    "def remove_stopwords(rev):\n",
    "    rev_new = \" \".join([i for i in rev if i not in stop_words])\n",
    "    \n",
    "    return rev_new\n",
    "\n",
    "# remove short words (length < 3)\n",
    "df['Review'] = df['Review'].apply(lambda x: ' '.join([w for w in x.split() if len(w)>2]))\n",
    "\n",
    "df['Review'] = [r.lower() for r in df['Review']]\n",
    "# remove stopwords from the text\n",
    "df['Review'] = [remove_stopwords(r.split()) for r in df['Review']]\n",
    "\n",
    "freq_words(data['Review'])"
   ]
  },
  {
   "cell_type": "code",
   "execution_count": 12,
   "metadata": {
    "colab": {
     "base_uri": "https://localhost:8080/",
     "height": 54,
     "output_embedded_package_id": "1SoEjubb04NkF6GLbtuiaY0xzrXL6m9qR"
    },
    "colab_type": "code",
    "executionInfo": {
     "elapsed": 6297,
     "status": "ok",
     "timestamp": 1590205034109,
     "user": {
      "displayName": "Shikshya Dahal",
      "photoUrl": "",
      "userId": "13672899809593533424"
     },
     "user_tz": -420
    },
    "id": "XzbhOR9V4nb3",
    "outputId": "d9be8357-0d7b-4e6f-cc5b-f983021cf5d3"
   },
   "outputs": [
    {
     "data": {
      "text/plain": [
       "Output hidden; open in https://colab.research.google.com to view."
      ]
     },
     "metadata": {},
     "output_type": "display_data"
    }
   ],
   "source": [
    "# Convert to list\n",
    "\n",
    "df[\"concatenated_review\"] = df['Review Title'] +\" \" + df['Review']\n",
    "data =df['concatenated_review'].values.tolist()\n",
    "data_review=df['Review']\n",
    "# # Remove Emails\n",
    "# data = [re.sub('\\S*@\\S*\\s?', '', sent) for sent in data]\n",
    "\n",
    "# # Remove new line characters\n",
    "# data = [re.sub('\\s+', ' ', sent) for sent in data]\n",
    "\n",
    "# # Remove distracting single quotes\n",
    "# data = [re.sub(\"\\'\", \"\", sent) for sent in data]\n",
    "\n",
    "print(data)\n",
    "# pprint(data[:1])"
   ]
  },
  {
   "cell_type": "code",
   "execution_count": 13,
   "metadata": {
    "colab": {
     "base_uri": "https://localhost:8080/",
     "height": 54
    },
    "colab_type": "code",
    "executionInfo": {
     "elapsed": 6016,
     "status": "ok",
     "timestamp": 1590205034439,
     "user": {
      "displayName": "Shikshya Dahal",
      "photoUrl": "",
      "userId": "13672899809593533424"
     },
     "user_tz": -420
    },
    "id": "_-HAcncA4xS0",
    "outputId": "371c65c9-90b7-4811-b6c2-9b318278d5df"
   },
   "outputs": [
    {
     "name": "stdout",
     "output_type": "stream",
     "text": [
      "[['good', 'but', 'not', 'impressive', 'many', 'times', 'quite', 'interesting', 'see', 'quite', 'smelly', 'like', 'location', 'spent', 'quite', 'good', 'here']]\n"
     ]
    }
   ],
   "source": [
    "def sent_to_words(sentences):\n",
    "    for sentence in sentences:\n",
    "        yield(gensim.utils.simple_preprocess(str(sentence), deacc=True))  # deacc=True removes punctuations\n",
    "\n",
    "data_words = list(sent_to_words(data))\n",
    "\n",
    "print(data_words[:1])"
   ]
  },
  {
   "cell_type": "code",
   "execution_count": 14,
   "metadata": {
    "colab": {
     "base_uri": "https://localhost:8080/",
     "height": 87
    },
    "colab_type": "code",
    "executionInfo": {
     "elapsed": 11739,
     "status": "ok",
     "timestamp": 1590205040870,
     "user": {
      "displayName": "Shikshya Dahal",
      "photoUrl": "",
      "userId": "13672899809593533424"
     },
     "user_tz": -420
    },
    "id": "if501HNF41c-",
    "outputId": "20cdea29-664e-4d1c-bb6a-0de40a884653"
   },
   "outputs": [
    {
     "name": "stderr",
     "output_type": "stream",
     "text": [
      "/usr/local/lib/python3.6/dist-packages/gensim/models/phrases.py:598: UserWarning: For a faster implementation, use the gensim.models.phrases.Phraser class\n",
      "  warnings.warn(\"For a faster implementation, use the gensim.models.phrases.Phraser class\")\n"
     ]
    },
    {
     "name": "stdout",
     "output_type": "stream",
     "text": [
      "['good', 'but', 'not', 'impressive', 'many', 'times', 'quite', 'interesting', 'see', 'quite', 'smelly', 'like', 'location', 'spent', 'quite', 'good', 'here']\n"
     ]
    }
   ],
   "source": [
    "# Build the bigram and trigram models\n",
    "bigram = gensim.models.Phrases(data_words, min_count=5, threshold=50) # higher threshold fewer phrases.\n",
    "trigram = gensim.models.Phrases(bigram[data_words], threshold=100)  \n",
    "\n",
    "# Faster way to get a sentence clubbed as a trigram/bigram\n",
    "bigram_mod = gensim.models.phrases.Phraser(bigram)\n",
    "trigram_mod = gensim.models.phrases.Phraser(trigram)\n",
    "\n",
    "# See trigram example\n",
    "print(trigram_mod[bigram_mod[data_words[0]]])"
   ]
  },
  {
   "cell_type": "code",
   "execution_count": 0,
   "metadata": {
    "colab": {},
    "colab_type": "code",
    "id": "kAy0IKLE45Jn"
   },
   "outputs": [],
   "source": [
    "# Define functions for stopwords, bigrams, trigrams and lemmatization\n",
    "def remove_stopwords(texts):\n",
    "    return [[word for word in simple_preprocess(str(doc)) if word.lower() not in stop_words] for doc in texts]\n",
    "\n",
    "def remove_numbers(texts):\n",
    "  return [[word for word in simple_preprocess(str(doc)) if not word.isnumeric()] for doc in texts]\n",
    "\n",
    "def make_bigrams(texts):\n",
    "    return [bigram_mod[doc] for doc in texts]\n",
    "\n",
    "def remove_words_with2characters(texts):\n",
    "  return [[word for word in simple_preprocess(str(doc)) if len(word)>3] for doc in texts]\n",
    "\n",
    "def make_trigrams(texts):\n",
    "    return [trigram_mod[bigram_mod[doc]] for doc in texts]\n",
    "\n",
    "# def lemmatization(texts, allowed_postags=['NOUN', 'ADJ', 'VERB', 'ADV']):\n",
    "def lemmatization(texts, allowed_postags=['NOUN']):\n",
    "\n",
    "    \"\"\"https://spacy.io/api/annotation\"\"\"\n",
    "    texts_out = []\n",
    "    for sent in texts:\n",
    "        doc = nlp(\" \".join(sent)) \n",
    "        texts_out.append([token.lemma_ for token in doc if token.pos_ in allowed_postags])\n",
    "    return texts_out"
   ]
  },
  {
   "cell_type": "code",
   "execution_count": 16,
   "metadata": {
    "colab": {
     "base_uri": "https://localhost:8080/",
     "height": 34
    },
    "colab_type": "code",
    "executionInfo": {
     "elapsed": 53311,
     "status": "ok",
     "timestamp": 1590205084030,
     "user": {
      "displayName": "Shikshya Dahal",
      "photoUrl": "",
      "userId": "13672899809593533424"
     },
     "user_tz": -420
    },
    "id": "qr_kp5JP48-l",
    "outputId": "3fc461ff-6b2b-4802-e456-78cd320c37d9"
   },
   "outputs": [
    {
     "name": "stdout",
     "output_type": "stream",
     "text": [
      "[['time', 'location']]\n"
     ]
    }
   ],
   "source": [
    "\n",
    "# Remove Stop Words\n",
    "data_words_nostops = remove_stopwords(data_words)\n",
    "# data_words_nostops=remove_words_with2characters(data_words_nostops)\n",
    "data_words_nostops=remove_numbers(data_words_nostops)\n",
    "# Form Bigrams\n",
    "data_words_bigrams = make_bigrams(data_words_nostops)\n",
    "\n",
    "# Initialize spacy 'en' model, keeping only tagger component (for efficiency)\n",
    "# python3 -m spacy download en\n",
    "nlp = spacy.load('en', disable=['parser', 'ner'])\n",
    "\n",
    "# Do lemmatization keeping only noun, adj, vb, adv\n",
    "# data_lemmatized = lemmatization(data_words_bigrams, allowed_postags=['NOUN', 'ADJ', 'VERB', 'ADV'])\n",
    "\n",
    "data_lemmatized = lemmatization(data_words_bigrams, allowed_postags=['NOUN'])\n",
    "\n",
    "print(data_lemmatized[:1])"
   ]
  },
  {
   "cell_type": "code",
   "execution_count": 17,
   "metadata": {
    "colab": {
     "base_uri": "https://localhost:8080/",
     "height": 34
    },
    "colab_type": "code",
    "executionInfo": {
     "elapsed": 50310,
     "status": "ok",
     "timestamp": 1590205084031,
     "user": {
      "displayName": "Shikshya Dahal",
      "photoUrl": "",
      "userId": "13672899809593533424"
     },
     "user_tz": -420
    },
    "id": "g2yssTKi4_mh",
    "outputId": "e49ff91f-0dfd-4bd7-8013-2dbf5db617b8"
   },
   "outputs": [
    {
     "name": "stdout",
     "output_type": "stream",
     "text": [
      "[[(0, 1), (1, 1)]]\n"
     ]
    }
   ],
   "source": [
    "# Create Dictionary\n",
    "id2word = corpora.Dictionary(data_lemmatized)\n",
    "id2word.filter_extremes(no_below=5, no_above=0.9)\n",
    "# Create Corpus\n",
    "texts = data_lemmatized\n",
    "\n",
    "# Term Document Frequency\n",
    "corpus = [id2word.doc2bow(text) for text in texts]\n",
    "\n",
    "# View\n",
    "print(corpus[:1])"
   ]
  },
  {
   "cell_type": "code",
   "execution_count": 0,
   "metadata": {
    "colab": {
     "base_uri": "https://localhost:8080/",
     "height": 34
    },
    "colab_type": "code",
    "executionInfo": {
     "elapsed": 44984,
     "status": "ok",
     "timestamp": 1589386942725,
     "user": {
      "displayName": "Shikshya Dahal",
      "photoUrl": "",
      "userId": "13672899809593533424"
     },
     "user_tz": -420
    },
    "id": "urzlq3Pc5DE3",
    "outputId": "d78bb3e0-acac-4d9a-ff11-9362163a57b1"
   },
   "outputs": [
    {
     "data": {
      "text/plain": [
       "'location'"
      ]
     },
     "execution_count": 19,
     "metadata": {
      "tags": []
     },
     "output_type": "execute_result"
    }
   ],
   "source": [
    "id2word[0]"
   ]
  },
  {
   "cell_type": "code",
   "execution_count": 0,
   "metadata": {
    "colab": {
     "base_uri": "https://localhost:8080/",
     "height": 34
    },
    "colab_type": "code",
    "executionInfo": {
     "elapsed": 91916,
     "status": "ok",
     "timestamp": 1587184759143,
     "user": {
      "displayName": "Shikshya Dahal",
      "photoUrl": "",
      "userId": "13672899809593533424"
     },
     "user_tz": -420
    },
    "id": "CP7i2WDX5GVa",
    "outputId": "9667aabd-7bab-47bd-88ea-ffcc207f7650"
   },
   "outputs": [
    {
     "data": {
      "text/plain": [
       "[[('location', 1), ('time', 1)]]"
      ]
     },
     "execution_count": 19,
     "metadata": {
      "tags": []
     },
     "output_type": "execute_result"
    }
   ],
   "source": [
    "# Human readable format of corpus (term-frequency)\n",
    "[[(id2word[id], freq) for id, freq in cp] for cp in corpus[:1]]"
   ]
  },
  {
   "cell_type": "code",
   "execution_count": 0,
   "metadata": {
    "colab": {},
    "colab_type": "code",
    "id": "FvI7WOaknhvY"
   },
   "outputs": [],
   "source": [
    "# !wget http://mallet.cs.umass.edu/dist/mallet-2.0.8.zip\n",
    "# !unzip mallet-2.0.8.zip\n",
    "\n",
    "import os.path\n",
    "os.environ['MALLET_HOME'] = '/content/mallet-2.0.8'\n",
    "mallet_path = '/content/mallet-2.0.8/bin/mallet' # you should NOT need to change this o"
   ]
  },
  {
   "cell_type": "code",
   "execution_count": 0,
   "metadata": {
    "colab": {
     "base_uri": "https://localhost:8080/",
     "height": 392
    },
    "colab_type": "code",
    "executionInfo": {
     "elapsed": 37451,
     "status": "ok",
     "timestamp": 1587801993632,
     "user": {
      "displayName": "Shikshya Dahal",
      "photoUrl": "",
      "userId": "13672899809593533424"
     },
     "user_tz": -420
    },
    "id": "WqdWrHLxwFFo",
    "outputId": "00ac1bca-26f7-465b-8e1e-02dbc63ae7ed"
   },
   "outputs": [
    {
     "name": "stderr",
     "output_type": "stream",
     "text": [
      "/usr/local/lib/python3.6/dist-packages/smart_open/smart_open_lib.py:253: UserWarning: This function is deprecated, use smart_open.open instead. See the migration notes for details: https://github.com/RaRe-Technologies/smart_open/blob/master/README.rst#migrating-to-the-new-open-function\n",
      "  'See the migration notes for details: %s' % _MIGRATION_NOTES_URL\n"
     ]
    },
    {
     "name": "stdout",
     "output_type": "stream",
     "text": [
      "[(0,\n",
      "  '0.022*\"trip\" + 0.019*\"guide\" + 0.017*\"climb\" + 0.016*\"cloud\" + 0.015*\"hike\" '\n",
      "  '+ 0.014*\"peak\" + 0.012*\"range\" + 0.010*\"stair\" + 0.010*\"trail\" + '\n",
      "  '0.010*\"hill\"'),\n",
      " (1,\n",
      "  '0.053*\"ride\" + 0.029*\"boat\" + 0.024*\"trip\" + 0.022*\"cable\" + '\n",
      "  '0.015*\"activity\" + 0.014*\"hill\" + 0.011*\"fun\" + 0.011*\"rent\" + '\n",
      "  '0.010*\"paddle\" + 0.010*\"paragliding\"'),\n",
      " (2,\n",
      "  '0.029*\"oasis\" + 0.028*\"peace\" + 0.026*\"dream\" + 0.024*\"street\" + '\n",
      "  '0.020*\"garden\" + 0.016*\"noise\" + 0.015*\"chaos\" + 0.015*\"traffic\" + '\n",
      "  '0.014*\"escape\" + 0.012*\"rupee\"'),\n",
      " (3,\n",
      "  '0.021*\"entrance\" + 0.014*\"ticket\" + 0.012*\"park\" + 0.010*\"fall\" + '\n",
      "  '0.010*\"pay\" + 0.009*\"entry\" + 0.009*\"guide\" + 0.009*\"money\" + 0.008*\"rupee\" '\n",
      "  '+ 0.008*\"stair\"')]\n",
      "\n",
      "Coherence Score:  0.39560977472043424\n"
     ]
    }
   ],
   "source": [
    "new_model = gensim.models.wrappers.LdaMallet(mallet_path, corpus=corpus, num_topics=4, optimize_interval=10,iterations=2000,id2word=id2word)\n",
    "\n",
    "pprint(new_model.print_topics())\n",
    "\n",
    "# Compute Coherence Score\n",
    "coherence_model_lda = CoherenceModel(model=new_model, texts=data_lemmatized, dictionary=id2word, coherence='c_v')\n",
    "coherence_lda = coherence_model_lda.get_coherence()\n",
    "print('\\nCoherence Score: ', coherence_lda)"
   ]
  },
  {
   "cell_type": "code",
   "execution_count": 0,
   "metadata": {
    "colab": {
     "base_uri": "https://localhost:8080/",
     "height": 301
    },
    "colab_type": "code",
    "executionInfo": {
     "elapsed": 1221,
     "status": "ok",
     "timestamp": 1587802130029,
     "user": {
      "displayName": "Shikshya Dahal",
      "photoUrl": "",
      "userId": "13672899809593533424"
     },
     "user_tz": -420
    },
    "id": "uZxEQRcUpZ8W",
    "outputId": "3de28a9a-d288-45de-d44f-bf90cf4f8f07"
   },
   "outputs": [
    {
     "name": "stdout",
     "output_type": "stream",
     "text": [
      "[(0,\n",
      "  '0.022*\"trip\" + 0.019*\"guide\" + 0.017*\"climb\" + 0.016*\"cloud\" + 0.015*\"hike\" '\n",
      "  '+ 0.014*\"peak\" + 0.012*\"range\" + 0.010*\"stair\" + 0.010*\"trail\" + '\n",
      "  '0.010*\"hill\"'),\n",
      " (1,\n",
      "  '0.053*\"ride\" + 0.029*\"boat\" + 0.024*\"trip\" + 0.022*\"cable\" + '\n",
      "  '0.015*\"activity\" + 0.014*\"hill\" + 0.011*\"fun\" + 0.011*\"rent\" + '\n",
      "  '0.010*\"paddle\" + 0.010*\"paragliding\"'),\n",
      " (2,\n",
      "  '0.029*\"oasis\" + 0.028*\"peace\" + 0.026*\"dream\" + 0.024*\"street\" + '\n",
      "  '0.020*\"garden\" + 0.016*\"noise\" + 0.015*\"chaos\" + 0.015*\"traffic\" + '\n",
      "  '0.014*\"escape\" + 0.012*\"rupee\"'),\n",
      " (3,\n",
      "  '0.021*\"entrance\" + 0.014*\"ticket\" + 0.012*\"park\" + 0.010*\"fall\" + '\n",
      "  '0.010*\"pay\" + 0.009*\"entry\" + 0.009*\"guide\" + 0.009*\"money\" + 0.008*\"rupee\" '\n",
      "  '+ 0.008*\"stair\"')]\n"
     ]
    }
   ],
   "source": [
    "def mallet_to_lda(mallet_model):\n",
    "    model_gensim = gensim.models.LdaModel(\n",
    "        id2word=mallet_model.id2word, num_topics=mallet_model.num_topics,\n",
    "        alpha=mallet_model.alpha, eta=0, iterations=2000,\n",
    "        gamma_threshold=0.001,\n",
    "        dtype=np.float32\n",
    "    )\n",
    "    model_gensim.sync_state()\n",
    "    model_gensim.state.sstats = mallet_model.wordtopics\n",
    "    return model_gensim\n",
    "\n",
    "lda_model=mallet_to_lda(new_model)\n",
    "pprint(lda_model.print_topics(20))"
   ]
  },
  {
   "cell_type": "code",
   "execution_count": 0,
   "metadata": {
    "colab": {},
    "colab_type": "code",
    "id": "NDsgAB9a0OG_"
   },
   "outputs": [],
   "source": [
    "pprint(lda_model.print_topics(num_topics=-1,num_words=100))"
   ]
  },
  {
   "cell_type": "code",
   "execution_count": 0,
   "metadata": {
    "colab": {
     "base_uri": "https://localhost:8080/",
     "height": 72
    },
    "colab_type": "code",
    "executionInfo": {
     "elapsed": 1374,
     "status": "ok",
     "timestamp": 1587802138026,
     "user": {
      "displayName": "Shikshya Dahal",
      "photoUrl": "",
      "userId": "13672899809593533424"
     },
     "user_tz": -420
    },
    "id": "fq8iEImWkNKI",
    "outputId": "e97687d7-cc94-41c5-d848-51eb401874f1"
   },
   "outputs": [
    {
     "name": "stderr",
     "output_type": "stream",
     "text": [
      "/usr/local/lib/python3.6/dist-packages/smart_open/smart_open_lib.py:253: UserWarning: This function is deprecated, use smart_open.open instead. See the migration notes for details: https://github.com/RaRe-Technologies/smart_open/blob/master/README.rst#migrating-to-the-new-open-function\n",
      "  'See the migration notes for details: %s' % _MIGRATION_NOTES_URL\n"
     ]
    }
   ],
   "source": [
    "lda_model.save('/content/drive/My Drive/Thesis/python code/nature&parks/model.gensim')"
   ]
  },
  {
   "cell_type": "code",
   "execution_count": 18,
   "metadata": {
    "colab": {
     "base_uri": "https://localhost:8080/",
     "height": 70
    },
    "colab_type": "code",
    "executionInfo": {
     "elapsed": 1957,
     "status": "ok",
     "timestamp": 1590205095106,
     "user": {
      "displayName": "Shikshya Dahal",
      "photoUrl": "",
      "userId": "13672899809593533424"
     },
     "user_tz": -420
    },
    "id": "iedTnP1NGL2W",
    "outputId": "0f025c1b-3d1a-4078-c9d7-524a82512921"
   },
   "outputs": [
    {
     "name": "stderr",
     "output_type": "stream",
     "text": [
      "/usr/local/lib/python3.6/dist-packages/smart_open/smart_open_lib.py:253: UserWarning: This function is deprecated, use smart_open.open instead. See the migration notes for details: https://github.com/RaRe-Technologies/smart_open/blob/master/README.rst#migrating-to-the-new-open-function\n",
      "  'See the migration notes for details: %s' % _MIGRATION_NOTES_URL\n"
     ]
    }
   ],
   "source": [
    "lda_model=gensim.models.LdaModel.load('/content/drive/My Drive/Thesis/python code/nature&parks/model.gensim')"
   ]
  },
  {
   "cell_type": "code",
   "execution_count": 0,
   "metadata": {
    "colab": {
     "base_uri": "https://localhost:8080/",
     "height": 50
    },
    "colab_type": "code",
    "executionInfo": {
     "elapsed": 1164,
     "status": "ok",
     "timestamp": 1590171151192,
     "user": {
      "displayName": "Shikshya Dahal",
      "photoUrl": "",
      "userId": "13672899809593533424"
     },
     "user_tz": -420
    },
    "id": "QPd3YX31oP_p",
    "outputId": "4f96d998-e6f7-4bcb-ad93-562fe9239363"
   },
   "outputs": [
    {
     "name": "stdout",
     "output_type": "stream",
     "text": [
      "\n",
      "Coherence Score:  0.39560977472043424\n"
     ]
    }
   ],
   "source": [
    "# Compute Coherence Score\n",
    "coherence_model_lda = CoherenceModel(model=lda_model, texts=data_lemmatized, dictionary=id2word, coherence='c_v')\n",
    "coherence_lda = coherence_model_lda.get_coherence()\n",
    "print('\\nCoherence Score: ', coherence_lda)"
   ]
  },
  {
   "cell_type": "code",
   "execution_count": 0,
   "metadata": {
    "colab": {
     "base_uri": "https://localhost:8080/",
     "height": 286
    },
    "colab_type": "code",
    "executionInfo": {
     "elapsed": 577,
     "status": "ok",
     "timestamp": 1590171152834,
     "user": {
      "displayName": "Shikshya Dahal",
      "photoUrl": "",
      "userId": "13672899809593533424"
     },
     "user_tz": -420
    },
    "id": "wv0_cCNNLCDe",
    "outputId": "a3295be4-325f-48eb-f8e8-7a9e91fa65cf"
   },
   "outputs": [
    {
     "name": "stdout",
     "output_type": "stream",
     "text": [
      "[(0,\n",
      "  '0.022*\"trip\" + 0.019*\"guide\" + 0.017*\"climb\" + 0.016*\"cloud\" + 0.015*\"hike\" '\n",
      "  '+ 0.014*\"peak\" + 0.012*\"range\" + 0.010*\"stair\" + 0.010*\"trail\" + '\n",
      "  '0.010*\"hill\"'),\n",
      " (1,\n",
      "  '0.053*\"ride\" + 0.029*\"boat\" + 0.024*\"trip\" + 0.022*\"cable\" + '\n",
      "  '0.015*\"activity\" + 0.014*\"hill\" + 0.011*\"fun\" + 0.011*\"rent\" + '\n",
      "  '0.010*\"paddle\" + 0.010*\"paragliding\"'),\n",
      " (2,\n",
      "  '0.029*\"oasis\" + 0.028*\"peace\" + 0.026*\"dream\" + 0.024*\"street\" + '\n",
      "  '0.020*\"garden\" + 0.016*\"noise\" + 0.015*\"chaos\" + 0.015*\"traffic\" + '\n",
      "  '0.014*\"escape\" + 0.012*\"rupee\"'),\n",
      " (3,\n",
      "  '0.021*\"entrance\" + 0.014*\"ticket\" + 0.012*\"park\" + 0.010*\"fall\" + '\n",
      "  '0.010*\"pay\" + 0.009*\"entry\" + 0.009*\"guide\" + 0.009*\"money\" + 0.008*\"rupee\" '\n",
      "  '+ 0.008*\"stair\"')]\n"
     ]
    }
   ],
   "source": [
    "pprint(lda_model.print_topics())"
   ]
  },
  {
   "cell_type": "code",
   "execution_count": 0,
   "metadata": {
    "colab": {
     "base_uri": "https://localhost:8080/",
     "height": 396
    },
    "colab_type": "code",
    "executionInfo": {
     "elapsed": 44939,
     "status": "ok",
     "timestamp": 1587802191552,
     "user": {
      "displayName": "Shikshya Dahal",
      "photoUrl": "",
      "userId": "13672899809593533424"
     },
     "user_tz": -420
    },
    "id": "NTKJpB06wV4Q",
    "outputId": "ca039bc9-d7b0-4b31-9e6a-699af5a40fca"
   },
   "outputs": [
    {
     "name": "stderr",
     "output_type": "stream",
     "text": [
      "/usr/local/lib/python3.6/dist-packages/smart_open/smart_open_lib.py:253: UserWarning: This function is deprecated, use smart_open.open instead. See the migration notes for details: https://github.com/RaRe-Technologies/smart_open/blob/master/README.rst#migrating-to-the-new-open-function\n",
      "  'See the migration notes for details: %s' % _MIGRATION_NOTES_URL\n"
     ]
    },
    {
     "data": {
      "text/html": [
       "<div>\n",
       "<style scoped>\n",
       "    .dataframe tbody tr th:only-of-type {\n",
       "        vertical-align: middle;\n",
       "    }\n",
       "\n",
       "    .dataframe tbody tr th {\n",
       "        vertical-align: top;\n",
       "    }\n",
       "\n",
       "    .dataframe thead th {\n",
       "        text-align: right;\n",
       "    }\n",
       "</style>\n",
       "<table border=\"1\" class=\"dataframe\">\n",
       "  <thead>\n",
       "    <tr style=\"text-align: right;\">\n",
       "      <th></th>\n",
       "      <th>Document_No</th>\n",
       "      <th>Dominant_Topic</th>\n",
       "      <th>Topic_Perc_Contrib</th>\n",
       "      <th>Keywords</th>\n",
       "      <th>Text</th>\n",
       "    </tr>\n",
       "  </thead>\n",
       "  <tbody>\n",
       "    <tr>\n",
       "      <th>0</th>\n",
       "      <td>0</td>\n",
       "      <td>2.0</td>\n",
       "      <td>0.4193</td>\n",
       "      <td>oasis, peace, dream, street, garden, noise, ch...</td>\n",
       "      <td>Good but not impressive many times quite inter...</td>\n",
       "    </tr>\n",
       "    <tr>\n",
       "      <th>1</th>\n",
       "      <td>1</td>\n",
       "      <td>3.0</td>\n",
       "      <td>0.8000</td>\n",
       "      <td>entrance, ticket, park, fall, pay, entry, guid...</td>\n",
       "      <td>One of a kind man v/s wild experience!! locate...</td>\n",
       "    </tr>\n",
       "    <tr>\n",
       "      <th>2</th>\n",
       "      <td>2</td>\n",
       "      <td>3.0</td>\n",
       "      <td>0.5349</td>\n",
       "      <td>entrance, ticket, park, fall, pay, entry, guid...</td>\n",
       "      <td>Amazing bats - awful tourists.. short trip wor...</td>\n",
       "    </tr>\n",
       "    <tr>\n",
       "      <th>3</th>\n",
       "      <td>3</td>\n",
       "      <td>3.0</td>\n",
       "      <td>0.6966</td>\n",
       "      <td>entrance, ticket, park, fall, pay, entry, guid...</td>\n",
       "      <td>DO NOT GO HERE here. absolute waste money need...</td>\n",
       "    </tr>\n",
       "    <tr>\n",
       "      <th>4</th>\n",
       "      <td>4</td>\n",
       "      <td>2.0</td>\n",
       "      <td>0.3410</td>\n",
       "      <td>oasis, peace, dream, street, garden, noise, ch...</td>\n",
       "      <td>Not worth the trip rather small entrances side...</td>\n",
       "    </tr>\n",
       "    <tr>\n",
       "      <th>5</th>\n",
       "      <td>5</td>\n",
       "      <td>3.0</td>\n",
       "      <td>0.7838</td>\n",
       "      <td>entrance, ticket, park, fall, pay, entry, guid...</td>\n",
       "      <td>No need to go went hired near gurkha museum. w...</td>\n",
       "    </tr>\n",
       "    <tr>\n",
       "      <th>6</th>\n",
       "      <td>6</td>\n",
       "      <td>3.0</td>\n",
       "      <td>0.4194</td>\n",
       "      <td>entrance, ticket, park, fall, pay, entry, guid...</td>\n",
       "      <td>Dangerous  please don't go here. since returni...</td>\n",
       "    </tr>\n",
       "    <tr>\n",
       "      <th>7</th>\n",
       "      <td>7</td>\n",
       "      <td>1.0</td>\n",
       "      <td>0.5444</td>\n",
       "      <td>ride, boat, trip, cable, activity, hill, fun, ...</td>\n",
       "      <td>Nice Little Side Trip nice necessarily whole s...</td>\n",
       "    </tr>\n",
       "    <tr>\n",
       "      <th>8</th>\n",
       "      <td>8</td>\n",
       "      <td>0.0</td>\n",
       "      <td>0.4461</td>\n",
       "      <td>trip, guide, climb, cloud, hike, peak, range, ...</td>\n",
       "      <td>Great Cave great get far enough. extremely sma...</td>\n",
       "    </tr>\n",
       "    <tr>\n",
       "      <th>9</th>\n",
       "      <td>9</td>\n",
       "      <td>0.0</td>\n",
       "      <td>0.5836</td>\n",
       "      <td>trip, guide, climb, cloud, hike, peak, range, ...</td>\n",
       "      <td>Best adventures place in Pokhara best adventur...</td>\n",
       "    </tr>\n",
       "  </tbody>\n",
       "</table>\n",
       "</div>"
      ],
      "text/plain": [
       "   Document_No  ...                                               Text\n",
       "0            0  ...  Good but not impressive many times quite inter...\n",
       "1            1  ...  One of a kind man v/s wild experience!! locate...\n",
       "2            2  ...  Amazing bats - awful tourists.. short trip wor...\n",
       "3            3  ...  DO NOT GO HERE here. absolute waste money need...\n",
       "4            4  ...  Not worth the trip rather small entrances side...\n",
       "5            5  ...  No need to go went hired near gurkha museum. w...\n",
       "6            6  ...  Dangerous  please don't go here. since returni...\n",
       "7            7  ...  Nice Little Side Trip nice necessarily whole s...\n",
       "8            8  ...  Great Cave great get far enough. extremely sma...\n",
       "9            9  ...  Best adventures place in Pokhara best adventur...\n",
       "\n",
       "[10 rows x 5 columns]"
      ]
     },
     "execution_count": 46,
     "metadata": {
      "tags": []
     },
     "output_type": "execute_result"
    }
   ],
   "source": [
    "\n",
    "def format_topics_sentences(ldamodel=lda_model, corpus=corpus, texts=data):\n",
    "    # Init output\n",
    "    sent_topics_df = pd.DataFrame()\n",
    "\n",
    "    # Get main topic in each document\n",
    "    for i, row in enumerate(ldamodel[corpus]):\n",
    "        row = sorted(row, key=lambda x: (x[1]), reverse=True)\n",
    "\n",
    "        \n",
    "\n",
    "        # Get the Dominant topic, Perc Contribution and Keywords for each document\n",
    "        for j, (topic_num, prop_topic) in enumerate(row):\n",
    "            if j == 0:  # => dominant topic\n",
    "                wp = ldamodel.show_topic(topic_num)\n",
    "                topic_keywords = \", \".join([word for word, prop in wp])\n",
    "                sent_topics_df = sent_topics_df.append(pd.Series([int(topic_num), round(prop_topic,4), topic_keywords]), ignore_index=True)\n",
    "            else:\n",
    "                break\n",
    "    sent_topics_df.columns = ['Dominant_Topic', 'Perc_Contribution', 'Topic_Keywords']\n",
    "\n",
    "    # Add original text to the end of the output\n",
    "    contents = pd.Series(texts)\n",
    "    sent_topics_df = pd.concat([sent_topics_df, contents], axis=1)\n",
    "    return(sent_topics_df)\n",
    "\n",
    "\n",
    "df_topic_sents_keywords = format_topics_sentences(ldamodel=new_model, corpus=corpus, texts=data)\n",
    "\n",
    "# Format\n",
    "df_dominant_topic = df_topic_sents_keywords.reset_index()\n",
    "df_dominant_topic.columns = ['Document_No', 'Dominant_Topic', 'Topic_Perc_Contrib', 'Keywords', 'Text']\n",
    "\n",
    "# Show\n",
    "df_dominant_topic.head(10)"
   ]
  },
  {
   "cell_type": "code",
   "execution_count": 0,
   "metadata": {
    "colab": {},
    "colab_type": "code",
    "id": "gCMwwrBVHS_E"
   },
   "outputs": [],
   "source": [
    "from google.colab import files\n",
    "\n",
    "df_dominant_topic.to_csv('NatureTopicAssignment.csv')\n",
    "files.download('NatureTopicAssignment.csv')\n"
   ]
  },
  {
   "cell_type": "code",
   "execution_count": 0,
   "metadata": {
    "colab": {
     "base_uri": "https://localhost:8080/",
     "height": 164
    },
    "colab_type": "code",
    "executionInfo": {
     "elapsed": 14519,
     "status": "ok",
     "timestamp": 1587802215116,
     "user": {
      "displayName": "Shikshya Dahal",
      "photoUrl": "",
      "userId": "13672899809593533424"
     },
     "user_tz": -420
    },
    "id": "aFLPFjg48e54",
    "outputId": "368b1710-99d0-4380-b246-777d23115a83"
   },
   "outputs": [
    {
     "data": {
      "text/html": [
       "<div>\n",
       "<style scoped>\n",
       "    .dataframe tbody tr th:only-of-type {\n",
       "        vertical-align: middle;\n",
       "    }\n",
       "\n",
       "    .dataframe tbody tr th {\n",
       "        vertical-align: top;\n",
       "    }\n",
       "\n",
       "    .dataframe thead th {\n",
       "        text-align: right;\n",
       "    }\n",
       "</style>\n",
       "<table border=\"1\" class=\"dataframe\">\n",
       "  <thead>\n",
       "    <tr style=\"text-align: right;\">\n",
       "      <th></th>\n",
       "      <th>Topic Num</th>\n",
       "      <th>Num Documents</th>\n",
       "    </tr>\n",
       "  </thead>\n",
       "  <tbody>\n",
       "    <tr>\n",
       "      <th>0</th>\n",
       "      <td>2.0</td>\n",
       "      <td>4021</td>\n",
       "    </tr>\n",
       "    <tr>\n",
       "      <th>1</th>\n",
       "      <td>0.0</td>\n",
       "      <td>2968</td>\n",
       "    </tr>\n",
       "    <tr>\n",
       "      <th>2</th>\n",
       "      <td>1.0</td>\n",
       "      <td>2726</td>\n",
       "    </tr>\n",
       "    <tr>\n",
       "      <th>3</th>\n",
       "      <td>3.0</td>\n",
       "      <td>1774</td>\n",
       "    </tr>\n",
       "  </tbody>\n",
       "</table>\n",
       "</div>"
      ],
      "text/plain": [
       "   Topic Num  Num Documents\n",
       "0        2.0           4021\n",
       "1        0.0           2968\n",
       "2        1.0           2726\n",
       "3        3.0           1774"
      ]
     },
     "execution_count": 48,
     "metadata": {
      "tags": []
     },
     "output_type": "execute_result"
    }
   ],
   "source": [
    "df_topic_distribution = df_dominant_topic['Dominant_Topic'].value_counts().reset_index(name=\"Num Documents\")\n",
    "df_topic_distribution.columns = ['Topic Num', 'Num Documents']\n",
    "df_topic_distribution"
   ]
  },
  {
   "cell_type": "code",
   "execution_count": 0,
   "metadata": {
    "colab": {},
    "colab_type": "code",
    "id": "GYu1ZEjnqYaH"
   },
   "outputs": [],
   "source": [
    "from google.colab import files\n",
    "\n",
    "df_topic_distribution.to_csv('Mostdominanttopics.csv')\n",
    "files.download('Mostdominanttopics.csv')\n"
   ]
  },
  {
   "cell_type": "code",
   "execution_count": 0,
   "metadata": {
    "colab": {
     "base_uri": "https://localhost:8080/",
     "height": 164
    },
    "colab_type": "code",
    "executionInfo": {
     "elapsed": 1315,
     "status": "ok",
     "timestamp": 1587802230580,
     "user": {
      "displayName": "Shikshya Dahal",
      "photoUrl": "",
      "userId": "13672899809593533424"
     },
     "user_tz": -420
    },
    "id": "667lduN6Rz3o",
    "outputId": "635841a2-34aa-433a-87c5-9673a08abc0d"
   },
   "outputs": [
    {
     "data": {
      "text/html": [
       "<div>\n",
       "<style scoped>\n",
       "    .dataframe tbody tr th:only-of-type {\n",
       "        vertical-align: middle;\n",
       "    }\n",
       "\n",
       "    .dataframe tbody tr th {\n",
       "        vertical-align: top;\n",
       "    }\n",
       "\n",
       "    .dataframe thead th {\n",
       "        text-align: right;\n",
       "    }\n",
       "</style>\n",
       "<table border=\"1\" class=\"dataframe\">\n",
       "  <thead>\n",
       "    <tr style=\"text-align: right;\">\n",
       "      <th></th>\n",
       "      <th>Topic_Num</th>\n",
       "      <th>Topic_Perc_Contrib</th>\n",
       "      <th>Keywords</th>\n",
       "      <th>Representative Text</th>\n",
       "    </tr>\n",
       "  </thead>\n",
       "  <tbody>\n",
       "    <tr>\n",
       "      <th>0</th>\n",
       "      <td>0.0</td>\n",
       "      <td>0.9758</td>\n",
       "      <td>trip, guide, climb, cloud, hike, peak, range, stair, trail, hill</td>\n",
       "      <td>Fantastic for all  first time trekkers or otherwise poon hill made trip annapurna base camp. sli...</td>\n",
       "    </tr>\n",
       "    <tr>\n",
       "      <th>1</th>\n",
       "      <td>1.0</td>\n",
       "      <td>0.9626</td>\n",
       "      <td>ride, boat, trip, cable, activity, hill, fun, rent, paddle, paragliding</td>\n",
       "      <td>One of best attraction in Pokhara  beautiful lake  go for all day boat riding  no need for drive...</td>\n",
       "    </tr>\n",
       "    <tr>\n",
       "      <th>2</th>\n",
       "      <td>2.0</td>\n",
       "      <td>0.9520</td>\n",
       "      <td>oasis, peace, dream, street, garden, noise, chaos, traffic, escape, rupee</td>\n",
       "      <td>An Oasis of Calm main street outskirts (almost opposite famed fire ice) one could easily miss wa...</td>\n",
       "    </tr>\n",
       "    <tr>\n",
       "      <th>3</th>\n",
       "      <td>3.0</td>\n",
       "      <td>0.9473</td>\n",
       "      <td>entrance, ticket, park, fall, pay, entry, guide, money, rupee, stair</td>\n",
       "      <td>The longest cave of Nepal visited underground long back ago. sacred hindus popular attraction. u...</td>\n",
       "    </tr>\n",
       "  </tbody>\n",
       "</table>\n",
       "</div>"
      ],
      "text/plain": [
       "   Topic_Num  ...                                                                                  Representative Text\n",
       "0        0.0  ...  Fantastic for all  first time trekkers or otherwise poon hill made trip annapurna base camp. sli...\n",
       "1        1.0  ...  One of best attraction in Pokhara  beautiful lake  go for all day boat riding  no need for drive...\n",
       "2        2.0  ...  An Oasis of Calm main street outskirts (almost opposite famed fire ice) one could easily miss wa...\n",
       "3        3.0  ...  The longest cave of Nepal visited underground long back ago. sacred hindus popular attraction. u...\n",
       "\n",
       "[4 rows x 4 columns]"
      ]
     },
     "execution_count": 50,
     "metadata": {
      "tags": []
     },
     "output_type": "execute_result"
    }
   ],
   "source": [
    "# Display setting to show more characters in column\n",
    "pd.options.display.max_colwidth = 100\n",
    "\n",
    "sent_topics_sorteddf_mallet = pd.DataFrame()\n",
    "sent_topics_outdf_grpd = df_topic_sents_keywords.groupby('Dominant_Topic')\n",
    "\n",
    "for i, grp in sent_topics_outdf_grpd:\n",
    "    sent_topics_sorteddf_mallet = pd.concat([sent_topics_sorteddf_mallet, \n",
    "                                             grp.sort_values(['Perc_Contribution'], ascending=False).head(1)], \n",
    "                                            axis=0)\n",
    "\n",
    "# Reset Index    \n",
    "sent_topics_sorteddf_mallet.reset_index(drop=True, inplace=True)\n",
    "\n",
    "# Format\n",
    "sent_topics_sorteddf_mallet.columns = ['Topic_Num', \"Topic_Perc_Contrib\", \"Keywords\", \"Representative Text\"]\n",
    "\n",
    "# Show\n",
    "sent_topics_sorteddf_mallet.head(10)"
   ]
  },
  {
   "cell_type": "code",
   "execution_count": 0,
   "metadata": {
    "colab": {},
    "colab_type": "code",
    "id": "cahFgsNSH_fF"
   },
   "outputs": [],
   "source": [
    "from google.colab import files\n",
    "\n",
    "sent_topics_sorteddf_mallet.to_csv('most_representative_docs.csv')\n",
    "files.download('most_representative_docs.csv')"
   ]
  },
  {
   "cell_type": "code",
   "execution_count": 0,
   "metadata": {
    "colab": {
     "base_uri": "https://localhost:8080/",
     "height": 524
    },
    "colab_type": "code",
    "executionInfo": {
     "elapsed": 1171,
     "status": "ok",
     "timestamp": 1587802267842,
     "user": {
      "displayName": "Shikshya Dahal",
      "photoUrl": "",
      "userId": "13672899809593533424"
     },
     "user_tz": -420
    },
    "id": "FJAji1Ut8Fwh",
    "outputId": "5126803d-9968-49be-d5d3-8d1b6d68f488"
   },
   "outputs": [
    {
     "name": "stdout",
     "output_type": "stream",
     "text": [
      "   Topic_Num  ...                                                                                                 Text\n",
      "0        0.0  ...  Fantastic for all  first time trekkers or otherwise poon hill made trip annapurna base camp. sli...\n",
      "1        1.0  ...  One of best attraction in Pokhara  beautiful lake  go for all day boat riding  no need for drive...\n",
      "2        2.0  ...  An Oasis of Calm main street outskirts (almost opposite famed fire ice) one could easily miss wa...\n",
      "3        3.0  ...  The longest cave of Nepal visited underground long back ago. sacred hindus popular attraction. u...\n",
      "\n",
      "[4 rows x 4 columns]\n"
     ]
    },
    {
     "data": {
      "text/html": [
       "<div>\n",
       "<style scoped>\n",
       "    .dataframe tbody tr th:only-of-type {\n",
       "        vertical-align: middle;\n",
       "    }\n",
       "\n",
       "    .dataframe tbody tr th {\n",
       "        vertical-align: top;\n",
       "    }\n",
       "\n",
       "    .dataframe thead th {\n",
       "        text-align: right;\n",
       "    }\n",
       "</style>\n",
       "<table border=\"1\" class=\"dataframe\">\n",
       "  <thead>\n",
       "    <tr style=\"text-align: right;\">\n",
       "      <th></th>\n",
       "      <th>Dominant_Topic</th>\n",
       "      <th>Topic_Keywords</th>\n",
       "      <th>Num_Documents</th>\n",
       "      <th>Perc_Documents</th>\n",
       "    </tr>\n",
       "  </thead>\n",
       "  <tbody>\n",
       "    <tr>\n",
       "      <th>0.0</th>\n",
       "      <td>2.0</td>\n",
       "      <td>oasis, peace, dream, street, garden, noise, chaos, traffic, escape, rupee</td>\n",
       "      <td>2968.0</td>\n",
       "      <td>0.2583</td>\n",
       "    </tr>\n",
       "    <tr>\n",
       "      <th>1.0</th>\n",
       "      <td>3.0</td>\n",
       "      <td>entrance, ticket, park, fall, pay, entry, guide, money, rupee, stair</td>\n",
       "      <td>2726.0</td>\n",
       "      <td>0.2373</td>\n",
       "    </tr>\n",
       "    <tr>\n",
       "      <th>2.0</th>\n",
       "      <td>3.0</td>\n",
       "      <td>entrance, ticket, park, fall, pay, entry, guide, money, rupee, stair</td>\n",
       "      <td>4021.0</td>\n",
       "      <td>0.3500</td>\n",
       "    </tr>\n",
       "    <tr>\n",
       "      <th>3.0</th>\n",
       "      <td>3.0</td>\n",
       "      <td>entrance, ticket, park, fall, pay, entry, guide, money, rupee, stair</td>\n",
       "      <td>1774.0</td>\n",
       "      <td>0.1544</td>\n",
       "    </tr>\n",
       "    <tr>\n",
       "      <th>4.0</th>\n",
       "      <td>2.0</td>\n",
       "      <td>oasis, peace, dream, street, garden, noise, chaos, traffic, escape, rupee</td>\n",
       "      <td>NaN</td>\n",
       "      <td>NaN</td>\n",
       "    </tr>\n",
       "    <tr>\n",
       "      <th>...</th>\n",
       "      <td>...</td>\n",
       "      <td>...</td>\n",
       "      <td>...</td>\n",
       "      <td>...</td>\n",
       "    </tr>\n",
       "    <tr>\n",
       "      <th>11484.0</th>\n",
       "      <td>2.0</td>\n",
       "      <td>oasis, peace, dream, street, garden, noise, chaos, traffic, escape, rupee</td>\n",
       "      <td>NaN</td>\n",
       "      <td>NaN</td>\n",
       "    </tr>\n",
       "    <tr>\n",
       "      <th>11485.0</th>\n",
       "      <td>0.0</td>\n",
       "      <td>trip, guide, climb, cloud, hike, peak, range, stair, trail, hill</td>\n",
       "      <td>NaN</td>\n",
       "      <td>NaN</td>\n",
       "    </tr>\n",
       "    <tr>\n",
       "      <th>11486.0</th>\n",
       "      <td>3.0</td>\n",
       "      <td>entrance, ticket, park, fall, pay, entry, guide, money, rupee, stair</td>\n",
       "      <td>NaN</td>\n",
       "      <td>NaN</td>\n",
       "    </tr>\n",
       "    <tr>\n",
       "      <th>11487.0</th>\n",
       "      <td>2.0</td>\n",
       "      <td>oasis, peace, dream, street, garden, noise, chaos, traffic, escape, rupee</td>\n",
       "      <td>NaN</td>\n",
       "      <td>NaN</td>\n",
       "    </tr>\n",
       "    <tr>\n",
       "      <th>11488.0</th>\n",
       "      <td>3.0</td>\n",
       "      <td>entrance, ticket, park, fall, pay, entry, guide, money, rupee, stair</td>\n",
       "      <td>NaN</td>\n",
       "      <td>NaN</td>\n",
       "    </tr>\n",
       "  </tbody>\n",
       "</table>\n",
       "<p>11489 rows × 4 columns</p>\n",
       "</div>"
      ],
      "text/plain": [
       "         Dominant_Topic  ... Perc_Documents\n",
       "0.0                 2.0  ...         0.2583\n",
       "1.0                 3.0  ...         0.2373\n",
       "2.0                 3.0  ...         0.3500\n",
       "3.0                 3.0  ...         0.1544\n",
       "4.0                 2.0  ...            NaN\n",
       "...                 ...  ...            ...\n",
       "11484.0             2.0  ...            NaN\n",
       "11485.0             0.0  ...            NaN\n",
       "11486.0             3.0  ...            NaN\n",
       "11487.0             2.0  ...            NaN\n",
       "11488.0             3.0  ...            NaN\n",
       "\n",
       "[11489 rows x 4 columns]"
      ]
     },
     "execution_count": 54,
     "metadata": {
      "tags": []
     },
     "output_type": "execute_result"
    }
   ],
   "source": [
    "# Group top 5 sentences under each topic\n",
    "sent_topics_sorteddf_mallet = pd.DataFrame()\n",
    "\n",
    "sent_topics_outdf_grpd = df_topic_sents_keywords.groupby('Dominant_Topic')\n",
    "\n",
    "for i, grp in sent_topics_outdf_grpd:\n",
    "    sent_topics_sorteddf_mallet = pd.concat([sent_topics_sorteddf_mallet, \n",
    "                                             grp.sort_values(['Perc_Contribution'], ascending=[0]).head(1)], \n",
    "                                            axis=0)\n",
    "\n",
    "# Reset Index    \n",
    "sent_topics_sorteddf_mallet.reset_index(drop=True, inplace=True)\n",
    "\n",
    "# Format\n",
    "sent_topics_sorteddf_mallet.columns = ['Topic_Num', \"Topic_Perc_Contrib\", \"Keywords\", \"Text\"]\n",
    "\n",
    "# Show\n",
    "print(sent_topics_sorteddf_mallet.head())\n",
    "\n",
    "topic_counts = df_topic_sents_keywords['Dominant_Topic'].value_counts()\n",
    "\n",
    "# Percentage of Documents for Each Topic\n",
    "topic_contribution = round(topic_counts/topic_counts.sum(), 4)\n",
    "\n",
    "# Topic Number and Keywords\n",
    "topic_num_keywords = df_topic_sents_keywords[['Dominant_Topic', 'Topic_Keywords']]\n",
    "\n",
    "# Concatenate Column wise\n",
    "df_dominant_topics = pd.concat([topic_num_keywords, topic_counts, topic_contribution], axis=1)\n",
    "\n",
    "# Change Column names\n",
    "df_dominant_topics.columns = ['Dominant_Topic', 'Topic_Keywords', 'Num_Documents', 'Perc_Documents']\n",
    "\n",
    "# Show\n",
    "df_dominant_topics"
   ]
  },
  {
   "cell_type": "code",
   "execution_count": 0,
   "metadata": {
    "colab": {
     "base_uri": "https://localhost:8080/",
     "height": 364
    },
    "colab_type": "code",
    "executionInfo": {
     "elapsed": 1313,
     "status": "error",
     "timestamp": 1587802272258,
     "user": {
      "displayName": "Shikshya Dahal",
      "photoUrl": "",
      "userId": "13672899809593533424"
     },
     "user_tz": -420
    },
    "id": "l1k1OGd_348y",
    "outputId": "072bbe0f-81fd-4e70-92b2-6bc275bd6cc3"
   },
   "outputs": [
    {
     "ename": "TypeError",
     "evalue": "ignored",
     "output_type": "error",
     "traceback": [
      "\u001b[0;31m---------------------------------------------------------------------------\u001b[0m",
      "\u001b[0;31mTypeError\u001b[0m                                 Traceback (most recent call last)",
      "\u001b[0;32m<ipython-input-55-8b8c5cf20076>\u001b[0m in \u001b[0;36m<module>\u001b[0;34m()\u001b[0m\n\u001b[1;32m      1\u001b[0m \u001b[0;34m\u001b[0m\u001b[0m\n\u001b[0;32m----> 2\u001b[0;31m \u001b[0mdoc_lens\u001b[0m \u001b[0;34m=\u001b[0m \u001b[0;34m[\u001b[0m\u001b[0mlen\u001b[0m\u001b[0;34m(\u001b[0m\u001b[0md\u001b[0m\u001b[0;34m)\u001b[0m \u001b[0;32mfor\u001b[0m \u001b[0md\u001b[0m \u001b[0;32min\u001b[0m \u001b[0mdf_dominant_topic\u001b[0m\u001b[0;34m.\u001b[0m\u001b[0mText\u001b[0m\u001b[0;34m]\u001b[0m\u001b[0;34m\u001b[0m\u001b[0;34m\u001b[0m\u001b[0m\n\u001b[0m\u001b[1;32m      3\u001b[0m \u001b[0;34m\u001b[0m\u001b[0m\n\u001b[1;32m      4\u001b[0m \u001b[0;31m# Plot\u001b[0m\u001b[0;34m\u001b[0m\u001b[0;34m\u001b[0m\u001b[0;34m\u001b[0m\u001b[0m\n\u001b[1;32m      5\u001b[0m \u001b[0mplt\u001b[0m\u001b[0;34m.\u001b[0m\u001b[0mfigure\u001b[0m\u001b[0;34m(\u001b[0m\u001b[0mfigsize\u001b[0m\u001b[0;34m=\u001b[0m\u001b[0;34m(\u001b[0m\u001b[0;36m8\u001b[0m\u001b[0;34m,\u001b[0m\u001b[0;36m4\u001b[0m\u001b[0;34m)\u001b[0m\u001b[0;34m,\u001b[0m \u001b[0mdpi\u001b[0m\u001b[0;34m=\u001b[0m\u001b[0;36m100\u001b[0m\u001b[0;34m)\u001b[0m\u001b[0;34m\u001b[0m\u001b[0;34m\u001b[0m\u001b[0m\n",
      "\u001b[0;32m<ipython-input-55-8b8c5cf20076>\u001b[0m in \u001b[0;36m<listcomp>\u001b[0;34m(.0)\u001b[0m\n\u001b[1;32m      1\u001b[0m \u001b[0;34m\u001b[0m\u001b[0m\n\u001b[0;32m----> 2\u001b[0;31m \u001b[0mdoc_lens\u001b[0m \u001b[0;34m=\u001b[0m \u001b[0;34m[\u001b[0m\u001b[0mlen\u001b[0m\u001b[0;34m(\u001b[0m\u001b[0md\u001b[0m\u001b[0;34m)\u001b[0m \u001b[0;32mfor\u001b[0m \u001b[0md\u001b[0m \u001b[0;32min\u001b[0m \u001b[0mdf_dominant_topic\u001b[0m\u001b[0;34m.\u001b[0m\u001b[0mText\u001b[0m\u001b[0;34m]\u001b[0m\u001b[0;34m\u001b[0m\u001b[0;34m\u001b[0m\u001b[0m\n\u001b[0m\u001b[1;32m      3\u001b[0m \u001b[0;34m\u001b[0m\u001b[0m\n\u001b[1;32m      4\u001b[0m \u001b[0;31m# Plot\u001b[0m\u001b[0;34m\u001b[0m\u001b[0;34m\u001b[0m\u001b[0;34m\u001b[0m\u001b[0m\n\u001b[1;32m      5\u001b[0m \u001b[0mplt\u001b[0m\u001b[0;34m.\u001b[0m\u001b[0mfigure\u001b[0m\u001b[0;34m(\u001b[0m\u001b[0mfigsize\u001b[0m\u001b[0;34m=\u001b[0m\u001b[0;34m(\u001b[0m\u001b[0;36m8\u001b[0m\u001b[0;34m,\u001b[0m\u001b[0;36m4\u001b[0m\u001b[0;34m)\u001b[0m\u001b[0;34m,\u001b[0m \u001b[0mdpi\u001b[0m\u001b[0;34m=\u001b[0m\u001b[0;36m100\u001b[0m\u001b[0;34m)\u001b[0m\u001b[0;34m\u001b[0m\u001b[0;34m\u001b[0m\u001b[0m\n",
      "\u001b[0;31mTypeError\u001b[0m: object of type 'float' has no len()"
     ]
    }
   ],
   "source": [
    "\n",
    "doc_lens = [len(d) for d in df_dominant_topic.Text]\n",
    "\n",
    "# Plot\n",
    "plt.figure(figsize=(8,4), dpi=100)\n",
    "plt.hist(doc_lens, bins = 1000, color='red')\n",
    "# plt.text(750, 100, \"Mean   : \" + str(round(np.mean(doc_lens))))\n",
    "# plt.text(750,  90, \"Median : \" + str(round(np.median(doc_lens))))\n",
    "# plt.text(750,  80, \"Stdev   : \" + str(round(np.std(doc_lens))))\n",
    "# plt.text(750,  70, \"1%ile    : \" + str(round(np.quantile(doc_lens, q=0.01))))\n",
    "# plt.text(750,  60, \"99%ile  : \" + str(round(np.quantile(doc_lens, q=0.99))))\n",
    "\n",
    "plt.gca().set(xlim=(0, 20), ylabel='Number of Reviews (Nature & Parks)', xlabel='Review-Word Count')\n",
    "plt.tick_params(size=8)\n",
    "plt.xticks(np.linspace(0,1000,9))\n",
    "plt.title('Distribution of Review Word Counts', fontdict=dict(size=9))\n",
    "plt.show()"
   ]
  },
  {
   "cell_type": "code",
   "execution_count": 0,
   "metadata": {
    "colab": {
     "base_uri": "https://localhost:8080/",
     "height": 1000
    },
    "colab_type": "code",
    "executionInfo": {
     "elapsed": 6477,
     "status": "error",
     "timestamp": 1587802294560,
     "user": {
      "displayName": "Shikshya Dahal",
      "photoUrl": "",
      "userId": "13672899809593533424"
     },
     "user_tz": -420
    },
    "id": "Mn6g9lCr4nke",
    "outputId": "afffa928-4d51-4c7d-ee08-17d58218844c"
   },
   "outputs": [
    {
     "ename": "TypeError",
     "evalue": "ignored",
     "output_type": "error",
     "traceback": [
      "\u001b[0;31m---------------------------------------------------------------------------\u001b[0m",
      "\u001b[0;31mTypeError\u001b[0m                                 Traceback (most recent call last)",
      "\u001b[0;32m<ipython-input-56-b84cba99be80>\u001b[0m in \u001b[0;36m<module>\u001b[0;34m()\u001b[0m\n\u001b[1;32m      7\u001b[0m \u001b[0;32mfor\u001b[0m \u001b[0mi\u001b[0m\u001b[0;34m,\u001b[0m \u001b[0max\u001b[0m \u001b[0;32min\u001b[0m \u001b[0menumerate\u001b[0m\u001b[0;34m(\u001b[0m\u001b[0maxes\u001b[0m\u001b[0;34m.\u001b[0m\u001b[0mflatten\u001b[0m\u001b[0;34m(\u001b[0m\u001b[0;34m)\u001b[0m\u001b[0;34m)\u001b[0m\u001b[0;34m:\u001b[0m\u001b[0;34m\u001b[0m\u001b[0;34m\u001b[0m\u001b[0m\n\u001b[1;32m      8\u001b[0m     \u001b[0mdf_dominant_topic_sub\u001b[0m \u001b[0;34m=\u001b[0m \u001b[0mdf_dominant_topic\u001b[0m\u001b[0;34m.\u001b[0m\u001b[0mloc\u001b[0m\u001b[0;34m[\u001b[0m\u001b[0mdf_dominant_topic\u001b[0m\u001b[0;34m.\u001b[0m\u001b[0mDominant_Topic\u001b[0m \u001b[0;34m==\u001b[0m \u001b[0mi\u001b[0m\u001b[0;34m,\u001b[0m \u001b[0;34m:\u001b[0m\u001b[0;34m]\u001b[0m\u001b[0;34m\u001b[0m\u001b[0;34m\u001b[0m\u001b[0m\n\u001b[0;32m----> 9\u001b[0;31m     \u001b[0mdoc_lens\u001b[0m \u001b[0;34m=\u001b[0m \u001b[0;34m[\u001b[0m\u001b[0mlen\u001b[0m\u001b[0;34m(\u001b[0m\u001b[0md\u001b[0m\u001b[0;34m)\u001b[0m \u001b[0;32mfor\u001b[0m \u001b[0md\u001b[0m \u001b[0;32min\u001b[0m \u001b[0mdf_dominant_topic_sub\u001b[0m\u001b[0;34m.\u001b[0m\u001b[0mText\u001b[0m\u001b[0;34m]\u001b[0m\u001b[0;34m\u001b[0m\u001b[0;34m\u001b[0m\u001b[0m\n\u001b[0m\u001b[1;32m     10\u001b[0m     \u001b[0max\u001b[0m\u001b[0;34m.\u001b[0m\u001b[0mhist\u001b[0m\u001b[0;34m(\u001b[0m\u001b[0mdoc_lens\u001b[0m\u001b[0;34m,\u001b[0m \u001b[0mbins\u001b[0m \u001b[0;34m=\u001b[0m \u001b[0;36m1000\u001b[0m\u001b[0;34m,\u001b[0m \u001b[0mcolor\u001b[0m\u001b[0;34m=\u001b[0m\u001b[0mcols\u001b[0m\u001b[0;34m[\u001b[0m\u001b[0mi\u001b[0m\u001b[0;34m]\u001b[0m\u001b[0;34m)\u001b[0m\u001b[0;34m\u001b[0m\u001b[0;34m\u001b[0m\u001b[0m\n\u001b[1;32m     11\u001b[0m     \u001b[0max\u001b[0m\u001b[0;34m.\u001b[0m\u001b[0mtick_params\u001b[0m\u001b[0;34m(\u001b[0m\u001b[0maxis\u001b[0m\u001b[0;34m=\u001b[0m\u001b[0;34m'y'\u001b[0m\u001b[0;34m,\u001b[0m \u001b[0mlabelcolor\u001b[0m\u001b[0;34m=\u001b[0m\u001b[0mcols\u001b[0m\u001b[0;34m[\u001b[0m\u001b[0mi\u001b[0m\u001b[0;34m]\u001b[0m\u001b[0;34m,\u001b[0m \u001b[0mcolor\u001b[0m\u001b[0;34m=\u001b[0m\u001b[0mcols\u001b[0m\u001b[0;34m[\u001b[0m\u001b[0mi\u001b[0m\u001b[0;34m]\u001b[0m\u001b[0;34m)\u001b[0m\u001b[0;34m\u001b[0m\u001b[0;34m\u001b[0m\u001b[0m\n",
      "\u001b[0;32m<ipython-input-56-b84cba99be80>\u001b[0m in \u001b[0;36m<listcomp>\u001b[0;34m(.0)\u001b[0m\n\u001b[1;32m      7\u001b[0m \u001b[0;32mfor\u001b[0m \u001b[0mi\u001b[0m\u001b[0;34m,\u001b[0m \u001b[0max\u001b[0m \u001b[0;32min\u001b[0m \u001b[0menumerate\u001b[0m\u001b[0;34m(\u001b[0m\u001b[0maxes\u001b[0m\u001b[0;34m.\u001b[0m\u001b[0mflatten\u001b[0m\u001b[0;34m(\u001b[0m\u001b[0;34m)\u001b[0m\u001b[0;34m)\u001b[0m\u001b[0;34m:\u001b[0m\u001b[0;34m\u001b[0m\u001b[0;34m\u001b[0m\u001b[0m\n\u001b[1;32m      8\u001b[0m     \u001b[0mdf_dominant_topic_sub\u001b[0m \u001b[0;34m=\u001b[0m \u001b[0mdf_dominant_topic\u001b[0m\u001b[0;34m.\u001b[0m\u001b[0mloc\u001b[0m\u001b[0;34m[\u001b[0m\u001b[0mdf_dominant_topic\u001b[0m\u001b[0;34m.\u001b[0m\u001b[0mDominant_Topic\u001b[0m \u001b[0;34m==\u001b[0m \u001b[0mi\u001b[0m\u001b[0;34m,\u001b[0m \u001b[0;34m:\u001b[0m\u001b[0;34m]\u001b[0m\u001b[0;34m\u001b[0m\u001b[0;34m\u001b[0m\u001b[0m\n\u001b[0;32m----> 9\u001b[0;31m     \u001b[0mdoc_lens\u001b[0m \u001b[0;34m=\u001b[0m \u001b[0;34m[\u001b[0m\u001b[0mlen\u001b[0m\u001b[0;34m(\u001b[0m\u001b[0md\u001b[0m\u001b[0;34m)\u001b[0m \u001b[0;32mfor\u001b[0m \u001b[0md\u001b[0m \u001b[0;32min\u001b[0m \u001b[0mdf_dominant_topic_sub\u001b[0m\u001b[0;34m.\u001b[0m\u001b[0mText\u001b[0m\u001b[0;34m]\u001b[0m\u001b[0;34m\u001b[0m\u001b[0;34m\u001b[0m\u001b[0m\n\u001b[0m\u001b[1;32m     10\u001b[0m     \u001b[0max\u001b[0m\u001b[0;34m.\u001b[0m\u001b[0mhist\u001b[0m\u001b[0;34m(\u001b[0m\u001b[0mdoc_lens\u001b[0m\u001b[0;34m,\u001b[0m \u001b[0mbins\u001b[0m \u001b[0;34m=\u001b[0m \u001b[0;36m1000\u001b[0m\u001b[0;34m,\u001b[0m \u001b[0mcolor\u001b[0m\u001b[0;34m=\u001b[0m\u001b[0mcols\u001b[0m\u001b[0;34m[\u001b[0m\u001b[0mi\u001b[0m\u001b[0;34m]\u001b[0m\u001b[0;34m)\u001b[0m\u001b[0;34m\u001b[0m\u001b[0;34m\u001b[0m\u001b[0m\n\u001b[1;32m     11\u001b[0m     \u001b[0max\u001b[0m\u001b[0;34m.\u001b[0m\u001b[0mtick_params\u001b[0m\u001b[0;34m(\u001b[0m\u001b[0maxis\u001b[0m\u001b[0;34m=\u001b[0m\u001b[0;34m'y'\u001b[0m\u001b[0;34m,\u001b[0m \u001b[0mlabelcolor\u001b[0m\u001b[0;34m=\u001b[0m\u001b[0mcols\u001b[0m\u001b[0;34m[\u001b[0m\u001b[0mi\u001b[0m\u001b[0;34m]\u001b[0m\u001b[0;34m,\u001b[0m \u001b[0mcolor\u001b[0m\u001b[0;34m=\u001b[0m\u001b[0mcols\u001b[0m\u001b[0;34m[\u001b[0m\u001b[0mi\u001b[0m\u001b[0;34m]\u001b[0m\u001b[0;34m)\u001b[0m\u001b[0;34m\u001b[0m\u001b[0;34m\u001b[0m\u001b[0m\n",
      "\u001b[0;31mTypeError\u001b[0m: object of type 'float' has no len()"
     ]
    },
    {
     "data": {
      "image/png": "[encoded data removed]",
      "text/plain": [
       "<Figure size 1280x1280 with 6 Axes>"
      ]
     },
     "metadata": {
      "needs_background": "light",
      "tags": []
     },
     "output_type": "display_data"
    }
   ],
   "source": [
    "import seaborn as sns\n",
    "import matplotlib.colors as mcolors\n",
    "cols = [color for name, color in mcolors.TABLEAU_COLORS.items()]  # more colors: 'mcolors.XKCD_COLORS'\n",
    "\n",
    "fig, axes = plt.subplots(2,2,figsize=(8,8), dpi=160, sharex=True, sharey=True)\n",
    "\n",
    "for i, ax in enumerate(axes.flatten()):    \n",
    "    df_dominant_topic_sub = df_dominant_topic.loc[df_dominant_topic.Dominant_Topic == i, :]\n",
    "    doc_lens = [len(d) for d in df_dominant_topic_sub.Text]\n",
    "    ax.hist(doc_lens, bins = 1000, color=cols[i])\n",
    "    ax.tick_params(axis='y', labelcolor=cols[i], color=cols[i])\n",
    "    sns.kdeplot(doc_lens, color=\"black\", shade=False, ax=ax.twinx())\n",
    "    ax.set(xlim=(0, 1000), xlabel='Document Word Count')\n",
    "    ax.set_ylabel('Number of Documents', color=cols[i])\n",
    "    ax.set_title('Topic: '+str(i), fontdict=dict(size=8, color=cols[i]))\n",
    "\n",
    "fig.tight_layout()\n",
    "fig.subplots_adjust(top=0.90)\n",
    "plt.xticks(np.linspace(0,1000,9))\n",
    "fig.suptitle('Distribution of Document Word Counts by Dominant Topic', fontsize=8)\n",
    "plt.show()"
   ]
  },
  {
   "cell_type": "code",
   "execution_count": 0,
   "metadata": {
    "colab": {},
    "colab_type": "code",
    "id": "C906tCK66fHZ"
   },
   "outputs": [],
   "source": [
    "\n",
    "# 1. Wordcloud of Top N words in each topic\n",
    "from matplotlib import pyplot as plt\n",
    "from wordcloud import WordCloud, STOPWORDS\n",
    "import matplotlib.colors as mcolors\n",
    "\n",
    "cols = [color for name, color in mcolors.TABLEAU_COLORS.items()]  # more colors: 'mcolors.XKCD_COLORS'\n",
    "\n",
    "cloud = WordCloud(stopwords=stop_words,\n",
    "                  background_color='white',\n",
    "                  width=2500,\n",
    "                  height=1800,\n",
    "                  max_words=50,\n",
    "                  colormap='tab10',\n",
    "                  color_func=lambda *args, **kwargs: cols[i],\n",
    "                  prefer_horizontal=1.0)\n",
    "\n",
    "topics = lda_model.show_topics(formatted=False,num_words=50)\n",
    "\n",
    "fig, axes = plt.subplots(2, 2, figsize=(10,10), sharex=True, sharey=True)\n",
    "\n",
    "for i, ax in enumerate(axes.flatten()):\n",
    "    fig.add_subplot(ax)\n",
    "    topic_words = dict(topics[i][1])\n",
    "    cloud.generate_from_frequencies(topic_words, max_font_size=300)\n",
    "    plt.gca().imshow(cloud)\n",
    "    plt.gca().set_title('Topic ' + str(i), fontdict=dict(size=16))\n",
    "    plt.gca().axis('off')\n",
    "\n",
    "\n",
    "plt.subplots_adjust(wspace=0, hspace=0)\n",
    "plt.axis('off')\n",
    "plt.margins(x=0, y=0)\n",
    "plt.tight_layout()\n",
    "plt.show()"
   ]
  },
  {
   "cell_type": "code",
   "execution_count": 0,
   "metadata": {
    "colab": {},
    "colab_type": "code",
    "id": "KpgX9MyQ-Cm8"
   },
   "outputs": [],
   "source": [
    "from collections import Counter\n",
    "topics = lda_model.show_topics(formatted=False)\n",
    "data_flat = [w for w_list in data_lemmatized for w in w_list]\n",
    "counter = Counter(data_flat)\n",
    "\n",
    "out = []\n",
    "for i, topic in topics:\n",
    "    for word, weight in topic:\n",
    "        out.append([word, i , weight, counter[word]])\n",
    "\n",
    "df = pd.DataFrame(out, columns=['word', 'topic_id', 'importance', 'word_count'])        \n",
    "\n",
    "# Plot Word Count and Weights of Topic Keywords\n",
    "fig, axes = plt.subplots(2, 2, figsize=(8,6), sharey=True, dpi=160)\n",
    "cols = [color for name, color in mcolors.TABLEAU_COLORS.items()]\n",
    "for i, ax in enumerate(axes.flatten()):\n",
    "    ax.bar(x='word', height=\"word_count\", data=df.loc[df.topic_id==i, :], color=cols[i], width=0.5, alpha=0.5, label='Word Count')\n",
    "    ax_twin = ax.twinx()\n",
    "    ax_twin.bar(x='word', height=\"importance\", data=df.loc[df.topic_id==i, :], color=cols[i], width=0.1, label='Weights')\n",
    "    ax.set_ylabel('Word Count', color=cols[i])\n",
    "    ax_twin.set_ylim(0, 0.030); ax.set_ylim(0, 8000)\n",
    "    ax.set_title('Topic: ' + str(i), color=cols[i], fontsize=8)\n",
    "    ax.tick_params(axis='y', left=False)\n",
    "    ax.set_xticklabels(df.loc[df.topic_id==i, 'word'], rotation=30, horizontalalignment= 'right')\n",
    "    ax.legend(loc='upper left'); ax_twin.legend(loc='upper right')\n",
    "\n",
    "fig.tight_layout(w_pad=2)    \n",
    "fig.suptitle('Word Count and Importance of Topic Keywords', fontsize=8, y=1.05)    \n",
    "plt.show()"
   ]
  },
  {
   "cell_type": "code",
   "execution_count": 0,
   "metadata": {
    "colab": {},
    "colab_type": "code",
    "id": "Q-jqv9IEdTzz"
   },
   "outputs": [],
   "source": [
    "# Sentence Coloring of N Sentences\n",
    "def topics_per_document(model, corpus, start=0, end=1):\n",
    "    corpus_sel = corpus[start:end]\n",
    "    dominant_topics = []\n",
    "    topic_percentages = []\n",
    "    for i, corp in enumerate(corpus_sel):\n",
    "        topic_percs= model[corp]\n",
    "        dominant_topic = sorted(topic_percs, key = lambda x: x[1], reverse=True)[0][0]\n",
    "        dominant_topics.append((i, dominant_topic))\n",
    "        topic_percentages.append(topic_percs)\n",
    "    return(dominant_topics, topic_percentages)\n",
    "\n",
    "dominant_topics, topic_percentages = topics_per_document(model=lda_model, corpus=corpus, end=-1)            \n",
    "\n",
    "# Distribution of Dominant Topics in Each Document\n",
    "df = pd.DataFrame(dominant_topics, columns=['Document_Id', 'Dominant_Topic'])\n",
    "dominant_topic_in_each_doc = df.groupby('Dominant_Topic').size()\n",
    "df_dominant_topic_in_each_doc = dominant_topic_in_each_doc.to_frame(name='count').reset_index()\n",
    "\n",
    "# Total Topic Distribution by actual weight\n",
    "topic_weightage_by_doc = pd.DataFrame([dict(t) for t in topic_percentages])\n",
    "df_topic_weightage_by_doc = topic_weightage_by_doc.sum().to_frame(name='count').reset_index()\n",
    "\n",
    "# Top 3 Keywords for each Topic\n",
    "topic_top3words = [(i, topic) for i, topics in lda_model.show_topics(formatted=False) \n",
    "                                 for j, (topic, wt) in enumerate(topics) if j < 3]\n",
    "\n",
    "df_top3words_stacked = pd.DataFrame(topic_top3words, columns=['topic_id', 'words'])\n",
    "df_top3words = df_top3words_stacked.groupby('topic_id').agg(', \\n'.join)\n",
    "df_top3words.reset_index(level=0,inplace=True)"
   ]
  },
  {
   "cell_type": "code",
   "execution_count": 0,
   "metadata": {
    "colab": {},
    "colab_type": "code",
    "id": "iqUa8C9JdO5v"
   },
   "outputs": [],
   "source": [
    "from matplotlib.ticker import FuncFormatter\n",
    "\n",
    "# Plot\n",
    "fig, (ax1, ax2) = plt.subplots(1, 2, figsize=(10, 4), dpi=120, sharey=True)\n",
    "\n",
    "# Topic Distribution by Dominant Topics\n",
    "ax1.bar(x='Dominant_Topic', height='count', data=df_dominant_topic_in_each_doc, width=.5, color='firebrick')\n",
    "ax1.set_xticks(range(df_dominant_topic_in_each_doc.Dominant_Topic.unique().__len__()))\n",
    "tick_formatter = FuncFormatter(lambda x, pos: 'Topic ' + str(x+1)+ '\\n' + df_top3words.loc[df_top3words.topic_id==x, 'words'].values[0])\n",
    "ax1.xaxis.set_major_formatter(tick_formatter)\n",
    "ax1.set_title('Number of Documents by Dominant Topic', fontdict=dict(size=10))\n",
    "ax1.set_ylabel('Number of Documents')\n",
    "ax1.set_ylim(0, 10000)\n",
    "\n",
    "# Topic Distribution by Topic Weights\n",
    "ax2.bar(x='index', height='count', data=df_topic_weightage_by_doc, width=.5, color='steelblue')\n",
    "ax2.set_xticks(range(df_topic_weightage_by_doc.index.unique().__len__()))\n",
    "ax2.xaxis.set_major_formatter(tick_formatter)\n",
    "ax2.set_title('Number of Documents by Topic Weightage', fontdict=dict(size=10))\n",
    "ax2.set_ylabel('Number of Documents')\n",
    "ax2.set_ylim(0, 10000)\n",
    "\n",
    "plt.show()"
   ]
  },
  {
   "cell_type": "code",
   "execution_count": 0,
   "metadata": {
    "colab": {},
    "colab_type": "code",
    "id": "PFeJ3bvCjQrm"
   },
   "outputs": [],
   "source": []
  },
  {
   "cell_type": "code",
   "execution_count": 0,
   "metadata": {
    "colab": {},
    "colab_type": "code",
    "id": "7c79PW-uGhHz"
   },
   "outputs": [],
   "source": [
    "topic_top3words = [(i, topic) for i, topics in lda_model.show_topics(formatted=False) \n",
    "                                 for j, (topic, wt) in enumerate(topics) if j < 3]\n",
    "print(topic_top3words)\n",
    "\n",
    "\n",
    "df_top3words_stacked = pd.DataFrame(topic_top3words, columns=['topic_id', 'words'])\n",
    "df_top3words = df_top3words_stacked.groupby('topic_id').agg(','.join)\n",
    "df_top3words.reset_index(level=0,inplace=True)\n",
    "\n",
    "\n",
    "\n",
    "df_onlytopics=df_top3words[\"words\"]\n",
    "\n",
    "df_onlytopics=np.array(df_onlytopics)\n",
    "\n",
    "print(df_onlytopics)"
   ]
  },
  {
   "cell_type": "code",
   "execution_count": 0,
   "metadata": {
    "colab": {},
    "colab_type": "code",
    "id": "OrgczNQ7y6g_"
   },
   "outputs": [],
   "source": [
    "lda_keys=df_dominant_topic[\"Dominant_Topic\"]\n",
    "lda_keys=list(lda_keys)"
   ]
  },
  {
   "cell_type": "code",
   "execution_count": 0,
   "metadata": {
    "colab": {},
    "colab_type": "code",
    "id": "1RsuFHmby-Pz"
   },
   "outputs": [],
   "source": [
    "# Define helper functions\n",
    "def get_mean_topic_vectors(keys, two_dim_vectors):\n",
    "    '''\n",
    "    returns a list of centroid vectors from each predicted topic category\n",
    "    '''\n",
    "    count=0\n",
    "    mean_topic_vectors = []\n",
    "    for t in range(n_topics):\n",
    "        articles_in_that_topic = []\n",
    "        print(articles_in_that_topic)\n",
    "        for i in range(len(keys)):\n",
    "            \n",
    "            if keys[i] == t:\n",
    "                count=count+1\n",
    "                # articles_in_that_topic.append(two_dim_vectors[i]) \n",
    "                articles_in_that_topic=two_dim_vectors[i]\n",
    "                \n",
    "        \n",
    "        # articles_in_that_topic = np.vstack(articles_in_that_topic)\n",
    "        print(articles_in_that_topic)\n",
    "        # mean_article_in_that_topic = np.median(articles_in_that_topic, axis=0)\n",
    "        mean_article_in_that_topic = articles_in_that_topic\n",
    "        mean_topic_vectors.append(mean_article_in_that_topic)\n",
    "        print(count)\n",
    "    return mean_topic_vectors\n",
    "\n",
    "\n",
    "n_topics=4\n",
    "lda_mean_topic_vectors = get_mean_topic_vectors(lda_keys, tsne_lda)\n",
    "print(lda_mean_topic_vectors )\n"
   ]
  },
  {
   "cell_type": "code",
   "execution_count": 0,
   "metadata": {
    "colab": {},
    "colab_type": "code",
    "id": "cttQaUxCzAPo"
   },
   "outputs": [],
   "source": [
    "# Get topic weights and dominant topics ------------\n",
    "from sklearn.manifold import TSNE\n",
    "from bokeh.plotting import figure, output_file, show\n",
    "from bokeh.models import Label\n",
    "from bokeh.io import output_notebook\n",
    "\n",
    "# Get topic weights\n",
    "topic_weights = []\n",
    "for i, row_list in enumerate(new_model[corpus]):\n",
    "    topic_weights.append([w for i, w in row_list])\n",
    "\n",
    "\n",
    "# Array of topic weights    \n",
    "arr = pd.DataFrame(topic_weights).fillna(0).values\n",
    "\n",
    "\n",
    "# num_topics=4\n",
    "# # n-1 rows each is a vector with i-1 posisitons, where n the number of documents \n",
    "# # i the topic number and tmp[i] = probability of topic i\n",
    "# topic_weights = []\n",
    "# for row_list in lda_model[corpus]:\n",
    "#   tmp = np.zeros(num_topics)\n",
    "#   for i, w in row_list: \n",
    "#     tmp[i] = w\n",
    "#     topic_weights.append(tmp)\n",
    "# arr = pd.DataFrame(topic_weights).fillna(0).values\n",
    "\n",
    "\n",
    "# Keep the well separated points (optional)\n",
    "# arr = arr[np.amax(arr, axis=1) > 0.35]\n",
    "\n",
    "# Dominant topic number in each doc\n",
    "topic_num = np.argmax(arr, axis=1)\n",
    "\n",
    "# tSNE Dimension Reduction\n",
    "tsne_model = TSNE(n_components=2, verbose=1, random_state=0, angle=.99, init='pca')\n",
    "tsne_lda = tsne_model.fit_transform(arr)\n",
    "\n",
    "# # Plot the Topic Clusters using Bokeh\n",
    "# output_notebook()\n",
    "# n_topics = 6\n",
    "# mycolors = np.array([color for name, color in mcolors.TABLEAU_COLORS.items()])\n",
    "# plot = figure(title=\"t-SNE Clustering of {} LDA Topics\".format(n_topics), \n",
    "#               plot_width=900, plot_height=700)\n",
    "# plot.scatter(x=tsne_lda[:,0], y=tsne_lda[:,1], color=mycolors[topic_num])\n",
    "# show(plot)"
   ]
  },
  {
   "cell_type": "code",
   "execution_count": 0,
   "metadata": {
    "colab": {},
    "colab_type": "code",
    "id": "LMo76U5YzDzP"
   },
   "outputs": [],
   "source": [
    "# Plot the Topic Clusters using Bokeh\n",
    "output_notebook()\n",
    "n_topics = 4\n",
    "\n",
    "colormap = np.array([\n",
    "    \"#1EF6B0\", \"#DCF314\", \"#17F9F1\",\"#FC7272\",\"#BBC0EC\",\"#FF66B2\"])\n",
    "\n",
    "colormap2=np.array([\"#446D5F\",\"#909A40\",\"#67A9A7\",\"#8D2323\",\"#464C85\",\"#CC0066\"])\n",
    "colormap = colormap[:n_topics]\n",
    "colormap2 = colormap2[:n_topics]\n",
    "\n",
    "mycolors = np.array([color for name, color in mcolors.TABLEAU_COLORS.items()])\n",
    "plot = figure(title=\"t-SNE Clustering of {} LDA Topics(Nature & parks)\".format(n_topics), \n",
    "              plot_width=900, plot_height=700,)\n",
    "plot.scatter(x=tsne_lda[:,0], y=tsne_lda[:,1], color=colormap[topic_num])\n",
    "\n",
    "\n",
    "for t in range(n_topics):\n",
    "    label = Label(x=lda_mean_topic_vectors[t][0], y=lda_mean_topic_vectors[t][1],  text=df_onlytopics[t],text_color=colormap2[t])\n",
    "    plot.add_layout(label)\n",
    "\n",
    "\n",
    "show(plot)"
   ]
  },
  {
   "cell_type": "code",
   "execution_count": 0,
   "metadata": {
    "colab": {
     "base_uri": "https://localhost:8080/",
     "height": 987
    },
    "colab_type": "code",
    "executionInfo": {
     "elapsed": 14066,
     "status": "ok",
     "timestamp": 1587802440864,
     "user": {
      "displayName": "Shikshya Dahal",
      "photoUrl": "",
      "userId": "13672899809593533424"
     },
     "user_tz": -420
    },
    "id": "rusY6fY9GqMA",
    "outputId": "4983fdff-1c12-407e-e44a-7bb21085a23a"
   },
   "outputs": [
    {
     "name": "stderr",
     "output_type": "stream",
     "text": [
      "/usr/local/lib/python3.6/dist-packages/pyLDAvis/_prepare.py:223: RuntimeWarning: divide by zero encountered in log\n",
      "  kernel = (topic_given_term * np.log((topic_given_term.T / topic_proportion).T))\n",
      "/usr/local/lib/python3.6/dist-packages/pyLDAvis/_prepare.py:240: RuntimeWarning: divide by zero encountered in log\n",
      "  log_lift = np.log(topic_term_dists / term_proportion)\n",
      "/usr/local/lib/python3.6/dist-packages/pyLDAvis/_prepare.py:241: RuntimeWarning: divide by zero encountered in log\n",
      "  log_ttd = np.log(topic_term_dists)\n"
     ]
    },
    {
     "data": {
      "text/html": [
       "\n",
       "<link rel=\"stylesheet\" type=\"text/css\" href=\"https://cdn.rawgit.com/bmabey/pyLDAvis/files/ldavis.v1.0.0.css\">\n",
       "\n",
       "\n",
       "<div id=\"ldavis_el1221403149890496807068489798\"></div>\n",
       "<script type=\"text/javascript\">\n",
       "\n",
       "var ldavis_el1221403149890496807068489798_data = {\"mdsDat\": {\"x\": [-0.1855942428199301, -0.05532007353297576, 0.2954230133204253, -0.05450869696751955], \"y\": [-0.045742213058855126, -0.1811295207443879, -0.01755516015026672, 0.24442689395350972], \"topics\": [1, 2, 3, 4], \"cluster\": [1, 1, 1, 1], \"Freq\": [28.21458625793457, 26.500957489013672, 32.39091491699219, 12.89354419708252]}, \"tinfo\": {\"Term\": [\"ride\", \"oasis\", \"boat\", \"dream\", \"street\", \"peace\", \"cable\", \"garden\", \"entrance\", \"trip\", \"cloud\", \"chaos\", \"noise\", \"guide\", \"escape\", \"climb\", \"activity\", \"traffic\", \"peak\", \"hike\", \"hill\", \"range\", \"rent\", \"stair\", \"trail\", \"ticket\", \"paddle\", \"tranquility\", \"park\", \"entry\", \"ghorepani\", \"observation\", \"video\", \"pilot\", \"dhampus\", \"teahouse\", \"climbing\", \"scenario\", \"masse\", \"ray\", \"pole\", \"bucket_list\", \"join\", \"icy\", \"walker\", \"dawn\", \"challenging\", \"ascent\", \"rhododendron\", \"cloud\", \"dhaulagiri\", \"porter\", \"arrange\", \"agent\", \"snowy\", \"knee\", \"woke\", \"headlamp\", \"nayapul\", \"annapurna_massif\", \"poonhill\", \"trail\", \"accommodation\", \"poon_hill\", \"wake\", \"range\", \"rooftop\", \"gear\", \"advance\", \"shower\", \"lookout\", \"annapurna_region\", \"trekker\", \"gold\", \"fire\", \"agency\", \"beginner\", \"guide_porter\", \"shivapuri\", \"peak\", \"viewpoint\", \"trek\", \"degree\", \"leg\", \"climb\", \"lifetime\", \"hike\", \"house\", \"route\", \"lodge\", \"summit\", \"start\", \"snow\", \"guide\", \"catch\", \"breakfast\", \"trekking\", \"chance\", \"stair\", \"reach\", \"trip\", \"sun\", \"meter\", \"sky\", \"drive\", \"sight\", \"hill\", \"world\", \"tour\", \"crowd\", \"path\", \"watch\", \"moment\", \"paragliding\", \"scenery\", \"float\", \"quantity\", \"cove\", \"cable\", \"transportation\", \"swim\", \"fishing\", \"riding\", \"brother\", \"capacity\", \"engine\", \"pedal\", \"pray\", \"glide\", \"joint\", \"court\", \"pub\", \"rice\", \"cottage\", \"vist\", \"raft\", \"band\", \"renting\", \"catching\", \"bungee_jumping\", \"periphery\", \"cool_breeze\", \"celebration\", \"teen\", \"outing\", \"ride\", \"boat\", \"paddle\", \"rent\", \"shore\", \"barahi\", \"pier\", \"cycle\", \"rower\", \"bank\", \"rapid\", \"cycling\", \"rowing\", \"beach\", \"bike\", \"fisherman\", \"zip\", \"customer\", \"boatman\", \"paddler\", \"juice\", \"drinking\", \"activity\", \"hire\", \"backdrop\", \"pokhra\", \"lake\", \"station\", \"jacket\", \"begna\", \"pagoda\", \"scooter\", \"eatery\", \"canoe\", \"resort\", \"facility\", \"beer\", \"reflection\", \"rate\", \"fun\", \"swimming\", \"taste\", \"trip\", \"hill\", \"paragliding\", \"scenery\", \"kid\", \"hotel\", \"eye\", \"cafe\", \"location\", \"tour\", \"price\", \"picture\", \"option\", \"watch\", \"tranquillity\", \"role\", \"contribution\", \"lay\", \"wander\", \"exhibition\", \"cosy\", \"pavilion\", \"tea\", \"midst\", \"gardener\", \"wifi_available\", \"meditate\", \"ambiance\", \"thamal\", \"kaiser\", \"hustle\", \"design\", \"stillness\", \"funding\", \"bustle\", \"concept\", \"making\", \"manicured_lawn\", \"lovebird\", \"mattress\", \"library\", \"gallery\", \"combine\", \"busyness\", \"oasis\", \"dream\", \"street\", \"garden\", \"escape\", \"chaos\", \"tranquility\", \"noise\", \"lawn\", \"mat\", \"retreat\", \"respite\", \"squirrel\", \"bustling\", \"madness\", \"dust\", \"architecture\", \"plant\", \"unwind\", \"pond\", \"craziness\", \"bench\", \"horn\", \"cushion\", \"hustle_bustle\", \"building\", \"traffic\", \"lie\", \"peace\", \"chill\", \"break\", \"corner\", \"wall\", \"heart\", \"tranquil\", \"meal\", \"space\", \"drink\", \"rupee\", \"tree\", \"rest\", \"service\", \"entrance_fee\", \"price\", \"pay\", \"entrance\", \"stalagmite\", \"rupees_per\", \"flash\", \"god\", \"decoration\", \"spirit\", \"passageway\", \"expecting\", \"presence\", \"enterance\", \"impressive\", \"million\", \"buddha\", \"fence\", \"formation\", \"father\", \"passage\", \"claustrophobic\", \"handicraft\", \"metal\", \"pile\", \"danger\", \"control\", \"rail\", \"hole\", \"shrine\", \"mobility\", \"pricing\", \"series\", \"voice\", \"flow\", \"force\", \"davi\", \"fall\", \"shiva\", \"tunnel\", \"railing\", \"canyon\", \"story_behind\", \"give\", \"flashlight\", \"cavern\", \"crawl\", \"iron\", \"legend\", \"mystery\", \"story\", \"seti_gorge\", \"improvement\", \"ceiling\", \"bridge\", \"gorge\", \"opening\", \"sign\", \"stream\", \"litter\", \"waste\", \"floor\", \"entrance\", \"ticket\", \"bottom\", \"slippery\", \"souvenir\", \"money\", \"construction\", \"park\", \"safety\", \"torch\", \"buy\", \"entry\", \"head\", \"work\", \"pay\", \"man\", \"body\", \"person\", \"foreigner\", \"stair\", \"guide\", \"year\", \"sight\", \"rupee\", \"level\", \"fee\", \"path\", \"visitor\", \"cost\", \"price\", \"ground\"], \"Freq\": [858.0, 582.0, 470.0, 509.0, 468.0, 628.0, 359.0, 406.0, 296.0, 809.0, 277.0, 305.0, 316.0, 408.0, 286.0, 306.0, 252.0, 315.0, 248.0, 278.0, 402.0, 203.0, 177.0, 241.0, 181.0, 182.0, 158.0, 182.0, 215.0, 178.0, 31.36719222654123, 16.729169187488655, 15.683596113270616, 15.683596113270616, 8.364584593744327, 8.364584593744327, 43.91406911715772, 8.364584593744327, 8.364584593744327, 33.45833837497731, 16.729169187488655, 8.364584593744327, 8.364584593744327, 8.364584593744327, 8.364584593744327, 85.73699208587936, 21.95703455857886, 21.95703455857886, 16.729169187488655, 277.07686466778085, 31.36719222654123, 63.7799575273005, 13.592449964834532, 18.82031533592474, 12.546876890616494, 37.64063067184948, 5.227865371090204, 10.455730742180409, 6.273438445308247, 6.273438445308247, 71.09896904682678, 179.83856876550306, 51.233080636684015, 47.050788339811845, 40.7773498945036, 199.70445717564584, 32.412765300759276, 25.093753781232987, 24.048180707014943, 24.048180707014943, 23.002607632796902, 20.911461484360817, 82.60027286322524, 19.86588841014278, 19.86588841014278, 19.86588841014278, 18.82031533592474, 17.774742261706695, 17.774742261706695, 240.48180707014944, 122.33204968351079, 133.83335349990924, 55.41537293355617, 44.959642191375764, 287.5325954099613, 42.86849604293968, 255.119830109202, 133.83335349990924, 119.19533046085668, 71.09896904682678, 87.82813823431545, 167.29169187488654, 118.14975738663864, 327.26437223024686, 77.37240749213504, 117.1041843124206, 60.643238304646374, 87.82813823431545, 180.88414183972108, 134.8789265741273, 387.90761053489325, 147.42580346474378, 81.5546997890072, 127.559915054601, 110.83074586711234, 106.64845357024018, 176.70184954284892, 149.51694961317986, 135.92449964834532, 120.24090353507472, 117.1041843124206, 125.46876890616493, 101.42058819914999, 103.51173434758606, 102.46616127336803, 5.844120781542519, 9.35059325046803, 5.844120781542519, 359.9978401430192, 10.519417406776533, 84.15533925421227, 80.64886678528676, 15.194714032010548, 7.012944937851023, 5.844120781542519, 8.181769094159526, 22.20765896986157, 8.181769094159526, 7.012944937851023, 5.844120781542519, 9.35059325046803, 16.36353818831905, 8.181769094159526, 15.194714032010548, 7.012944937851023, 14.025889875702045, 5.844120781542519, 7.012944937851023, 5.844120781542519, 8.181769094159526, 7.012944937851023, 7.012944937851023, 8.181769094159526, 7.012944937851023, 7.012944937851023, 853.2416341052077, 469.8673108360185, 158.9600852579565, 176.49244760258406, 120.38888809977588, 44.41531793972314, 25.714131438787085, 25.714131438787085, 24.54530728247858, 79.48004262897825, 21.038834813553066, 21.038834813553066, 60.77885612804219, 18.70118650093606, 107.53182238038234, 15.194714032010548, 14.025889875702045, 14.025889875702045, 12.857065719393542, 12.857065719393542, 11.688241563085038, 11.688241563085038, 240.77777619955177, 147.27184369487148, 44.41531793972314, 56.10355950280818, 77.14239431636125, 74.80474600374424, 133.24595381916942, 33.89590053294661, 60.77885612804219, 29.220603907712594, 32.7270763766381, 31.558252220329603, 43.24649378341464, 88.83063587944628, 102.85652575514834, 128.57065719393543, 53.76591119019117, 184.67421669674357, 52.597087033882666, 39.74002131448913, 393.8937406759658, 225.58306216754124, 155.453612789031, 143.76537122594596, 94.6747566609888, 95.8435808172973, 70.12944937851023, 92.33710834837179, 93.5059325046803, 99.35005328622283, 108.70064653669084, 95.8435808172973, 81.81769094159526, 81.81769094159526, 17.986586755295843, 5.995528918431947, 5.995528918431947, 5.995528918431947, 22.7830098900414, 19.18569253898223, 10.791952053177504, 59.955289184319476, 5.995528918431947, 22.7830098900414, 14.389269404236673, 14.389269404236673, 15.588375187923063, 25.18122145741418, 5.995528918431947, 19.18569253898223, 21.583904106355007, 31.176750375846126, 5.995528918431947, 5.995528918431947, 22.7830098900414, 5.995528918431947, 5.995528918431947, 7.1946347021183366, 8.393740485804726, 32.37585615953252, 34.774067726905294, 29.977644592159738, 7.1946347021183366, 15.588375187923063, 582.7654108715852, 509.6199580667155, 467.6512556376919, 405.29775488599967, 286.58628230104705, 304.57286905634294, 182.2640791203312, 314.16571532583407, 117.51236680126615, 99.52578004597032, 92.33114534385199, 89.9329337764792, 157.08285766291704, 70.74724123749698, 63.55260653537864, 128.30431885444366, 100.72488582965671, 169.07391549978092, 43.167808212710014, 121.10968415232533, 35.973173510591685, 129.50342463813007, 32.37585615953252, 31.176750375846126, 98.32667426228394, 184.66229068770397, 300.97555170528375, 65.95081810275143, 564.7788241162895, 218.23725263092288, 213.44082949617732, 98.32667426228394, 146.2909056097395, 237.42294516990512, 141.49448247499396, 155.88375187923063, 146.2909056097395, 199.05156009194064, 241.02026252096425, 167.87480971609452, 177.46765598558565, 142.69358825868034, 129.50342463813007, 175.06944441821287, 147.4900113934259, 130.70253042181645, 5.069115302069961, 11.586549261874197, 6.517433959804237, 5.793274630937098, 5.069115302069961, 5.069115302069961, 5.793274630937098, 7.96575261753851, 10.86238993300706, 4.344955973202825, 5.069115302069961, 4.344955973202825, 3.6207966443356865, 52.13947167843389, 26.069735839216946, 5.793274630937098, 19.552301879412706, 7.241593288671373, 7.241593288671373, 20.276461208279844, 3.6207966443356865, 7.96575261753851, 8.68991194640565, 6.517433959804237, 43.44955973202824, 28.966373154685492, 4.344955973202825, 5.069115302069961, 5.793274630937098, 4.344955973202825, 44.89787838976252, 23.173098523748394, 21.000620537146986, 81.10584483311938, 15.93150523507702, 15.207345906209886, 14.483186577342746, 13.75902724847561, 13.75902724847561, 13.75902724847561, 13.75902724847561, 11.586549261874197, 11.586549261874197, 10.86238993300706, 9.414071275272786, 9.414071275272786, 59.38106496710526, 7.96575261753851, 7.96575261753851, 27.51805449695122, 36.932125772224005, 33.31132912788832, 18.103983221678433, 39.10460375882541, 44.89787838976252, 34.7596477856226, 39.82876308769255, 32.58716979902118, 165.10832698170734, 109.34805865893773, 31.86301047015404, 25.345576510349808, 28.966373154685492, 70.96761422897946, 37.65628510109114, 96.31319073932927, 39.82876308769255, 42.7254004031611, 27.51805449695122, 74.58841087331515, 57.20858698050385, 48.5186750340982, 81.10584483311938, 47.79451570523106, 37.65628510109114, 55.760268322769576, 50.691153020699616, 60.829383624839544, 73.14009221558086, 48.5186750340982, 50.691153020699616, 63.00186161144095, 43.44955973202824, 47.070356376363925, 50.691153020699616, 48.5186750340982, 45.622037718629656, 47.070356376363925, 41.277081745426834], \"Total\": [858.0, 582.0, 470.0, 509.0, 468.0, 628.0, 359.0, 406.0, 296.0, 809.0, 277.0, 305.0, 316.0, 408.0, 286.0, 306.0, 252.0, 315.0, 248.0, 278.0, 402.0, 203.0, 177.0, 241.0, 181.0, 182.0, 158.0, 182.0, 215.0, 178.0, 31.36719222654123, 16.729169187488655, 15.683596113270616, 15.683596113270616, 8.364584593744327, 8.364584593744327, 43.91406911715772, 8.364584593744327, 8.364584593744327, 33.45833837497731, 16.729169187488655, 8.364584593744327, 8.364584593744327, 8.364584593744327, 8.364584593744327, 85.73699208587936, 21.95703455857886, 21.95703455857886, 16.729169187488655, 277.07686466778085, 31.36719222654123, 63.7799575273005, 13.592449964834532, 18.82031533592474, 12.546876890616494, 37.64063067184948, 5.227865371090204, 10.455730742180409, 6.273438445308247, 6.273438445308247, 71.09896904682678, 181.7315522506787, 51.233080636684015, 47.050788339811845, 40.7773498945036, 203.21092964457137, 32.412765300759276, 25.093753781232987, 24.048180707014943, 24.048180707014943, 23.002607632796902, 20.911461484360817, 83.76909701953375, 19.86588841014278, 19.86588841014278, 19.86588841014278, 18.82031533592474, 17.774742261706695, 17.774742261706695, 248.24919296424548, 125.22868699897934, 137.33982596883476, 56.13953226242331, 45.6838015202429, 306.36073796050687, 43.59265537180682, 278.0516484079307, 143.3353548872667, 127.3770995550162, 74.60544151575229, 93.22759418841659, 183.71579331796136, 132.17564726234068, 408.61651516736515, 84.38535242998606, 133.52828575549543, 65.46314073266845, 102.20380297034937, 241.71352546456063, 192.37995858406433, 809.3194057078102, 228.8109888903267, 102.19178327669613, 194.18289196418573, 177.45372277669705, 166.90217123305302, 402.28491171039013, 331.52661640305894, 275.1033160222607, 217.0353741125155, 216.91623352545525, 289.91642180773226, 187.90517055418078, 259.6895064654842, 250.07806272442102, 5.844120781542519, 9.35059325046803, 5.844120781542519, 359.9978401430192, 10.519417406776533, 84.15533925421227, 80.64886678528676, 15.194714032010548, 7.012944937851023, 5.844120781542519, 8.181769094159526, 22.20765896986157, 8.181769094159526, 7.012944937851023, 5.844120781542519, 9.35059325046803, 16.36353818831905, 8.181769094159526, 15.194714032010548, 7.012944937851023, 14.025889875702045, 5.844120781542519, 7.012944937851023, 5.844120781542519, 8.181769094159526, 7.012944937851023, 7.012944937851023, 8.181769094159526, 7.012944937851023, 7.012944937851023, 858.6230321857663, 470.91288391023653, 158.9600852579565, 177.69155338627044, 121.43446117399392, 44.41531793972314, 25.714131438787085, 25.714131438787085, 24.54530728247858, 80.5256157031963, 21.038834813553066, 21.038834813553066, 61.50301545690933, 18.70118650093606, 109.62296852881842, 15.194714032010548, 14.025889875702045, 14.025889875702045, 12.857065719393542, 12.857065719393542, 11.688241563085038, 11.688241563085038, 252.58614543488693, 153.37740110429715, 45.13947726859028, 57.30266528649457, 80.27911353901537, 77.94146522639836, 141.61053841291374, 34.62005986181375, 63.27274785999451, 29.944763236579732, 33.77264945085614, 32.60382529454765, 45.64470535078742, 99.62258793262379, 119.73968689133733, 153.7227227592892, 58.83502649226113, 241.45918630493762, 57.98761608130353, 42.63665862995768, 809.3194057078102, 402.28491171039013, 259.6895064654842, 250.07806272442102, 144.00590321314482, 150.21338067663544, 99.80824104013162, 169.80403783316785, 215.27793821880505, 275.1033160222607, 371.6177972257712, 262.14632237606764, 195.14892361790777, 289.91642180773226, 17.986586755295843, 5.995528918431947, 5.995528918431947, 5.995528918431947, 22.7830098900414, 19.18569253898223, 10.791952053177504, 59.955289184319476, 5.995528918431947, 22.7830098900414, 14.389269404236673, 14.389269404236673, 15.588375187923063, 25.18122145741418, 5.995528918431947, 19.18569253898223, 21.583904106355007, 31.176750375846126, 5.995528918431947, 5.995528918431947, 22.7830098900414, 5.995528918431947, 5.995528918431947, 7.1946347021183366, 8.393740485804726, 32.37585615953252, 34.774067726905294, 29.977644592159738, 7.1946347021183366, 15.588375187923063, 582.7654108715852, 509.6199580667155, 468.37541496655905, 406.3433279602177, 286.58628230104705, 305.29702838521007, 182.2640791203312, 316.33819331243546, 117.51236680126615, 99.52578004597032, 92.33114534385199, 89.9329337764792, 158.25168181922555, 70.74724123749698, 63.55260653537864, 129.34989192866172, 101.44904515852384, 171.28831273030747, 43.167808212710014, 122.5580028100596, 35.973173510591685, 131.27315704121526, 32.37585615953252, 31.176750375846126, 99.49549841859245, 190.45556531864108, 315.53866316316635, 67.11964225905993, 628.8176505490762, 235.39986172927905, 236.4434371289742, 104.60011270759219, 162.22241084481652, 275.104812673203, 157.858020663313, 177.8407864378095, 166.93069980729538, 284.4948523374501, 375.8051575013822, 224.26496638980052, 256.0088876340292, 191.27334468191506, 163.4575812567202, 371.6177972257712, 250.55701303222594, 296.8564304777418, 5.069115302069961, 11.586549261874197, 6.517433959804237, 5.793274630937098, 5.069115302069961, 5.069115302069961, 5.793274630937098, 7.96575261753851, 10.86238993300706, 4.344955973202825, 5.069115302069961, 4.344955973202825, 3.6207966443356865, 52.13947167843389, 26.069735839216946, 5.793274630937098, 19.552301879412706, 7.241593288671373, 7.241593288671373, 20.276461208279844, 3.6207966443356865, 7.96575261753851, 8.68991194640565, 6.517433959804237, 43.44955973202824, 28.966373154685492, 4.344955973202825, 5.069115302069961, 5.793274630937098, 4.344955973202825, 44.89787838976252, 23.173098523748394, 21.000620537146986, 82.30495061680577, 15.93150523507702, 15.207345906209886, 14.483186577342746, 13.75902724847561, 13.75902724847561, 13.75902724847561, 13.75902724847561, 11.586549261874197, 11.586549261874197, 10.86238993300706, 9.414071275272786, 9.414071275272786, 60.54988912341376, 7.96575261753851, 7.96575261753851, 28.56362757116926, 39.26977408484101, 35.7095406952611, 19.149556295896474, 49.43595768359787, 58.490328354597054, 43.986989954000165, 52.19282447872424, 40.95175439276551, 296.8564304777418, 182.69332354402366, 40.044779564313565, 30.57344188144001, 37.70071099470121, 131.76200687440314, 55.34005558260813, 215.12088308689079, 62.03642205755412, 69.01825996808049, 36.18970450963224, 178.91061405403104, 127.44979263900456, 97.5620113910461, 250.55701303222594, 100.51272924862528, 63.88845451319869, 159.8379369947786, 140.07901750437688, 241.71352546456063, 408.61651516736515, 134.35063424921302, 166.90217123305302, 375.8051575013822, 106.76779339560622, 154.16390157667644, 216.91623352545525, 184.68553825233568, 215.92830712221036, 371.6177972257712, 158.60675994516424], \"Category\": [\"Default\", \"Default\", \"Default\", \"Default\", \"Default\", \"Default\", \"Default\", \"Default\", \"Default\", \"Default\", \"Default\", \"Default\", \"Default\", \"Default\", \"Default\", \"Default\", \"Default\", \"Default\", \"Default\", \"Default\", \"Default\", \"Default\", \"Default\", \"Default\", \"Default\", \"Default\", \"Default\", \"Default\", \"Default\", \"Default\", \"Topic1\", \"Topic1\", \"Topic1\", \"Topic1\", \"Topic1\", \"Topic1\", \"Topic1\", \"Topic1\", \"Topic1\", \"Topic1\", \"Topic1\", \"Topic1\", \"Topic1\", \"Topic1\", \"Topic1\", \"Topic1\", \"Topic1\", \"Topic1\", \"Topic1\", \"Topic1\", \"Topic1\", \"Topic1\", \"Topic1\", \"Topic1\", \"Topic1\", \"Topic1\", \"Topic1\", \"Topic1\", \"Topic1\", \"Topic1\", \"Topic1\", \"Topic1\", \"Topic1\", \"Topic1\", \"Topic1\", \"Topic1\", \"Topic1\", \"Topic1\", \"Topic1\", \"Topic1\", \"Topic1\", \"Topic1\", \"Topic1\", \"Topic1\", \"Topic1\", \"Topic1\", \"Topic1\", \"Topic1\", \"Topic1\", \"Topic1\", \"Topic1\", \"Topic1\", \"Topic1\", \"Topic1\", \"Topic1\", \"Topic1\", \"Topic1\", \"Topic1\", \"Topic1\", \"Topic1\", \"Topic1\", \"Topic1\", \"Topic1\", \"Topic1\", \"Topic1\", \"Topic1\", \"Topic1\", \"Topic1\", \"Topic1\", \"Topic1\", \"Topic1\", \"Topic1\", \"Topic1\", \"Topic1\", \"Topic1\", \"Topic1\", \"Topic1\", \"Topic1\", \"Topic1\", \"Topic1\", \"Topic1\", \"Topic1\", \"Topic1\", \"Topic1\", \"Topic1\", \"Topic2\", \"Topic2\", \"Topic2\", \"Topic2\", \"Topic2\", \"Topic2\", \"Topic2\", \"Topic2\", \"Topic2\", \"Topic2\", \"Topic2\", \"Topic2\", \"Topic2\", \"Topic2\", \"Topic2\", \"Topic2\", \"Topic2\", \"Topic2\", \"Topic2\", \"Topic2\", \"Topic2\", \"Topic2\", \"Topic2\", \"Topic2\", \"Topic2\", \"Topic2\", \"Topic2\", \"Topic2\", \"Topic2\", \"Topic2\", \"Topic2\", \"Topic2\", \"Topic2\", \"Topic2\", \"Topic2\", \"Topic2\", \"Topic2\", \"Topic2\", \"Topic2\", \"Topic2\", \"Topic2\", \"Topic2\", \"Topic2\", \"Topic2\", \"Topic2\", \"Topic2\", \"Topic2\", \"Topic2\", \"Topic2\", \"Topic2\", \"Topic2\", \"Topic2\", \"Topic2\", \"Topic2\", \"Topic2\", \"Topic2\", \"Topic2\", \"Topic2\", \"Topic2\", \"Topic2\", \"Topic2\", \"Topic2\", \"Topic2\", \"Topic2\", \"Topic2\", \"Topic2\", \"Topic2\", \"Topic2\", \"Topic2\", \"Topic2\", \"Topic2\", \"Topic2\", \"Topic2\", \"Topic2\", \"Topic2\", \"Topic2\", \"Topic2\", \"Topic2\", \"Topic2\", \"Topic2\", \"Topic2\", \"Topic2\", \"Topic2\", \"Topic2\", \"Topic2\", \"Topic2\", \"Topic3\", \"Topic3\", \"Topic3\", \"Topic3\", \"Topic3\", \"Topic3\", \"Topic3\", \"Topic3\", \"Topic3\", \"Topic3\", \"Topic3\", \"Topic3\", \"Topic3\", \"Topic3\", \"Topic3\", \"Topic3\", \"Topic3\", \"Topic3\", \"Topic3\", \"Topic3\", \"Topic3\", \"Topic3\", \"Topic3\", \"Topic3\", \"Topic3\", \"Topic3\", \"Topic3\", \"Topic3\", \"Topic3\", \"Topic3\", \"Topic3\", \"Topic3\", \"Topic3\", \"Topic3\", \"Topic3\", \"Topic3\", \"Topic3\", \"Topic3\", \"Topic3\", \"Topic3\", \"Topic3\", \"Topic3\", \"Topic3\", \"Topic3\", \"Topic3\", \"Topic3\", \"Topic3\", \"Topic3\", \"Topic3\", \"Topic3\", \"Topic3\", \"Topic3\", \"Topic3\", \"Topic3\", \"Topic3\", \"Topic3\", \"Topic3\", \"Topic3\", \"Topic3\", \"Topic3\", \"Topic3\", \"Topic3\", \"Topic3\", \"Topic3\", \"Topic3\", \"Topic3\", \"Topic3\", \"Topic3\", \"Topic3\", \"Topic3\", \"Topic3\", \"Topic3\", \"Topic3\", \"Topic3\", \"Topic3\", \"Topic3\", \"Topic4\", \"Topic4\", \"Topic4\", \"Topic4\", \"Topic4\", \"Topic4\", \"Topic4\", \"Topic4\", \"Topic4\", \"Topic4\", \"Topic4\", \"Topic4\", \"Topic4\", \"Topic4\", \"Topic4\", \"Topic4\", \"Topic4\", \"Topic4\", \"Topic4\", \"Topic4\", \"Topic4\", \"Topic4\", \"Topic4\", \"Topic4\", \"Topic4\", \"Topic4\", \"Topic4\", \"Topic4\", \"Topic4\", \"Topic4\", \"Topic4\", \"Topic4\", \"Topic4\", \"Topic4\", \"Topic4\", \"Topic4\", \"Topic4\", \"Topic4\", \"Topic4\", \"Topic4\", \"Topic4\", \"Topic4\", \"Topic4\", \"Topic4\", \"Topic4\", \"Topic4\", \"Topic4\", \"Topic4\", \"Topic4\", \"Topic4\", \"Topic4\", \"Topic4\", \"Topic4\", \"Topic4\", \"Topic4\", \"Topic4\", \"Topic4\", \"Topic4\", \"Topic4\", \"Topic4\", \"Topic4\", \"Topic4\", \"Topic4\", \"Topic4\", \"Topic4\", \"Topic4\", \"Topic4\", \"Topic4\", \"Topic4\", \"Topic4\", \"Topic4\", \"Topic4\", \"Topic4\", \"Topic4\", \"Topic4\", \"Topic4\", \"Topic4\", \"Topic4\", \"Topic4\", \"Topic4\", \"Topic4\", \"Topic4\", \"Topic4\", \"Topic4\", \"Topic4\", \"Topic4\", \"Topic4\", \"Topic4\", \"Topic4\"], \"logprob\": [30.0, 29.0, 28.0, 27.0, 26.0, 25.0, 24.0, 23.0, 22.0, 21.0, 20.0, 19.0, 18.0, 17.0, 16.0, 15.0, 14.0, 13.0, 12.0, 11.0, 10.0, 9.0, 8.0, 7.0, 6.0, 5.0, 4.0, 3.0, 2.0, 1.0, -6.3117, -6.9403, -7.0048, -7.0048, -7.6334, -7.6334, -5.9752, -7.6334, -7.6334, -6.2471, -6.9403, -7.6334, -7.6334, -7.6334, -7.6334, -5.3062, -6.6683, -6.6683, -6.9403, -4.1331, -6.3117, -5.602, -7.1479, -6.8225, -7.228, -6.1294, -8.1034, -7.4103, -7.9211, -7.9211, -5.4934, -4.5654, -5.8211, -5.9062, -6.0493, -4.4606, -6.2789, -6.5348, -6.5774, -6.5774, -6.6218, -6.7171, -5.3434, -6.7684, -6.7684, -6.7684, -6.8225, -6.8797, -6.8797, -4.2748, -4.9507, -4.8608, -5.7426, -5.9517, -4.0961, -5.9993, -4.2157, -4.8608, -4.9767, -5.4934, -5.2821, -4.6377, -4.9855, -3.9667, -5.4088, -4.9944, -5.6524, -5.2821, -4.5596, -4.8531, -3.7967, -4.7641, -5.3562, -4.9089, -5.0494, -5.0879, -4.583, -4.75, -4.8453, -4.9679, -4.9944, -4.9254, -5.1382, -5.1178, -5.1279, -7.9293, -7.4593, -7.9293, -3.8087, -7.3416, -5.2621, -5.3047, -6.9738, -7.747, -7.9293, -7.5929, -6.5943, -7.5929, -7.747, -7.9293, -7.4593, -6.8997, -7.5929, -6.9738, -7.747, -7.0539, -7.9293, -7.747, -7.9293, -7.5929, -7.747, -7.747, -7.5929, -7.747, -7.747, -2.9457, -3.5423, -4.6261, -4.5215, -4.9041, -5.9012, -6.4477, -6.4477, -6.4943, -5.3193, -6.6484, -6.6484, -5.5875, -6.7662, -5.017, -6.9738, -7.0539, -7.0539, -7.1409, -7.1409, -7.2362, -7.2362, -4.2109, -4.7025, -5.9012, -5.6676, -5.3491, -5.3799, -4.8026, -6.1715, -5.5875, -6.3199, -6.2066, -6.2429, -5.9279, -5.208, -5.0614, -4.8383, -5.7101, -4.4762, -5.7321, -6.0124, -3.7187, -4.2761, -4.6484, -4.7266, -5.1443, -5.1321, -5.4444, -5.1693, -5.1568, -5.0961, -5.0062, -5.1321, -5.2903, -5.2903, -7.0058, -8.1045, -8.1045, -8.1045, -6.7695, -6.9413, -7.5167, -5.8019, -8.1045, -6.7695, -7.229, -7.229, -7.149, -6.6694, -8.1045, -6.9413, -6.8235, -6.4558, -8.1045, -8.1045, -6.7695, -8.1045, -8.1045, -7.9221, -7.768, -6.4181, -6.3466, -6.495, -7.9221, -7.149, -3.5277, -3.6618, -3.7478, -3.8909, -4.2374, -4.1766, -4.69, -4.1456, -5.1289, -5.2951, -5.3701, -5.3964, -4.8387, -5.6364, -5.7436, -5.0411, -5.2831, -4.7651, -6.1304, -5.0988, -6.3127, -5.0318, -6.4181, -6.4558, -5.3072, -4.6769, -4.1884, -5.7066, -3.559, -4.5099, -4.5321, -5.3072, -4.9099, -4.4256, -4.9432, -4.8464, -4.9099, -4.6019, -4.4106, -4.7723, -4.7167, -4.9348, -5.0318, -4.7303, -4.9017, -5.0226, -7.3512, -6.5245, -7.0998, -7.2176, -7.3512, -7.3512, -7.2176, -6.8992, -6.589, -7.5053, -7.3512, -7.5053, -7.6876, -5.0204, -5.7135, -7.2176, -6.0012, -6.9945, -6.9945, -5.9649, -7.6876, -6.8992, -6.8122, -7.0998, -5.2027, -5.6082, -7.5053, -7.3512, -7.2176, -7.5053, -5.1699, -5.8313, -5.9298, -4.5786, -6.206, -6.2525, -6.3013, -6.3526, -6.3526, -6.3526, -6.3526, -6.5245, -6.5245, -6.589, -6.7321, -6.7321, -4.8903, -6.8992, -6.8992, -5.6595, -5.3652, -5.4684, -6.0782, -5.3081, -5.1699, -5.4259, -5.2897, -5.4904, -3.8677, -4.2798, -5.5129, -5.7417, -5.6082, -4.7121, -5.3458, -4.4067, -5.2897, -5.2195, -5.6595, -4.6623, -4.9276, -5.0924, -4.5786, -5.1074, -5.3458, -4.9533, -5.0486, -4.8663, -4.6819, -5.0924, -5.0486, -4.8312, -5.2027, -5.1227, -5.0486, -5.0924, -5.1539, -5.1227, -5.254], \"loglift\": [30.0, 29.0, 28.0, 27.0, 26.0, 25.0, 24.0, 23.0, 22.0, 21.0, 20.0, 19.0, 18.0, 17.0, 16.0, 15.0, 14.0, 13.0, 12.0, 11.0, 10.0, 9.0, 8.0, 7.0, 6.0, 5.0, 4.0, 3.0, 2.0, 1.0, 1.2653, 1.2653, 1.2653, 1.2653, 1.2653, 1.2653, 1.2653, 1.2653, 1.2653, 1.2653, 1.2653, 1.2653, 1.2653, 1.2653, 1.2653, 1.2653, 1.2653, 1.2653, 1.2653, 1.2653, 1.2653, 1.2653, 1.2653, 1.2653, 1.2653, 1.2653, 1.2653, 1.2653, 1.2653, 1.2653, 1.2653, 1.2549, 1.2653, 1.2653, 1.2653, 1.2479, 1.2653, 1.2653, 1.2653, 1.2653, 1.2653, 1.2653, 1.2513, 1.2653, 1.2653, 1.2653, 1.2653, 1.2653, 1.2653, 1.2335, 1.2419, 1.2395, 1.2523, 1.2494, 1.2019, 1.2486, 1.1793, 1.1967, 1.1989, 1.2172, 1.2057, 1.1717, 1.1532, 1.0433, 1.1786, 1.1341, 1.1889, 1.1137, 0.9754, 0.9102, 0.5299, 0.8258, 1.0398, 0.8451, 0.7946, 0.8175, 0.4426, 0.469, 0.5603, 0.6748, 0.6489, 0.4278, 0.6487, 0.3455, 0.3731, 1.328, 1.328, 1.328, 1.328, 1.328, 1.328, 1.328, 1.328, 1.328, 1.328, 1.328, 1.328, 1.328, 1.328, 1.328, 1.328, 1.328, 1.328, 1.328, 1.328, 1.328, 1.328, 1.328, 1.328, 1.328, 1.328, 1.328, 1.328, 1.328, 1.328, 1.3217, 1.3258, 1.328, 1.3212, 1.3193, 1.328, 1.328, 1.328, 1.328, 1.3149, 1.328, 1.328, 1.3161, 1.328, 1.3087, 1.328, 1.328, 1.328, 1.328, 1.328, 1.328, 1.328, 1.2801, 1.2874, 1.3118, 1.3068, 1.2881, 1.2869, 1.2671, 1.3069, 1.2878, 1.3035, 1.2965, 1.2954, 1.274, 1.2133, 1.176, 1.1493, 1.2379, 1.0599, 1.2304, 1.2576, 0.6079, 0.7495, 0.8148, 0.7744, 0.9086, 0.8786, 0.9751, 0.7188, 0.4941, 0.3095, 0.0987, 0.3218, 0.4587, 0.0629, 1.1273, 1.1273, 1.1273, 1.1273, 1.1273, 1.1273, 1.1273, 1.1273, 1.1273, 1.1273, 1.1273, 1.1273, 1.1273, 1.1273, 1.1273, 1.1273, 1.1273, 1.1273, 1.1273, 1.1273, 1.1273, 1.1273, 1.1273, 1.1273, 1.1273, 1.1273, 1.1273, 1.1273, 1.1273, 1.1273, 1.1273, 1.1273, 1.1257, 1.1247, 1.1273, 1.1249, 1.1273, 1.1204, 1.1273, 1.1273, 1.1273, 1.1273, 1.1199, 1.1273, 1.1273, 1.1192, 1.1201, 1.1143, 1.1273, 1.1154, 1.1273, 1.1137, 1.1273, 1.1273, 1.1155, 1.0964, 1.08, 1.1097, 1.0199, 1.0516, 1.0249, 1.0654, 1.0239, 0.98, 1.0179, 0.9955, 0.9953, 0.7701, 0.6831, 0.8377, 0.7609, 0.8343, 0.8944, 0.3746, 0.5974, 0.307, 2.0484, 2.0484, 2.0484, 2.0484, 2.0484, 2.0484, 2.0484, 2.0484, 2.0484, 2.0484, 2.0484, 2.0484, 2.0484, 2.0484, 2.0484, 2.0484, 2.0484, 2.0484, 2.0484, 2.0484, 2.0484, 2.0484, 2.0484, 2.0484, 2.0484, 2.0484, 2.0484, 2.0484, 2.0484, 2.0484, 2.0484, 2.0484, 2.0484, 2.0338, 2.0484, 2.0484, 2.0484, 2.0484, 2.0484, 2.0484, 2.0484, 2.0484, 2.0484, 2.0484, 2.0484, 2.0484, 2.029, 2.0484, 2.0484, 2.0112, 1.9871, 1.9789, 1.9923, 1.814, 1.784, 1.813, 1.7781, 1.82, 1.4618, 1.5352, 1.8199, 1.8609, 1.7849, 1.4297, 1.6634, 1.2448, 1.6053, 1.5689, 1.7745, 1.1735, 1.2474, 1.3499, 0.9205, 1.3051, 1.5198, 0.9953, 1.032, 0.6688, 0.328, 1.0299, 0.8568, 0.2625, 1.1494, 0.8621, 0.5947, 0.7117, 0.4939, -0.0178, 0.7023]}, \"token.table\": {\"Topic\": [1, 1, 2, 3, 1, 1, 1, 3, 1, 1, 3, 4, 1, 1, 2, 4, 2, 1, 2, 2, 2, 1, 2, 3, 4, 1, 2, 4, 1, 3, 4, 1, 2, 1, 2, 2, 1, 2, 3, 4, 2, 4, 1, 3, 1, 2, 3, 2, 4, 2, 1, 4, 3, 4, 2, 3, 3, 3, 1, 3, 4, 2, 2, 3, 4, 1, 2, 4, 2, 1, 2, 2, 4, 1, 4, 2, 1, 1, 2, 3, 4, 3, 4, 1, 2, 3, 4, 1, 4, 1, 1, 3, 3, 2, 3, 4, 3, 4, 2, 1, 3, 1, 2, 3, 4, 3, 2, 2, 2, 4, 3, 1, 2, 3, 3, 2, 2, 2, 4, 4, 1, 4, 1, 4, 3, 1, 1, 3, 1, 2, 3, 2, 1, 2, 1, 3, 1, 2, 2, 4, 1, 3, 4, 1, 3, 4, 3, 4, 3, 3, 4, 1, 2, 4, 2, 3, 3, 4, 4, 1, 3, 4, 4, 1, 2, 2, 4, 4, 2, 1, 4, 4, 4, 2, 3, 4, 4, 1, 2, 3, 4, 3, 3, 1, 3, 3, 1, 1, 4, 2, 4, 1, 3, 4, 1, 3, 4, 1, 2, 3, 4, 1, 4, 1, 2, 3, 4, 1, 2, 3, 4, 1, 2, 4, 1, 2, 1, 2, 3, 4, 4, 3, 1, 2, 1, 2, 3, 3, 2, 3, 1, 4, 4, 4, 1, 2, 1, 2, 2, 3, 1, 2, 3, 4, 1, 1, 2, 3, 3, 1, 4, 4, 1, 2, 3, 4, 3, 2, 3, 1, 4, 1, 2, 4, 1, 2, 3, 4, 1, 2, 1, 3, 3, 3, 2, 3, 4, 3, 1, 3, 3, 1, 3, 3, 4, 1, 2, 3, 4, 3, 4, 4, 1, 2, 3, 4, 1, 2, 3, 4, 4, 1, 3, 4, 3, 1, 1, 4, 1, 2, 3, 4, 2, 2, 2, 1, 2, 4, 1, 2, 4, 1, 2, 3, 4, 4, 4, 1, 2, 3, 4, 3, 1, 2, 3, 4, 1, 2, 3, 1, 2, 3, 4, 2, 2, 1, 2, 3, 4, 1, 2, 3, 4, 2, 4, 1, 1, 2, 3, 2, 3, 1, 3, 4, 1, 1, 1, 2, 4, 1, 2, 3, 4, 4, 2, 2, 2, 4, 4, 1, 2, 2, 2, 4, 1, 1, 2, 4, 1, 2, 3, 2, 3, 2, 2, 3, 3, 1, 2, 3, 3, 1, 2, 1, 2, 3, 2, 3, 1, 1, 2, 2, 2, 4, 1, 2, 3, 4, 4, 2, 4, 1, 1, 2, 3, 4, 2, 4, 4, 1, 2, 3, 4, 4, 4, 1, 1, 2, 1, 4, 1, 2, 3, 4, 1, 3, 4, 1, 2, 1, 4, 1, 2, 1, 1, 2, 4, 1, 2, 3, 4, 4, 2, 3, 1, 4, 4, 1, 2, 3, 1, 2, 3, 2, 4, 4, 1, 4, 3, 4, 1, 2, 4, 1, 2, 3, 4, 2, 1, 2, 4, 2, 4, 3, 1, 2, 3, 2, 3, 4, 1, 3, 4, 1, 2, 4, 1, 2, 3, 4, 1, 2, 4, 2, 3, 3, 3, 2, 1, 2, 3, 4, 1, 2, 1, 2, 1, 3, 4, 1, 2, 4, 4, 3, 1, 1, 4, 1, 2, 3, 4, 2, 4, 1, 1, 3, 4, 3, 1, 2, 4, 1, 2, 3, 4, 3, 1, 1, 2, 3, 4, 1, 2, 3, 1, 2, 3, 4, 2], \"Freq\": [0.9954505832210854, 0.03563140798757733, 0.9541299250006819, 0.007918090663906073, 0.9979964926410883, 1.0067508478396943, 1.0095473779725823, 0.9928033094931215, 0.9564133054477095, 1.0042339707200951, 0.995573687679148, 0.00985716522454602, 1.029983559712918, 1.001956796183315, 0.9747565249413473, 0.022153557385030623, 1.0266728262957525, 0.012418408617772382, 0.9810542808040182, 0.9906492183555508, 1.015978317688505, 0.008351449932447968, 0.8601993430421407, 0.11692029905427155, 0.008351449932447968, 1.0095473779725823, 0.9820895785770237, 0.02888498760520658, 0.007617703592563363, 0.9903014670332372, 0.007617703592563363, 0.0182443517708082, 0.9851949956236429, 0.00212353501925128, 0.9980614590481017, 1.0111171774124834, 0.10956596232193835, 0.17217508364876027, 0.12521824265364384, 0.5947866526048082, 0.19977635254931722, 0.7991054101972689, 0.09727485050665227, 0.9008497025181275, 0.8762188426071724, 0.10484669911538816, 0.014978099873626879, 0.05092975568637263, 0.9422004801978937, 0.998154136676426, 0.9564133054477097, 1.1047292606883994, 0.9713551803565642, 0.03150341125480749, 0.977783644091193, 1.0095242073372162, 1.0035727013249112, 1.0264058830451963, 0.1657930088487747, 0.055264336282924896, 0.7737007079609486, 1.00000599963872, 0.5418010147107917, 0.4534638927470756, 0.005889141464247735, 0.030671247651643824, 0.9814799248526024, 1.017513792739315, 1.0266728262957525, 0.9124806353553642, 0.08295278503230584, 1.0266728262957525, 1.0356836818953743, 0.03500955883521432, 0.9802676473860008, 0.977783644091193, 1.001956796183315, 0.8610247118253508, 0.019568743450576156, 0.048921858626440384, 0.06849060207701654, 0.9990270839294404, 0.0032754986358342307, 0.012744272566524027, 0.05947327197711212, 0.9260838065007458, 0.9666381031023494, 0.9400682408498645, 0.06201839088940078, 1.001956796183315, 0.9997225872038323, 0.9729472433032591, 1.0007457359690666, 0.21684112662458677, 0.10842056331229338, 0.6866635676445249, 1.0007457359690666, 1.035683681895374, 0.998154136676426, 0.057361314865624444, 0.9369014761385326, 0.12967266947613615, 0.3241816736903404, 0.33344400722435014, 0.2130336712822237, 1.0192780644129382, 0.9871854098997621, 0.9625057746522679, 1.0266728262957525, 1.0356836818953743, 1.0007457359690664, 0.5529052602171183, 0.059898069856854474, 0.38703368215198275, 0.9943306992000339, 0.998154136676426, 1.0111171774124834, 0.9981541366764262, 1.0042993278985448, 0.9999704514851888, 1.0030676130305247, 0.986365411328928, 0.9797017855956373, 0.017812759738102497, 0.9943306992000339, 0.9564133054477097, 0.9882937489626332, 1.0007457359690664, 0.06678503967257511, 0.235505139898028, 0.6994854155180235, 1.0266728262957525, 0.6255151949653904, 0.37756322578992035, 0.0077309689640213545, 0.9895640273947334, 0.0296097586733649, 0.9771220362210417, 0.977783644091193, 0.9206077172403325, 0.003368631760446165, 0.44129076061844763, 0.5558242404736172, 0.012235590326391021, 0.7953133712154163, 0.19576944522225634, 0.5812958641380102, 0.4192037481764496, 1.0014436060778316, 0.9903213012193887, 1.0042993278985448, 0.28053795666774206, 0.7013448916693552, 0.010019212738133646, 0.8933716925742985, 0.1104167260485088, 0.012149937427892837, 0.9841449316593197, 1.0356836818953743, 0.14270526222416516, 0.5513612404115472, 0.30487033293344373, 0.9973250270103603, 1.0067508478396943, 0.9871854098997621, 1.0043538518110624, 1.074042336780388, 1.017513792739315, 1.0266728262957525, 0.19535182603588946, 0.8058262823980441, 1.002274530866491, 0.9925301951497337, 0.14991538614513653, 0.48544029799377547, 0.3640802234953316, 0.9973250270103603, 0.13252757325036024, 0.7661750328536452, 0.004141486664073758, 0.09525419327369643, 1.0007457359690666, 1.0007457359690664, 0.00246097310129306, 0.9966941060236894, 0.9729472433032591, 0.996263859841364, 0.9882937489626332, 1.017513792739315, 0.998154136676426, 1.0356836818953743, 1.0067508478396943, 0.056007441178469536, 0.9241227794447473, 0.05674411357442524, 0.6809293628931029, 0.2585009618390483, 0.8002613400637126, 0.017130976698611584, 0.0024472823855159406, 0.17865161414266367, 1.0126729116505162, 0.9666381031023494, 0.24323303599093346, 0.21184812812113557, 0.09415472360939359, 0.44723493714461954, 0.9564133054477097, 0.13085921562108183, 0.861489836172122, 0.0036349782116967175, 0.9170958038194704, 0.07912199091775823, 0.0035964541326253745, 0.43998667324471885, 0.5617908935215055, 0.026079461323510016, 0.958420203638993, 0.006519865330877504, 0.006519865330877504, 0.9896532960333576, 0.9883908503398187, 0.3594886138422374, 0.6390908690528665, 0.9348705356427313, 0.027906583153514367, 0.04185987473027155, 1.0192780644129382, 0.010050705970564119, 0.9849691851152836, 0.9564133054477097, 0.986365411328928, 1.0042993278985448, 1.012668488964366, 0.05649297071855822, 0.9391956381960304, 0.9564133054477097, 1.0266728262957525, 1.0266728262957525, 0.9903213012193887, 0.03472079885919289, 0.6596951783246648, 0.07638575749022435, 0.22915727247067305, 1.0095473779725823, 0.03736962041243779, 0.9591535905859033, 1.0041496330301858, 1.0007457359690666, 0.9850318603643372, 0.02188959689698527, 0.9560157063649608, 0.552601099297684, 0.00936612032707939, 0.03746448130831756, 0.40274317406441373, 1.0064971482447507, 0.01489876832388835, 0.9833187093766311, 0.9864046966914037, 0.022939644109102413, 0.022733994779951073, 0.18187195823960858, 0.7956898172982875, 0.06967736742607708, 0.436644835870083, 0.3716126262724111, 0.12541926136693873, 0.9516732098557311, 0.05361539210454823, 0.9998866375135146, 0.9530911771133966, 1.0070397343084947, 1.0007457359690666, 0.47755145401801435, 0.049744943126876495, 0.47755145401801435, 0.9729472433032591, 0.9564133054477097, 1.0047647951496652, 0.9883908503398187, 0.12370615560504929, 0.8771891033812586, 1.0264058830451963, 0.986365411328928, 0.8024128493577166, 0.03914209021257155, 0.009785522553142887, 0.1565683608502862, 1.0095242073372162, 0.9206077172403325, 0.9206077172403325, 0.537505166580169, 0.17562049997173837, 0.25544799995889217, 0.03193099999486152, 0.18973602932315875, 0.08348385290218985, 0.18973602932315875, 0.5388503232777708, 0.9560157063649608, 0.9564133054477095, 0.9926085646252455, 0.006322347545383729, 1.0004025447015874, 1.0161891370381915, 0.05222053109472245, 0.9399695597050042, 0.3791975821751825, 0.42019191538331035, 0.19472308273860725, 0.00512429165101598, 0.998154136676426, 1.0002510991484355, 1.0111171774124834, 0.015804592558754202, 0.9640801460840063, 0.015804592558754202, 0.4004782534939386, 0.5968666278034662, 0.0038507524374417177, 0.02789129494962376, 0.032539844107894386, 0.4927462107766864, 0.44626071919398014, 1.0228974636003698, 1.0356836818953743, 0.5393787182196762, 0.22128357670550816, 0.004610074514698087, 0.23511380024960243, 1.0007457359690664, 0.00798221520841153, 0.0798221520841153, 0.5866928178182476, 0.323279715940667, 0.0031805722982706087, 0.09859774124638887, 0.898511674261447, 0.9667705144748101, 0.024169262861870253, 0.004028210476978375, 0.004028210476978375, 0.9906492183555508, 0.998154136676426, 0.25025348019417115, 0.38789289430096524, 0.012512674009708557, 0.3503548722718396, 0.3395050489105208, 0.3662076932068539, 0.1754745196616175, 0.1220692310689513, 1.0111171774124834, 1.1047292606883994, 1.020174192477557, 0.005838109933247428, 0.005838109933247428, 0.9866405787188154, 0.9772669337458969, 0.017451195245462445, 1.0161891370381915, 0.9872876289239618, 0.008159401891933569, 0.9989205634676078, 0.9986080100998146, 1.003450025387761, 0.977783644091193, 1.012668488964366, 0.11032840812812585, 0.293312109413798, 0.4709139371322445, 0.1264740288298028, 0.986365411328928, 0.977783644091193, 0.9625057746522679, 0.998154136676426, 1.074042336780388, 0.9666381031023494, 0.9841990307795576, 0.01968398061559115, 0.9981541366764262, 0.9178206116232971, 0.0849833899651201, 0.9863012212429506, 0.7017362982797868, 0.2599023326962173, 0.03638632657747043, 0.05204175320604366, 0.839173270447454, 0.11058872556284277, 0.990480395077681, 0.005627729517486824, 0.998154136676426, 0.9420588799848219, 0.0438166920923173, 1.0007457359690666, 0.3007708080434822, 0.0039061143901750937, 0.6913822470609916, 0.9964135033458238, 1.0161891370381915, 0.977783644091193, 0.004658621828274675, 0.9934511048795746, 0.0011646554570686688, 0.9871854098997621, 1.0007457359690666, 0.9872653475589259, 0.9342338647662644, 0.06280563796747995, 1.0185246292616592, 0.99182128789666, 0.01625936537535508, 0.09579432128966349, 0.09579432128966349, 0.6412897619669139, 0.1676400622569111, 1.0356836818953743, 0.3546303811588225, 0.644782511197859, 0.9564133054477097, 0.4078726414015816, 0.5758201996257623, 0.007997502772580031, 0.003998751386290016, 0.9684498010848978, 0.03339482072706544, 1.0356836818953743, 0.03136872003769222, 0.1829842002198713, 0.7476211608983313, 0.03659684004397426, 1.0042993278985448, 1.0042993278985448, 1.0126729116505162, 0.008234894694078466, 0.9881873632894159, 0.9979964926410883, 1.001160892498862, 0.6410941164485576, 0.005991533798584651, 0.04793227038867721, 0.30556822372781717, 0.060684573346403606, 0.14159733780827508, 0.7888994535032469, 0.6591723848855221, 0.3450355452135155, 0.16354063174795222, 0.8177031587397611, 0.8927514443397806, 0.10591966288777058, 1.0361144142350187, 0.13262349351190603, 0.10609879480952482, 0.7692162623690549, 0.011981019682471814, 0.005990509841235907, 0.8746144368204425, 0.10183866730101043, 0.986365411328928, 0.006319048167477439, 0.992090562293958, 0.7488203221235864, 0.25236485994220315, 0.986365411328928, 0.9090127581517669, 0.07620466236002836, 0.010886380337146909, 0.038490423438741254, 0.9622605859685314, 1.0007457359690666, 0.016515306873011507, 0.974403105507679, 1.017513792739315, 0.23935581135953168, 0.769357965084209, 0.9991984742269492, 0.0021350394748439086, 0.9439265355507146, 0.05363218951992696, 0.010726437903985392, 0.6424516615784559, 0.14859426186168367, 0.20540971492644508, 0.004370419466520108, 0.9981541366764262, 0.01724506140410938, 0.9139882544177973, 0.06898024561643752, 0.9381598203358016, 0.07036198652518512, 1.0007457359690666, 0.9564133054477097, 0.998154136676426, 1.0007457359690666, 0.21347249720705946, 0.1915778821088995, 0.5966282614248585, 0.3622229828970186, 0.014488919315880743, 0.623023530582872, 0.49435972625279156, 0.35986480072813504, 0.14539991948611516, 0.038030204855735064, 0.006338367475955844, 0.9539243051313545, 0.003169183737977922, 0.9904719228486519, 0.005502621793603622, 0.005502621793603622, 0.10135690244162855, 0.8932077027668517, 0.998551118127029, 1.0007457359690664, 1.0456852860419703, 0.1471473700561945, 0.09809824670412967, 0.7491138839224447, 0.004459011213824076, 0.9756820285356075, 0.029124836672704702, 0.9908188455301792, 0.011937576452170834, 0.9318220805980795, 0.01527577181308327, 0.06110308725233308, 0.47941516941715373, 0.4868288060576252, 0.034596970988866764, 0.9863654113289277, 0.9961126538580987, 1.020174192477557, 0.9742176726726708, 0.023956172278836167, 0.01082921824267259, 0.29780350167349623, 0.42775412058556733, 0.26531584694547844, 0.998154136676426, 0.9206077172403325, 1.0054601416245152, 0.9564133054477097, 0.8999989535333991, 0.09863002230503004, 1.0095242073372162, 0.07663888743232417, 0.15327777486464833, 0.7663888743232417, 0.4311587429942065, 0.28284013540419944, 0.21385473652512643, 0.06898539887907304, 0.9729472433032591, 0.9564133054477097, 0.08199912943506833, 0.040999564717534166, 0.37924597363719104, 0.5022446677897935, 0.4524523600169557, 0.16891554773966347, 0.3800599824142428, 0.49125186768805007, 0.11909136186376972, 0.02977284046594243, 0.36471729570779476, 0.998154136676426], \"Term\": [\"accommodation\", \"activity\", \"activity\", \"activity\", \"advance\", \"agency\", \"agent\", \"ambiance\", \"annapurna_massif\", \"annapurna_region\", \"architecture\", \"architecture\", \"arrange\", \"ascent\", \"backdrop\", \"backdrop\", \"band\", \"bank\", \"bank\", \"barahi\", \"beach\", \"beer\", \"beer\", \"beer\", \"beer\", \"beginner\", \"begna\", \"begna\", \"bench\", \"bench\", \"bench\", \"bike\", \"bike\", \"boat\", \"boat\", \"boatman\", \"body\", \"body\", \"body\", \"body\", \"bottom\", \"bottom\", \"break\", \"break\", \"breakfast\", \"breakfast\", \"breakfast\", \"bridge\", \"bridge\", \"brother\", \"bucket_list\", \"buddha\", \"building\", \"building\", \"bungee_jumping\", \"bustle\", \"bustling\", \"busyness\", \"buy\", \"buy\", \"buy\", \"cable\", \"cafe\", \"cafe\", \"cafe\", \"canoe\", \"canoe\", \"canyon\", \"capacity\", \"catch\", \"catch\", \"catching\", \"cavern\", \"ceiling\", \"ceiling\", \"celebration\", \"challenging\", \"chance\", \"chance\", \"chance\", \"chance\", \"chaos\", \"chaos\", \"chill\", \"chill\", \"chill\", \"claustrophobic\", \"climb\", \"climb\", \"climbing\", \"cloud\", \"combine\", \"concept\", \"construction\", \"construction\", \"construction\", \"contribution\", \"control\", \"cool_breeze\", \"corner\", \"corner\", \"cost\", \"cost\", \"cost\", \"cost\", \"cosy\", \"cottage\", \"court\", \"cove\", \"crawl\", \"craziness\", \"crowd\", \"crowd\", \"crowd\", \"cushion\", \"customer\", \"cycle\", \"cycling\", \"danger\", \"davi\", \"dawn\", \"decoration\", \"degree\", \"degree\", \"design\", \"dhampus\", \"dhaulagiri\", \"dream\", \"drink\", \"drink\", \"drink\", \"drinking\", \"drive\", \"drive\", \"dust\", \"dust\", \"eatery\", \"eatery\", \"engine\", \"enterance\", \"entrance\", \"entrance\", \"entrance\", \"entrance_fee\", \"entrance_fee\", \"entrance_fee\", \"entry\", \"entry\", \"escape\", \"exhibition\", \"expecting\", \"eye\", \"eye\", \"eye\", \"facility\", \"facility\", \"fall\", \"fall\", \"father\", \"fee\", \"fee\", \"fee\", \"fence\", \"fire\", \"fisherman\", \"fishing\", \"flash\", \"flashlight\", \"float\", \"floor\", \"floor\", \"flow\", \"force\", \"foreigner\", \"foreigner\", \"foreigner\", \"formation\", \"fun\", \"fun\", \"fun\", \"fun\", \"funding\", \"gallery\", \"garden\", \"garden\", \"gardener\", \"gear\", \"ghorepani\", \"give\", \"glide\", \"god\", \"gold\", \"gorge\", \"gorge\", \"ground\", \"ground\", \"ground\", \"guide\", \"guide\", \"guide\", \"guide\", \"guide_porter\", \"handicraft\", \"head\", \"head\", \"head\", \"head\", \"headlamp\", \"heart\", \"heart\", \"heart\", \"hike\", \"hike\", \"hike\", \"hill\", \"hill\", \"hire\", \"hire\", \"hire\", \"hire\", \"hole\", \"horn\", \"hotel\", \"hotel\", \"house\", \"house\", \"house\", \"hustle\", \"hustle_bustle\", \"hustle_bustle\", \"icy\", \"impressive\", \"improvement\", \"iron\", \"jacket\", \"jacket\", \"join\", \"joint\", \"juice\", \"kaiser\", \"kid\", \"kid\", \"kid\", \"kid\", \"knee\", \"lake\", \"lake\", \"lawn\", \"lay\", \"leg\", \"leg\", \"legend\", \"level\", \"level\", \"level\", \"level\", \"library\", \"lie\", \"lie\", \"lifetime\", \"lifetime\", \"litter\", \"litter\", \"litter\", \"location\", \"location\", \"location\", \"location\", \"lodge\", \"lodge\", \"lookout\", \"lovebird\", \"madness\", \"making\", \"man\", \"man\", \"man\", \"manicured_lawn\", \"masse\", \"mat\", \"mattress\", \"meal\", \"meal\", \"meditate\", \"metal\", \"meter\", \"meter\", \"meter\", \"meter\", \"midst\", \"million\", \"mobility\", \"moment\", \"moment\", \"moment\", \"moment\", \"money\", \"money\", \"money\", \"money\", \"mystery\", \"nayapul\", \"noise\", \"noise\", \"oasis\", \"observation\", \"opening\", \"opening\", \"option\", \"option\", \"option\", \"option\", \"outing\", \"paddle\", \"paddler\", \"pagoda\", \"pagoda\", \"pagoda\", \"paragliding\", \"paragliding\", \"paragliding\", \"park\", \"park\", \"park\", \"park\", \"passage\", \"passageway\", \"path\", \"path\", \"path\", \"path\", \"pavilion\", \"pay\", \"pay\", \"pay\", \"pay\", \"peace\", \"peace\", \"peace\", \"peak\", \"peak\", \"peak\", \"peak\", \"pedal\", \"periphery\", \"person\", \"person\", \"person\", \"person\", \"picture\", \"picture\", \"picture\", \"picture\", \"pier\", \"pile\", \"pilot\", \"plant\", \"plant\", \"plant\", \"pokhra\", \"pokhra\", \"pole\", \"pond\", \"pond\", \"poon_hill\", \"poonhill\", \"porter\", \"pray\", \"presence\", \"price\", \"price\", \"price\", \"price\", \"pricing\", \"pub\", \"quantity\", \"raft\", \"rail\", \"railing\", \"range\", \"range\", \"rapid\", \"rate\", \"rate\", \"ray\", \"reach\", \"reach\", \"reach\", \"reflection\", \"reflection\", \"reflection\", \"rent\", \"rent\", \"renting\", \"resort\", \"resort\", \"respite\", \"rest\", \"rest\", \"rest\", \"retreat\", \"rhododendron\", \"rice\", \"ride\", \"ride\", \"ride\", \"riding\", \"role\", \"rooftop\", \"route\", \"route\", \"rower\", \"rowing\", \"rowing\", \"rupee\", \"rupee\", \"rupee\", \"rupee\", \"rupees_per\", \"safety\", \"safety\", \"scenario\", \"scenery\", \"scenery\", \"scenery\", \"scenery\", \"scooter\", \"scooter\", \"series\", \"service\", \"service\", \"service\", \"service\", \"seti_gorge\", \"shiva\", \"shivapuri\", \"shore\", \"shore\", \"shower\", \"shrine\", \"sight\", \"sight\", \"sight\", \"sight\", \"sign\", \"sign\", \"sign\", \"sky\", \"sky\", \"slippery\", \"slippery\", \"snow\", \"snow\", \"snowy\", \"souvenir\", \"souvenir\", \"souvenir\", \"space\", \"space\", \"space\", \"space\", \"spirit\", \"squirrel\", \"squirrel\", \"stair\", \"stair\", \"stalagmite\", \"start\", \"start\", \"start\", \"station\", \"station\", \"stillness\", \"story\", \"story\", \"story_behind\", \"stream\", \"stream\", \"street\", \"street\", \"summit\", \"summit\", \"summit\", \"sun\", \"sun\", \"sun\", \"sun\", \"swim\", \"swimming\", \"swimming\", \"swimming\", \"taste\", \"taste\", \"tea\", \"teahouse\", \"teen\", \"thamal\", \"ticket\", \"ticket\", \"ticket\", \"torch\", \"torch\", \"torch\", \"tour\", \"tour\", \"tour\", \"traffic\", \"traffic\", \"traffic\", \"traffic\", \"trail\", \"trail\", \"trail\", \"tranquil\", \"tranquil\", \"tranquility\", \"tranquillity\", \"transportation\", \"tree\", \"tree\", \"tree\", \"tree\", \"trek\", \"trek\", \"trekker\", \"trekker\", \"trekking\", \"trekking\", \"trekking\", \"trip\", \"trip\", \"trip\", \"tunnel\", \"unwind\", \"video\", \"viewpoint\", \"viewpoint\", \"visitor\", \"visitor\", \"visitor\", \"visitor\", \"vist\", \"voice\", \"wake\", \"walker\", \"wall\", \"wall\", \"wander\", \"waste\", \"waste\", \"waste\", \"watch\", \"watch\", \"watch\", \"watch\", \"wifi_available\", \"woke\", \"work\", \"work\", \"work\", \"work\", \"world\", \"world\", \"world\", \"year\", \"year\", \"year\", \"year\", \"zip\"]}, \"R\": 30, \"lambda.step\": 0.01, \"plot.opts\": {\"xlab\": \"PC1\", \"ylab\": \"PC2\"}, \"topic.order\": [1, 2, 3, 4]};\n",
       "\n",
       "function LDAvis_load_lib(url, callback){\n",
       "  var s = document.createElement('script');\n",
       "  s.src = url;\n",
       "  s.async = true;\n",
       "  s.onreadystatechange = s.onload = callback;\n",
       "  s.onerror = function(){console.warn(\"failed to load library \" + url);};\n",
       "  document.getElementsByTagName(\"head\")[0].appendChild(s);\n",
       "}\n",
       "\n",
       "if(typeof(LDAvis) !== \"undefined\"){\n",
       "   // already loaded: just create the visualization\n",
       "   !function(LDAvis){\n",
       "       new LDAvis(\"#\" + \"ldavis_el1221403149890496807068489798\", ldavis_el1221403149890496807068489798_data);\n",
       "   }(LDAvis);\n",
       "}else if(typeof define === \"function\" && define.amd){\n",
       "   // require.js is available: use it to load d3/LDAvis\n",
       "   require.config({paths: {d3: \"https://cdnjs.cloudflare.com/ajax/libs/d3/3.5.5/d3.min\"}});\n",
       "   require([\"d3\"], function(d3){\n",
       "      window.d3 = d3;\n",
       "      LDAvis_load_lib(\"https://cdn.rawgit.com/bmabey/pyLDAvis/files/ldavis.v1.0.0.js\", function(){\n",
       "        new LDAvis(\"#\" + \"ldavis_el1221403149890496807068489798\", ldavis_el1221403149890496807068489798_data);\n",
       "      });\n",
       "    });\n",
       "}else{\n",
       "    // require.js not available: dynamically load d3 & LDAvis\n",
       "    LDAvis_load_lib(\"https://cdnjs.cloudflare.com/ajax/libs/d3/3.5.5/d3.min.js\", function(){\n",
       "         LDAvis_load_lib(\"https://cdn.rawgit.com/bmabey/pyLDAvis/files/ldavis.v1.0.0.js\", function(){\n",
       "                 new LDAvis(\"#\" + \"ldavis_el1221403149890496807068489798\", ldavis_el1221403149890496807068489798_data);\n",
       "            })\n",
       "         });\n",
       "}\n",
       "</script>"
      ],
      "text/plain": [
       "PreparedData(topic_coordinates=              x         y  topics  cluster       Freq\n",
       "topic                                                \n",
       "0     -0.185594 -0.045742       1        1  28.214586\n",
       "1     -0.055320 -0.181130       2        1  26.500957\n",
       "2      0.295423 -0.017555       3        1  32.390915\n",
       "3     -0.054509  0.244427       4        1  12.893544, topic_info=         Term        Freq       Total Category  logprob  loglift\n",
       "417      ride  858.000000  858.000000  Default  30.0000  30.0000\n",
       "905     oasis  582.000000  582.000000  Default  29.0000  29.0000\n",
       "1672     boat  470.000000  470.000000  Default  28.0000  28.0000\n",
       "814     dream  509.000000  509.000000  Default  27.0000  27.0000\n",
       "490    street  468.000000  468.000000  Default  26.0000  26.0000\n",
       "...       ...         ...         ...      ...      ...      ...\n",
       "43       path   50.691153  216.916234   Topic4  -5.0486   0.5947\n",
       "39    visitor   48.518675  184.685538   Topic4  -5.0924   0.7117\n",
       "148      cost   45.622038  215.928307   Topic4  -5.1539   0.4939\n",
       "121     price   47.070356  371.617797   Topic4  -5.1227  -0.0178\n",
       "125    ground   41.277082  158.606760   Topic4  -5.2540   0.7023\n",
       "\n",
       "[366 rows x 6 columns], token_table=      Topic      Freq           Term\n",
       "term                                \n",
       "1335      1  0.995451  accommodation\n",
       "427       1  0.035631       activity\n",
       "427       2  0.954130       activity\n",
       "427       3  0.007918       activity\n",
       "377       1  0.997996        advance\n",
       "...     ...       ...            ...\n",
       "157       1  0.491252           year\n",
       "157       2  0.119091           year\n",
       "157       3  0.029773           year\n",
       "157       4  0.364717           year\n",
       "1551      2  0.998154            zip\n",
       "\n",
       "[569 rows x 3 columns], R=30, lambda_step=0.01, plot_opts={'xlab': 'PC1', 'ylab': 'PC2'}, topic_order=[1, 2, 3, 4])"
      ]
     },
     "execution_count": 58,
     "metadata": {
      "tags": []
     },
     "output_type": "execute_result"
    }
   ],
   "source": [
    "import pyLDAvis.gensim\n",
    "pyLDAvis.enable_notebook()\n",
    "vis = pyLDAvis.gensim.prepare(lda_model, corpus, dictionary=lda_model.id2word,sort_topics=False)\n",
    "vis"
   ]
  },
  {
   "cell_type": "code",
   "execution_count": 0,
   "metadata": {
    "colab": {},
    "colab_type": "code",
    "id": "ps66wnPGoCtJ"
   },
   "outputs": [],
   "source": [
    "pyLDAvis.save_html(vis,'/content/drive/My Drive/Thesis/python code/nature&parks/vis.html')"
   ]
  },
  {
   "cell_type": "code",
   "execution_count": 23,
   "metadata": {
    "colab": {
     "base_uri": "https://localhost:8080/",
     "height": 955
    },
    "colab_type": "code",
    "executionInfo": {
     "elapsed": 1922,
     "status": "ok",
     "timestamp": 1590206718256,
     "user": {
      "displayName": "Shikshya Dahal",
      "photoUrl": "",
      "userId": "13672899809593533424"
     },
     "user_tz": -420
    },
    "id": "sRS9keKdGu2Y",
    "outputId": "c0ef6875-6781-4454-ced1-1a1e5d13c505"
   },
   "outputs": [
    {
     "data": {
      "image/png": "[encoded data removed]",
      "text/plain": [
       "<Figure size 360x1800 with 4 Axes>"
      ]
     },
     "metadata": {
      "needs_background": "light",
      "tags": []
     },
     "output_type": "display_data"
    }
   ],
   "source": [
    "fiz=plt.figure(figsize=(5,25))\n",
    "for i in range(4):\n",
    "    df=pd.DataFrame(lda_model.show_topic(i), columns=['term','prob']).set_index('term')\n",
    "    # df=df.sort_values('prob')\n",
    "    \n",
    "    plt.subplot(6,1,i+1)\n",
    "    # plt.title('topic '+str(i+1))\n",
    "    sns.barplot(x='prob', y=df.index, data=df, label='Cities', palette='Reds_d')\n",
    "    plt.xlabel('probability')\n",
    "    \n",
    "\n",
    "plt.show()"
   ]
  },
  {
   "cell_type": "code",
   "execution_count": 0,
   "metadata": {
    "colab": {},
    "colab_type": "code",
    "id": "VeQspnRp0teF"
   },
   "outputs": [],
   "source": []
  }
 ],
 "metadata": {
  "colab": {
   "authorship_tag": "ABX9TyNVFmlj7qSstiHwTYUwqr89",
   "collapsed_sections": [],
   "name": "Implementation_nature.ipynb",
   "provenance": [
    {
     "file_id": "1l6XJ9GIif8-HAtxh4CGtU3BISwwrkeAj",
     "timestamp": 1583923575295
    }
   ]
  },
  "kernelspec": {
   "display_name": "Python 3",
   "language": "python",
   "name": "python3"
  },
  "language_info": {
   "codemirror_mode": {
    "name": "ipython",
    "version": 3
   },
   "file_extension": ".py",
   "mimetype": "text/x-python",
   "name": "python",
   "nbconvert_exporter": "python",
   "pygments_lexer": "ipython3",
   "version": "3.6.8"
  }
 },
 "nbformat": 4,
 "nbformat_minor": 1
}
